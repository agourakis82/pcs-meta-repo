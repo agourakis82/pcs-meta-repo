{
 "cells": [
  {
   "cell_type": "markdown",
   "id": "c720edc0",
   "metadata": {},
   "source": [
    "# Notebook 03: AG5 Metrics\n",
    "Calcula métricas KEC (entropia + curvatura + coerência)."
   ]
  },
  {
   "cell_type": "code",
   "execution_count": null,
   "id": "486b523d",
   "metadata": {},
   "outputs": [],
   "source": [
    "\"\"\"Run-All cell\"\"\"\n",
    "import random, numpy as np\n",
    "random.seed(42)\n",
    "np.random.seed(42)"
   ]
  },
  {
   "cell_type": "code",
   "execution_count": null,
   "id": "73d2d799",
   "metadata": {},
   "outputs": [],
   "source": [
    "from pathlib import Path\n",
    "import pandas as pd\n",
    "import networkx as nx\n",
    "import numpy as np\n",
    "import math\n",
    "import yaml"
   ]
  },
  {
   "cell_type": "code",
   "execution_count": null,
   "id": "d9f1a70a",
   "metadata": {},
   "outputs": [],
   "source": [
    "processed_swow = Path(\"../data/processed/swow/en/swow_en_tidy.csv\")\n",
    "processed_swow.parent.mkdir(parents=True, exist_ok=True)\n",
    "df = pd.read_csv(processed_swow)\n",
    "G = nx.from_pandas_edgelist(df, \"cue\", \"response\", [\"weight\"], create_using=nx.DiGraph())"
   ]
  },
  {
   "cell_type": "code",
   "execution_count": null,
   "id": "798a0c6c",
   "metadata": {},
   "outputs": [],
   "source": [
    "def transition_entropy(G):\n",
    "    ent = {}\n",
    "    for n in G.nodes:\n",
    "        weights = np.array([d[\"weight\"] for _,_,d in G.out_edges(n, data=True)])\n",
    "        if weights.size == 0:\n",
    "            ent[n]=0.0\n",
    "            continue\n",
    "        p = weights / weights.sum()\n",
    "        ent[n] = float(-(p * np.log(p)).sum())\n",
    "    return ent"
   ]
  },
  {
   "cell_type": "code",
   "execution_count": null,
   "id": "2cb1e946",
   "metadata": {},
   "outputs": [],
   "source": [
    "def forman_curvature(G):\n",
    "    curv = {}\n",
    "    for u,v,data in G.edges(data=True):\n",
    "        curv[u] = curv.get(u,0)+1\n",
    "        curv[v] = curv.get(v,0)+1\n",
    "    return curv"
   ]
  },
  {
   "cell_type": "code",
   "execution_count": null,
   "id": "163a6377",
   "metadata": {},
   "outputs": [],
   "source": [
    "def community_coherence(G):\n",
    "    from networkx.algorithms import community\n",
    "    comms = community.greedy_modularity_communities(G.to_undirected())\n",
    "    mapping = {}\n",
    "    for i,c in enumerate(comms):\n",
    "        for n in c:\n",
    "            mapping[n]=i\n",
    "    return mapping"
   ]
  },
  {
   "cell_type": "code",
   "execution_count": null,
   "id": "3c99fc03",
   "metadata": {},
   "outputs": [],
   "source": [
    "entropy = transition_entropy(G)\n",
    "curv = forman_curvature(G)\n",
    "comm = community_coherence(G)\n",
    "metrics = []\n",
    "for n in G.nodes:\n",
    "    metrics.append({\"node\": n, \"entropy\": entropy.get(n,0.0), \"curvature\": curv.get(n,0.0), \"community\": comm.get(n, -1), \"kec\": entropy.get(n,0.0)+curv.get(n,0.0)})\n",
    "metrics_df = pd.DataFrame(metrics)\n",
    "out_dir = Path(\"../data/processed/kec\")\n",
    "out_dir.mkdir(parents=True, exist_ok=True)\n",
    "metrics_df.to_csv(out_dir/\"metrics_en.csv\", index=False)"
   ]
  }
 ],
 "metadata": {
  "kernelspec": {
   "display_name": "Python 3",
   "language": "python",
   "name": "python3"
  }
 },
 "nbformat": 4,
 "nbformat_minor": 5
}
