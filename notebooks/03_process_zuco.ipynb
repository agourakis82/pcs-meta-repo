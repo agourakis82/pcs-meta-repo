{
 "cells": [
  {
   "cell_type": "markdown",
   "id": "edb2e352",
   "metadata": {},
   "source": [
    "# PCS‑HELIO v4.3 — 03 · Process ZuCo (v1+v2)\n",
    "Reproducible ET+EEG token table. Data contract: writes `data/processed/zuco_aligned.csv` and `reports/zuco_loader_qa.json`."
   ]
  },
  {
   "cell_type": "code",
   "execution_count": null,
   "id": "3c5dac80",
   "metadata": {},
   "outputs": [],
   "source": [
    "from pathlib import Path; import sys, os, json, numpy as np, pandas as pd\n",
    "from notebooks._fragments import apply_style, preflight_checks, print_contract, qa_assertions, save_manifest\n",
    "np.random.seed(1234)\n",
    "RUN_MODE = os.environ.get('RUN_MODE','sample')  # or 'full'\n",
    "apply_style(); preflight_checks(); print_contract()\n",
    "BASE = Path('.') ; DATA = BASE/'data' ; RAW = DATA/'raw_public' ; PROC = DATA/'processed' ; RPTS = BASE/'reports'\n",
    "PROC.mkdir(parents=True, exist_ok=True); RPTS.mkdir(parents=True, exist_ok=True)\n"
   ]
  },
  {
   "cell_type": "code",
   "execution_count": null,
   "id": "d6a0496f",
   "metadata": {},
   "outputs": [],
   "source": [
    "# Prefer existing processed CSV; else auto-discover; else full loader; else synthetic sample in 'sample' mode\n",
    "aligned = PROC/'zuco_aligned.csv'\n",
    "df, qa = None, {}\n",
    "if aligned.exists():\n",
    "    try:\n",
    "        d = pd.read_csv(aligned)\n",
    "        if len(d) > 0:\n",
    "            df = d; qa = {'source':'existing','rows': int(len(df))}\n",
    "    except Exception as e:\n",
    "        print('[warn] Failed to read existing', aligned, e)\n",
    "if df is None:\n",
    "    try:\n",
    "        sys.path.insert(0, str((BASE/'tools').resolve()))\n",
    "        from auto_discover_zuco import load_first_existing, harmonize\n",
    "        base = load_first_existing([\n",
    "            PROC/'zuco_word_level_all_subjects.csv',\n",
    "            PROC/'zuco_word_level_ZKW.csv',\n",
    "            PROC/'zuco_v1_aligned.csv',\n",
    "            PROC/'zuco_aligned_real_et_eeg.csv',\n",
    "        ])\n",
    "        if base is not None and not base.empty:\n",
    "            df = harmonize(base)\n",
    "            df.to_csv(aligned, index=False)\n",
    "            qa = {'source':'auto_discover','rows': int(len(df))}\n",
    "            (RPTS/'zuco_loader_qa.json').write_text(json.dumps(qa, indent=2))\n",
    "    except Exception as e:\n",
    "        print('[warn] Auto-discover failed:', e)\n",
    "if df is None and RUN_MODE == 'full':\n",
    "    try:\n",
    "        sys.path.insert(0, str((BASE/'src').resolve()))\n",
    "        from pcs_toolbox.zuco import load_all\n",
    "        df, qa = load_all(write_outputs=True)\n",
    "    except Exception as e:\n",
    "        print('[error] Full loader failed:', e)\n",
    "if df is None and RUN_MODE == 'sample':\n",
    "    # Synthetic 5-row sample to keep CI green\n",
    "    df = pd.DataFrame({\n",
    "        'Dataset':['v1']*5,'Task':['SR']*5,'Subject':['Z01']*5,\n",
    "        'SentenceID':[1,1,1,1,1],'w_pos':[1,2,3,4,5],\n",
    "        'token':['The','cat','sat','on','mat'],\n",
    "        'token_norm':['the','cat','sat','on','mat'],\n",
    "        'FFD':[120,80,70,60,50],'GD':[150,100,90,70,60],'TRT':[200,150,140,120,110],'GPT':[210,160,150,140,130],\n",
    "        'theta1':[np.nan]*5,'alpha1':[np.nan]*5,'beta1':[np.nan]*5,'gamma1':[np.nan]*5\n",
    "    })\n",
    "    df.to_csv(aligned, index=False)\n",
    "    qa = {'source':'synthetic','rows': int(len(df))}\n",
    "    (RPTS/'zuco_loader_qa.json').write_text(json.dumps(qa, indent=2))\n",
    "print('Rows:', 0 if df is None else len(df))\n",
    "display(df.head(10))\n",
    "# QA assertions\n",
    "if df is not None and len(df)>0:\n",
    "    qa_assertions(df, {\n",
    "        'required_cols': ['Dataset','Task','Subject','SentenceID','w_pos','token','token_norm'],\n",
    "        'min_rows': 5 if RUN_MODE=='sample' else 50\n",
    "    })\n",
    "    save_manifest(RPTS/'zuco_manifest.json', { 'rows': int(len(df)), 'cols': list(df.columns) })\n"
   ]
  },
  {
   "cell_type": "code",
   "execution_count": null,
   "id": "f2a4bf4e",
   "metadata": {},
   "outputs": [],
   "source": [
    "# Print minimal QA summary if available\n",
    "try:\n",
    "    qa_path = RPTS/'zuco_loader_qa.json'\n",
    "    if qa_path.exists():\n",
    "        print(qa_path.read_text())\n",
    "    elif 'qa' in globals():\n",
    "        print(json.dumps(qa.get('summary', qa), indent=2))\n",
    "except Exception as e:\n",
    "    print('[warn] No QA available:', e)\n"
   ]
  }
 ],
 "metadata": {
  "kernelspec": {
   "display_name": "pcs-llm",
   "language": "python",
   "name": "python3"
  },
  "language_info": {
   "name": "python",
   "version": "3.11.13"
  }
 },
 "nbformat": 4,
 "nbformat_minor": 5
}
