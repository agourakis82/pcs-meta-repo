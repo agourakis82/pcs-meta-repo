{
 "cells": [
  {
   "cell_type": "markdown",
   "id": "60875f40",
   "metadata": {},
   "source": [
    "# Notebook 01: SWOW Loader\n",
    "Carrega dados do *Small World of Words* usando streaming."
   ]
  },
  {
   "cell_type": "code",
   "execution_count": null,
   "id": "42c43389",
   "metadata": {},
   "outputs": [],
   "source": [
    "\"\"\"Run-All cell\"\"\"\n",
    "import random, numpy as np\n",
    "random.seed(42)\n",
    "np.random.seed(42)"
   ]
  },
  {
   "cell_type": "code",
   "execution_count": null,
   "id": "11a6eebd",
   "metadata": {},
   "outputs": [],
   "source": [
    "from pathlib import Path\n",
    "import pandas as pd\n",
    "import hashlib\n",
    "import yaml"
   ]
  },
  {
   "cell_type": "code",
   "execution_count": null,
   "id": "c0a32eef",
   "metadata": {},
   "outputs": [],
   "source": [
    "raw_dir = Path(\"../data/raw_public/swow/en\")\n",
    "processed_dir = Path(\"../data/processed/swow/en\")\n",
    "processed_dir.mkdir(parents=True, exist_ok=True)\n",
    "chunks = pd.read_csv(raw_dir / \"swow_en.csv\", chunksize=10000, dtype=str)\n",
    "df = pd.concat(chunks)\n",
    "df.to_csv(processed_dir / \"swow_en_tidy.csv\", index=False)\n",
    "sha = hashlib.sha256((processed_dir / \"swow_en_tidy.csv\").read_bytes()).hexdigest()\n",
    "prov = {\"source\": str(raw_dir), \"generated\": str(processed_dir / \"swow_en_tidy.csv\"), \"sha256\": sha}\n",
    "with open(processed_dir / \"provenance.yaml\", \"w\") as fh: yaml.safe_dump(prov, fh)"
   ]
  }
 ],
 "metadata": {
  "kernelspec": {
   "display_name": "Python 3",
   "language": "python",
   "name": "python3"
  }
 },
 "nbformat": 4,
 "nbformat_minor": 5
}
