{
 "cells": [
  {
   "cell_type": "markdown",
   "id": "102ae6ab",
   "metadata": {},
   "source": [
    "# SWOW Loader — Smoke Stub\n",
    "Author: Demetrios Agourakis (ORCID 0000-0002-8596-5097)\n",
    "Concept DOI: 10.5281/zenodo.16921951 — Version DOI: 10.5281/zenodo.17053446\n",
    "License: Code MIT; Text CC BY 4.0\n"
   ]
  },
  {
   "cell_type": "code",
   "execution_count": null,
   "id": "1031f781",
   "metadata": {},
   "outputs": [],
   "source": [
    "# Deterministic environment & smoke output (no external deps)\n",
    "import os, sys, json, platform, random\n",
    "random.seed(42)\n",
    "os.makedirs('data/processed', exist_ok=True)\n",
    "out = {\"ok\": True, \"notebook\": \"01_swow_loader\", \"python\": sys.version.split()[0]}\n",
    "with open('data/processed/_stub_swow.json','w') as f: json.dump(out, f)\n",
    "print('stub written:', 'data/processed/_stub_swow.json')\n"
   ]
  },
  {
   "cell_type": "code",
   "execution_count": null,
   "id": "91ab1bfd",
   "metadata": {},
   "outputs": [],
   "source": [
    "# Provenance & Environment\n",
    "print('Python', platform.python_version())\n",
    "print('Platform', platform.platform())\n"
   ]
  }
 ],
 "metadata": {
  "kernelspec": {
   "display_name": "Python 3",
   "language": "python",
   "name": "python3"
  },
  "language_info": {
   "name": "python",
   "version": "3.11"
  }
 },
 "nbformat": 4,
 "nbformat_minor": 5
}
