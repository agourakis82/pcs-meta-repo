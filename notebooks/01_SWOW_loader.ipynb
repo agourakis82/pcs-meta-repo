{
 "cells": [
  {
   "cell_type": "markdown",
   "metadata": {},
   "source": [
    "# PCS‑HELIO v4.3 — 01 · SWOW Loader (Deprecated)\n",
    "This notebook is deprecated. Please use `notebooks/01_build_swow_graph.ipynb` for the canonical SWOW pipeline."
   ]
  },
  {
   "cell_type": "code",
   "execution_count": null,
   "metadata": {},
   "outputs": [],
   "source": [
    "from notebooks._fragments import apply_style, print_contract\n",
    "apply_style(); print_contract()\n",
    "print('Deprecated: use notebooks/01_build_swow_graph.ipynb')\n",
    "# Safely stop execution to avoid confusion\n",
    "import sys; sys.exit(0)\n"
   ]
  }
 ],
 "metadata": {
  "kernelspec": {"display_name": "Python 3", "language": "python", "name": "python3"},
  "language_info": {"name": "python", "version": "3.11"}
 },
 "nbformat": 4,
 "nbformat_minor": 5
}
