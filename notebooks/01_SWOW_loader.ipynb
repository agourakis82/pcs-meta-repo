{
 "cells": [
  {
   "cell_type": "markdown",
   "id": "c867d653",
   "metadata": {},
   "source": [
    "# PCS‑HELIO v4.3 — 01 · SWOW Loader (Deprecated)\n",
    "This notebook is deprecated. Please use `notebooks/01_build_swow_graph.ipynb` for the canonical SWOW pipeline."
   ]
  },
  {
   "cell_type": "code",
   "execution_count": null,
   "id": "104229ba",
   "metadata": {},
   "outputs": [],
   "source": [
    "from notebooks._fragments import apply_style, print_contract\n",
    "apply_style(); print_contract()\n",
    "print('Deprecated: use notebooks/01_build_swow_graph.ipynb')\n",
    "# Safely stop execution to avoid confusion\n",
    "import sys; sys.exit(0)\n"
   ]
  }
 ],
 "metadata": {
  "kernelspec": {
   "display_name": "pcs-llm",
   "language": "python",
   "name": "python3"
  },
  "language_info": {
   "name": "python",
   "version": "3.11.13"
  }
 },
 "nbformat": 4,
 "nbformat_minor": 5
}
