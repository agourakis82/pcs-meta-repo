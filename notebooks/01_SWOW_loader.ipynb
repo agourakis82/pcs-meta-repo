{
 "cells": [
  {
   "cell_type": "markdown",
   "id": "b21e690c",
   "metadata": {},
   "source": [
    "# Notebook 01: SWOW Data Loader\n",
    "This notebook ingests the *Small World of Words* (SWOW) dataset, building a directed word-association graph.\n",
    "- **Input:** Raw SWOW data files (e.g., `data/raw_public/swow/en/` for English, containing cue-response records).\n",
    "- **Output:** Graph structures for each language (networkx graphs), summary statistics, and provenance (e.g., `provenance.yaml`).\n",
    "- **Steps:** Load SWOW responses, construct a directed graph of word associations, and compute basic metrics (node count, edge count, degree distribution) for validation.\n",
    "- *Reproducibility:* Set a fixed random seed for any sampling (if applicable) and log dataset version/URL."
   ]
  },
  {
   "cell_type": "code",
   "execution_count": 3,
   "id": "37046d37",
   "metadata": {},
   "outputs": [
    {
     "name": "stdout",
     "output_type": "stream",
     "text": [
      "Loaded 1356362 association responses from SWOW-EN.\n"
     ]
    }
   ],
   "source": [
    "# Import required libraries\n",
    "import pandas as pd\n",
    "import networkx as nx\n",
    "import numpy as np\n",
    "import os\n",
    "\n",
    "# Parameters\n",
    "LANG = 'en'  # example: English language\n",
    "raw_dir = os.path.join(os.getcwd(), '..', 'data', 'raw_public', 'swow', LANG)\n",
    "file_name = 'SWOW-EN.complete.20180827.csv'  # raw data file (all three responses)\n",
    "\n",
    "# Load SWOW raw data\n",
    "swow_df = pd.read_csv(os.path.join(raw_dir, file_name), sep=',')\n",
    "print(f\"Loaded {len(swow_df)} association responses from SWOW-{LANG.upper()}.\")"
   ]
  },
  {
   "cell_type": "code",
   "execution_count": 8,
   "id": "e088c1c6",
   "metadata": {},
   "outputs": [
    {
     "name": "stdout",
     "output_type": "stream",
     "text": [
      "Graph constructed: 166540 nodes, 1537892 edges.\n",
      "Average degree: 18.47\n"
     ]
    }
   ],
   "source": [
    "# Build directed graph from SWOW data\n",
    "G = nx.DiGraph()\n",
    "# Assuming swow_df has columns: Cue, R1, R2, R3 for responses\n",
    "for idx, row in swow_df.iterrows():\n",
    "    cue = row['cue'] if 'cue' in row else row[0]\n",
    "    if pd.isna(cue):\n",
    "        continue\n",
    "    cue = str(cue).strip()\n",
    "    # Add edges for each response (first response R1 given most weight perhaps)\n",
    "    for resp_col in ['R1', 'R2', 'R3']:\n",
    "        if resp_col in row and not pd.isna(row[resp_col]):\n",
    "            response = str(row[resp_col]).strip()\n",
    "            if response:\n",
    "                # Increment weight if edge exists\n",
    "                if G.has_edge(cue, response):\n",
    "                    G[cue][response]['weight'] += 1\n",
    "                else:\n",
    "                    G.add_edge(cue, response, weight=1)\n",
    "\n",
    "# Graph summary\n",
    "print(f\"Graph constructed: {G.number_of_nodes()} nodes, {G.number_of_edges()} edges.\")\n",
    "degree_sequence = [deg for _, deg in G.degree()]\n",
    "print(f\"Average degree: {np.mean(degree_sequence):.2f}\")"
   ]
  },
  {
   "cell_type": "code",
   "execution_count": 9,
   "id": "64ab6730",
   "metadata": {},
   "outputs": [
    {
     "name": "stdout",
     "output_type": "stream",
     "text": [
      "Graph saved to /home/agourakis82/workspace/pcs-meta-repo/notebooks/../data/processed/swow_graph_en.pkl\n"
     ]
    }
   ],
   "source": [
    "# Save the graph for use in other notebooks\n",
    "import pickle\n",
    "processed_dir = os.path.join(os.getcwd(), '..', 'data', 'processed')\n",
    "os.makedirs(processed_dir, exist_ok=True)\n",
    "graph_file = os.path.join(processed_dir, f'swow_graph_{LANG}.pkl')\n",
    "with open(graph_file, 'wb') as f:\n",
    "    pickle.dump(G, f)\n",
    "print(f\"Graph saved to {graph_file}\")"
   ]
  },
  {
   "cell_type": "code",
   "execution_count": null,
   "id": "3dcd0d19",
   "metadata": {},
   "outputs": [],
   "source": [
    "# Save the graph for use in other notebooks\n",
    "import pickle\n",
    "processed_dir = os.path.join(os.getcwd(), '..', 'data', 'processed')\n",
    "os.makedirs(processed_dir, exist_ok=True)\n",
    "graph_file = os.path.join(processed_dir, f'swow_graph_{LANG}.gpickle')\n",
    "nx.write_gpickle(G, graph_file)\n",
    "print(f\"Graph saved to {graph_file}\")"
   ]
  }
 ],
 "metadata": {
  "kernelspec": {
   "display_name": "pcs-llm",
   "language": "python",
   "name": "python3"
  },
  "language_info": {
   "codemirror_mode": {
    "name": "ipython",
    "version": 3
   },
   "file_extension": ".py",
   "mimetype": "text/x-python",
   "name": "python",
   "nbconvert_exporter": "python",
   "pygments_lexer": "ipython3",
   "version": "3.11.13"
  }
 },
 "nbformat": 4,
 "nbformat_minor": 5
}
