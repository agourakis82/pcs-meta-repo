{
 "cells": [
  {
   "cell_type": "markdown",
   "id": "b21e690c",
   "metadata": {},
   "source": [
    "# Notebook 01: SWOW Data Loader\n",
    "This notebook ingests the *Small World of Words* (SWOW) dataset, building a directed word-association graph.\n",
    "- **Input:** Raw SWOW data files (e.g., `data/raw_public/swow/en/` for English, containing cue-response records).\n",
    "- **Output:** Graph structures for each language (networkx graphs), summary statistics, and provenance (e.g., `provenance.yaml`).\n",
    "- **Steps:** Load SWOW responses, construct a directed graph of word associations, and compute basic metrics (node count, edge count, degree distribution) for validation.\n",
    "- *Reproducibility:* Set a fixed random seed for any sampling (if applicable) and log dataset version/URL."
   ]
  },
  {
   "cell_type": "code",
   "execution_count": 1,
   "id": "37046d37",
   "metadata": {},
   "outputs": [],
   "source": [
    "# Import required libraries\n",
    "import pandas as pd\n",
    "import networkx as nx\n",
    "import numpy as np\n",
    "import os\n",
    "\n",
    "# Parameters\n",
    "LANG = 'en'  # example: English language\n",
    "raw_dir = f'data/raw_public/swow/{LANG}/'\n",
    "file_name = 'SWOW-EN.R123.csv'  # raw data file (all three responses)\n",
    "\n",
    "# Load SWOW raw data\n",
    "swow_df = pd.read_csv(os.path.join(raw_dir, file_name), sep='\\t')\n",
    "print(f\"Loaded {len(swow_df)} association responses from SWOW-{LANG.upper()}.\")"
   ]
  },
  {
   "cell_type": "code",
   "execution_count": 2,
   "id": "e088c1c6",
   "metadata": {},
   "outputs": [],
   "source": [
    "# Build directed graph from SWOW data\n",
    "G = nx.DiGraph()\n",
    "# Assuming swow_df has columns: Cue, R1, R2, R3 for responses\n",
    "for idx, row in swow_df.iterrows():\n",
    "    cue = row['cue'] if 'cue' in row else row[0]\n",
    "    # Add edges for each response (first response R1 given most weight perhaps)\n",
    "    for resp_col in ['R1', 'R2', 'R3']:\n",
    "        if resp_col in row and not pd.isna(row[resp_col]):\n",
    "            response = row[resp_col]\n",
    "            # Increment weight if edge exists\n",
    "            if G.has_edge(cue, response):\n",
    "                G[cue][response]['weight'] += 1\n",
    "            else:\n",
    "                G.add_edge(cue, response, weight=1)\n",
    "\n",
    "# Graph summary\n",
    "print(f\"Graph constructed: {G.number_of_nodes()} nodes, {G.number_of_edges()} edges.\")\n",
    "degree_sequence = [deg for _, deg in G.degree()]\n",
    "print(f\"Average degree: {np.mean(degree_sequence):.2f}\")"
   ]
  }
 ],
 "metadata": {
  "language_info": {
   "name": "python"
  }
 },
 "nbformat": 4,
 "nbformat_minor": 5
}
