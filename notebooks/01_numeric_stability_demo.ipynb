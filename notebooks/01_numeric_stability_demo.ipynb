{
 "cells": [
  {
   "cell_type": "markdown",
   "metadata": {},
   "source": [
    "# Numerical Stability Demo (QR vs SVD vs Normal Equations)\n",
    "\n",
    "Synthetic demonstration comparing least-squares solvers on well- and ill-conditioned systems."
   ]
  },
  {
   "cell_type": "code",
   "execution_count": null,
   "metadata": {},
   "outputs": [],
   "source": [
    "import sys, os, time\n",
    "import numpy as np\n",
    "import matplotlib.pyplot as plt\n",
    "\n",
    "# Ensure 'src' is importable\n",
    "repo_root = os.path.abspath(os.path.join(os.getcwd()))\n",
    "if os.path.isdir(os.path.join(repo_root, 'src')) and repo_root not in sys.path:\n",
    "    sys.path.insert(0, repo_root)\n",
    "\n",
    "from src.pcs_math.qr_householder import solve_via_qr\n",
    "from src.pcs_math.svd_solve import svd_solve\n",
    "from src.pcs_math.kahan import kahan_sum\n",
    "np.set_printoptions(precision=4, suppress=True)\n",
    "np.random.seed(0)"
   ]
  },
  {
   "cell_type": "markdown",
   "metadata": {},
   "source": [
    "## LSQ on a well-conditioned system"
   ]
  },
  {
   "cell_type": "code",
   "execution_count": null,
   "metadata": {},
   "outputs": [],
   "source": [
    "m, n = 100, 20\n",
    "A = np.random.randn(m, n)\n",
    "x_true = np.random.randn(n)\n",
    "b = A @ x_true + 1e-10 * np.random.randn(m)\n",
    "\n",
    "x_qr = solve_via_qr(A, b)\n",
    "x_svd, info = svd_solve(A, b, return_info=True)\n",
    "x_np = np.linalg.lstsq(A, b, rcond=None)[0]\n",
    "\n",
    "print('well-conditioned residuals:')\n",
    "for name, x in [('qr', x_qr), ('svd', x_svd), ('np', x_np)]:\n",
    "    r = np.linalg.norm(A @ x - b)\n",
    "    print(f'  {name}: {r:.2e}')"
   ]
  },
  {
   "cell_type": "markdown",
   "metadata": {},
   "source": [
    "## LSQ on an ill-conditioned system"
   ]
  },
  {
   "cell_type": "code",
   "execution_count": null,
   "metadata": {},
   "outputs": [],
   "source": [
    "U = np.random.randn(n, n)\n",
    "V = np.random.randn(n, n)\n",
    "s = np.logspace(0, -12, n)\n",
    "A_ill = U @ np.diag(s) @ V.T\n",
    "x_true2 = np.random.randn(n)\n",
    "b2 = A_ill @ x_true2\n",
    "\n",
    "# Normal equations (unstable)\n",
    "AtA = A_ill.T @ A_ill\n",
    "Atb = A_ill.T @ b2\n",
    "try:\n",
    "    x_ne = np.linalg.solve(AtA, Atb)\n",
    "except np.linalg.LinAlgError:\n",
    "    x_ne = np.linalg.lstsq(AtA, Atb, rcond=None)[0]\n",
    "\n",
    "x_qr2 = solve_via_qr(A_ill, b2)\n",
    "x_svd2, info2 = svd_solve(A_ill, b2, rcond=1e-10, return_info=True)\n",
    "\n",
    "errs = {\n",
    "    'normal_eq': np.linalg.norm(x_ne - x_true2),\n",
    "    'qr': np.linalg.norm(x_qr2 - x_true2),\n",
    "    'svd': np.linalg.norm(x_svd2 - x_true2),\n",
    "}\n",
    "errs"
   ]
  },
  {
   "cell_type": "markdown",
   "metadata": {},
   "source": [
    "## Kahan summation vs naive\n",
    "Large + many tiny numbers."
   ]
  },
  {
   "cell_type": "code",
   "execution_count": null,
   "metadata": {},
   "outputs": [],
   "source": [
    "large = 1.0\n",
    "small = 1e-10\n",
    "N = 100000\n",
    "x = np.array([large] + [small]*N)\n",
    "expected = large + N*small\n",
    "naive = float(sum(x))\n",
    "numpy_sum = float(np.sum(x))\n",
    "kahan = float(kahan_sum(x))\n",
    "print('abs error naive   ', abs(naive-expected))\n",
    "print('abs error numpy   ', abs(numpy_sum-expected))\n",
    "print('abs error kahan   ', abs(kahan-expected))"
   ]
  }
 ],
 "metadata": {
  "kernelspec": {
   "display_name": "Python 3",
   "language": "python",
   "name": "python3"
  },
  "language_info": {
   "name": "python",
   "version": "3.10"
  }
 },
 "nbformat": 4,
 "nbformat_minor": 5
}

