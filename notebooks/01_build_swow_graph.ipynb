{
 "cells": [
  {
   "cell_type": "markdown",
   "id": "d10e8e1c",
   "metadata": {},
   "source": [
    "# 01 — Build SWOW Graph\n",
    "Ingest SWOW CSV → build igraph; save quick QA."
   ]
  },
  {
   "cell_type": "code",
   "execution_count": 6,
   "id": "a707cf6b",
   "metadata": {},
   "outputs": [
    {
     "name": "stdout",
     "output_type": "stream",
     "text": [
      "[bootstrap] ROOT= /home/agourakis82/workspace/pcs-meta-repo\n"
     ]
    }
   ],
   "source": [
    "# Repo bootstrap: ensure `src` is on sys.path and standard dirs exist\n",
    "import sys\n",
    "from pathlib import Path\n",
    "ROOT = Path.cwd()\n",
    "if not (ROOT / 'src').exists() and (ROOT.parent / 'src').exists():\n",
    "    ROOT = ROOT.parent\n",
    "if str(ROOT / 'src') not in sys.path:\n",
    "    sys.path.insert(0, str(ROOT / 'src'))\n",
    "for p in (ROOT/'data/processed', ROOT/'reports', ROOT/'figures/metrics'):\n",
    "    p.mkdir(parents=True, exist_ok=True)\n",
    "print('[bootstrap] ROOT=', ROOT)"
   ]
  },
  {
   "cell_type": "code",
   "execution_count": 9,
   "id": "8ae7459d",
   "metadata": {},
   "outputs": [
    {
     "name": "stdout",
     "output_type": "stream",
     "text": [
      "[01] Env ready\n"
     ]
    }
   ],
   "source": [
    "import os, json, re, time\n",
    "from pathlib import Path\n",
    "import pandas as pd, numpy as np\n",
    "\n",
    "RAW_DIR = (ROOT / 'data/raw_public/swow')\n",
    "PROC_DIR = (ROOT / 'data/processed') ; PROC_DIR.mkdir(parents=True, exist_ok=True)\n",
    "RPT_DIR = (ROOT / 'reports'); RPT_DIR.mkdir(parents=True, exist_ok=True)\n",
    "FIG_DIR = (ROOT / 'figures/metrics'); FIG_DIR.mkdir(parents=True, exist_ok=True)\n",
    "\n",
    "def heartbeat(m): print(f'[01] {m}')\n",
    "heartbeat('Env ready')"
   ]
  },
  {
   "cell_type": "code",
   "execution_count": 10,
   "id": "58629eaf",
   "metadata": {},
   "outputs": [
    {
     "name": "stdout",
     "output_type": "stream",
     "text": [
      "[01] Loaded SWOW: /home/agourakis82/workspace/pcs-meta-repo/data/raw_public/swow/en/SWOW-EN.R100.20180827.csv rows=1228200\n",
      "[01] Cannot detect cue/response columns; clearing edges\n",
      "[01] Edges normalized: None\n"
     ]
    }
   ],
   "source": [
    "# Locate a SWOW CSV (en) under data/raw_public/swow\n",
    "cands = list(RAW_DIR.rglob('*.csv'))\n",
    "if not cands:\n",
    "    heartbeat('No SWOW CSV found; skipping build')\n",
    "    edges = pd.DataFrame()\n",
    "else:\n",
    "    # prefer files with 'EN' or 'english' in name\n",
    "    cands_sorted = sorted(cands, key=lambda p: (not re.search(r'(?i)en|english', p.name), len(p.name)))\n",
    "    swow_path = cands_sorted[0]\n",
    "    edges = pd.read_csv(swow_path)\n",
    "    heartbeat(f'Loaded SWOW: {swow_path} rows={len(edges)}')\n",
    "# Map columns to cue/response\n",
    "if len(edges)>0:\n",
    "    cols = {c.lower(): c for c in edges.columns}\n",
    "    cue = cols.get('cue') or cols.get('word') or cols.get('source')\n",
    "    resp = cols.get('response') or cols.get('target') or cols.get('associate')\n",
    "    if not cue or not resp:\n",
    "        heartbeat('Cannot detect cue/response columns; clearing edges')\n",
    "        edges = pd.DataFrame()\n",
    "    else:\n",
    "        edges = edges.rename(columns={cue:'cue', resp:'response'})[['cue','response']].dropna()\n",
    "heartbeat(f'Edges normalized: {edges.shape if len(edges)>0 else None}')"
   ]
  },
  {
   "cell_type": "code",
   "execution_count": 4,
   "id": "999921cb",
   "metadata": {},
   "outputs": [
    {
     "name": "stdout",
     "output_type": "stream",
     "text": [
      "[01] Saved QA for SWOW\n"
     ]
    }
   ],
   "source": [
    "# Quick QA and save edge list\n",
    "qa = {}\n",
    "if len(edges)>0:\n",
    "    out_edges = PROC_DIR / 'swow_edges.csv'\n",
    "    edges.to_csv(out_edges, index=False)\n",
    "    qa = {\n",
    "        'rows': int(len(edges)),\n",
    "        'unique_nodes': int(pd.unique(pd.concat([edges['cue'], edges['response']])).size),\n",
    "        'edge_csv': str(out_edges)\n",
    "    }\n",
    "else:\n",
    "    qa = {'rows': 0, 'unique_nodes': 0, 'edge_csv': None}\n",
    "(RPT_DIR/'qa_swow.json').write_text(json.dumps(qa, indent=2))\n",
    "heartbeat('Saved QA for SWOW')"
   ]
  }
 ],
 "metadata": {
  "kernelspec": {
   "display_name": "pcs-llm",
   "language": "python",
   "name": "python3"
  },
  "language_info": {
   "codemirror_mode": {
    "name": "ipython",
    "version": 3
   },
   "file_extension": ".py",
   "mimetype": "text/x-python",
   "name": "python",
   "nbconvert_exporter": "python",
   "pygments_lexer": "ipython3",
   "version": "3.11.13"
  }
 },
 "nbformat": 4,
 "nbformat_minor": 5
}
