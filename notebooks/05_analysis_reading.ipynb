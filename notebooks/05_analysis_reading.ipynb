{
 "cells": [
  {
   "cell_type": "markdown",
   "metadata": {},
   "source": [
    "# PCS‑HELIO v4.3 — 05 · Reading Analysis\n",
    "OLS (clustered) and MixedLM; BH‑FDR; saves coeff tables and F2 figure."
   ]
  },
  {
   "cell_type": "code",
   "execution_count": null,
   "metadata": {},
   "outputs": [],
   "source": [
    "from pathlib import Path; import pandas as pd, numpy as np, json, sys\n",
    "# Robust import of shared fragments regardless of CWD\n",
    "ROOT = Path.cwd()\n",
    "if (ROOT/'notebooks'/'_fragments.py').exists():\n",
    "    sys.path.insert(0, str(ROOT))\n",
    "elif (ROOT.parent/'notebooks'/'_fragments.py').exists():\n",
    "    sys.path.insert(0, str(ROOT.parent))\n",
    "try:\n",
    "    from notebooks._fragments import apply_style, preflight_checks, print_contract, qa_assertions, save_manifest\n",
    "except Exception as e:\n",
    "    print('[preflight] Failed importing notebooks._fragments:', e)\n",
    "    def apply_style(): pass\n",
    "    def preflight_checks(): pass\n",
    "    def print_contract(): pass\n",
    "    def qa_assertions(df, rules): pass\n",
    "    def save_manifest(path, payload): Path(path).parent.mkdir(parents=True, exist_ok=True); Path(path).write_text(json.dumps(payload, indent=2))\n",
    "from pcs_toolbox.analysis import fit_ols_clustered, fit_mixedlm, apply_fdr\n",
    "apply_style(); preflight_checks(); print_contract()\n",
    "BASE=Path('.') ; DATA=BASE/'data' ; PROC=DATA/'processed' ; RPTS=BASE/'reports' ; FIG=BASE/'figures'/'metrics'\n",
    "PROC.mkdir(parents=True, exist_ok=True); RPTS.mkdir(parents=True, exist_ok=True); FIG.mkdir(parents=True, exist_ok=True)\n"
   ]
  },
  {
   "cell_type": "code",
   "execution_count": null,
   "metadata": {},
   "outputs": [],
   "source": [
    "# Load merged dataset (preferred) or fall back to ZuCo only\n",
    "path_merged = PROC/'zuco_kec_merged.csv'\n",
    "path_zuco   = PROC/'zuco_aligned.csv'\n",
    "df = pd.read_csv(path_merged) if path_merged.exists() else (pd.read_csv(path_zuco) if path_zuco.exists() else pd.DataFrame())\n",
    "# Engineer features\n",
    "if not df.empty:\n",
    "    if 'TRT' in df.columns:\n",
    "        df['log_TRT'] = np.log1p(df['TRT'])\n",
    "    if 'GPT' in df.columns:\n",
    "        df['log_GPT'] = np.log1p(df['GPT'])\n",
    "print('Rows:', len(df))\n",
    "display(df.head(3))\n"
   ]
  },
  {
   "cell_type": "code",
   "execution_count": null,
   "id": "8d236790",
   "metadata": {},
   "outputs": [],
   "source": [
    "# OLS across outcomes with KEC predictors (+ optional controls)\n",
    "results = []\n",
    "ols_df = pd.DataFrame()\n",
    "if not df.empty:\n",
    "    outcomes = [c for c in ['FFD','GD','log_TRT','log_GPT'] if c in df.columns]\n",
    "    predictors = [c for c in ['entropy','curvature','coherence'] if c in df.columns]\n",
    "    controls = [c for c in ['length','log_freq','w_pos'] if c in df.columns]\n",
    "    if outcomes and predictors and 'Subject' in df.columns:\n",
    "        for y in outcomes:\n",
    "            rhs = predictors + controls\n",
    "            formula = f\"{y} ~ \" + \" + \".join(rhs)\n",
    "            try:\n",
    "                m = fit_ols_clustered(df.dropna(subset=[y]+rhs), formula, cluster='Subject')\n",
    "                for term, est in m.params.items():\n",
    "                    if term=='Intercept': continue\n",
    "                    results.append({'outcome': y, 'term': term, 'estimate': float(est), 'p': float(m.pvalues.get(term, np.nan))})\n",
    "            except Exception as e:\n",
    "                print('[warn] OLS failed for', y, e)\n",
    "ols_df = pd.DataFrame(results) if results else pd.DataFrame()\n",
    "print(ols_df.head())\n",
    "# Save coeffs and FDR\n",
    "if not ols_df.empty:\n",
    "    fdr_df = apply_fdr(ols_df, p_col='p', group_col='outcome', alpha=0.05)\n",
    "    out_csv = PROC/'models_reading_coeffs.csv'\n",
    "    out_fdr = PROC/'models_reading_coeffs_fdr.csv'\n",
    "    ols_df.to_csv(out_csv, index=False)\n",
    "    fdr_df.to_csv(out_fdr, index=False)\n",
    "    save_manifest(RPTS/'models_reading_manifest.json', {'rows': int(len(ols_df)), 'outcomes': sorted(ols_df['outcome'].unique())})\n"
   ]
  },
  {
   "cell_type": "code",
   "execution_count": null,
   "id": "0fa9020a",
   "metadata": {},
   "outputs": [],
   "source": [
    "# Save coeffs and FDR\n",
    "from pcs_toolbox.analysis import apply_fdr\n",
    "if not ols_df.empty:\n",
    "    fdr_df = apply_fdr(ols_df, p_col='p', group_col='outcome', alpha=0.05)\n",
    "    out_csv = PROC/'models_reading_coeffs.csv'\n",
    "    out_fdr = PROC/'models_reading_coeffs_fdr.csv'\n",
    "    ols_df.to_csv(out_csv, index=False)\n",
    "    fdr_df.to_csv(out_fdr, index=False)\n",
    "    save_manifest(RPTS/'models_reading_manifest.json', {'rows': int(len(ols_df)), 'outcomes': sorted(ols_df['outcome'].unique())})\n"
   ]
  },
  {
   "cell_type": "code",
   "execution_count": null,
   "id": "a24a1e93",
   "metadata": {},
   "outputs": [],
   "source": [
    "# Validate H* after saving coefficients\n",
    "from pathlib import Path\n",
    "import os\n",
    "NB_DIR = Path.cwd()\n",
    "ROOT = NB_DIR if (NB_DIR/'tools').exists() else NB_DIR.parent\n",
    "script = ROOT/'tools'/'validate_hstar.py'\n",
    "os.chdir(ROOT)\n",
    "os.system(f'python {script}')\n",
    "p = ROOT/'reports'/'hstar_status.md'\n",
    "print(p.read_text() if p.exists() else 'no hstar report')\n"
   ]
  },
    {
     "cell_type": "code",
     "execution_count": null,
     "metadata": {},
     "outputs": [],
     "source": [
      "# Figure F2: coefficients (robust plotting)\n",
      "import matplotlib.pyplot as plt\n",
      "from pathlib import Path as _P\n",
      "_coeffs_path = PROC/'models_reading_coeffs.csv'\n",
      "# Prefer in-memory results; else fall back to processed CSV\n",
      "_has_results = not pd.DataFrame(results).empty\n",
      "if _has_results:\n",
      "    agg = pd.DataFrame(results)\n",
      "elif _coeffs_path.exists():\n",
      "    agg = pd.read_csv(_coeffs_path)\n",
      "else:\n",
      "    agg = pd.DataFrame()\n",
      "if not agg.empty:\n",
      "    # Focus outcome: prefer log_TRT if available\n",
      "    outcomes = list(agg['outcome'].unique())\n",
      "    focus = 'log_TRT' if 'log_TRT' in outcomes else outcomes[0]\n",
      "    # Enforce term order and include near-zero bars\n",
      "    terms = ['entropy','curvature','coherence']\n",
      "    sub = (agg[agg['outcome']==focus]\n",
      "             .set_index('term')['estimate']\n",
      "             .reindex(terms))\n",
      "    fig, ax = plt.subplots(figsize=(5,3))\n",
      "    ax.axhline(0, color='gray', linewidth=0.8)\n",
      "    sub.plot(kind='bar', ax=ax, edgecolor='black', linewidth=0.8)\n",
      "    # Symmetric y-limits so near-zero shows as a thin bar\n",
      "    smin, smax = float(sub.min() if pd.notna(sub.min()) else 0), float(sub.max() if pd.notna(sub.max()) else 0)\n",
      "    span = max(abs(smin), abs(smax))\n",
      "    if span < 1e-3:\n",
      "        ax.set_ylim(-0.002, 0.002)\n",
      "    else:\n",
      "        ax.set_ylim(-(span*1.1), span*1.1)\n",
      "    ax.set_title(f'F2 · OLS coefficients: {focus}')\n",
      "    ax.set_ylabel('Estimate')\n",
      "    fig.tight_layout(); fig.savefig(FIG/'F2_reading_coeffs.png', dpi=150); plt.close(fig)\n",
      "else:\n",
      "    print('[note] No coefficients to plot (results and CSV missing).')\n",
      "# QA\n",
      "if _has_results:\n",
      "    qa_assertions(pd.DataFrame(results), {'min_rows': 3})\n"
     ]
    }
 ],
 "metadata": {
  "kernelspec": {
   "display_name": "pcs-llm",
   "language": "python",
   "name": "python3"
  },
  "language_info": {
   "name": "python",
   "version": "3.11.13"
  }
 },
 "nbformat": 4,
 "nbformat_minor": 5
}
