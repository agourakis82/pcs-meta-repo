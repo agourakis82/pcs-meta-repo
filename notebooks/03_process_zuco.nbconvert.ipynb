{
 "cells": [
  {
   "cell_type": "markdown",
   "id": "7f8d9318",
   "metadata": {},
   "source": [
    "# PCS‑HELIO v4.3 — 03 · Process ZuCo (v1+v2)\n",
    "Reproducible ET+EEG token table. Data contract: writes `data/processed/zuco_aligned.csv` and `reports/zuco_loader_qa.json`."
   ]
  },
  {
   "cell_type": "code",
   "execution_count": 1,
   "id": "fee533f1",
   "metadata": {
    "execution": {
     "iopub.execute_input": "2025-09-02T11:58:03.513201Z",
     "iopub.status.busy": "2025-09-02T11:58:03.512542Z",
     "iopub.status.idle": "2025-09-02T11:58:04.365092Z",
     "shell.execute_reply": "2025-09-02T11:58:04.364219Z"
    }
   },
   "outputs": [
    {
     "name": "stdout",
     "output_type": "stream",
     "text": [
      "[STYLE] _style.css not found; proceeding.\n",
      "[Preflight] Python: 3.12.11 | Platform: Linux-5.15.167.4-microsoft-standard-WSL2-x86_64-with-glibc2.35\n",
      "[Preflight] pandas: 2.3.2 | numpy: 1.26.4\n",
      "[Preflight] Folders ready.\n"
     ]
    },
    {
     "data": {
      "text/html": [
       "<pre>\n",
       "**Notebook Contract (PCS‑HELIO v4.3)**\n",
       "- IMRaD sections (Intro/Methods/Results/Discussion).\n",
       "- RUN_MODE ∈ {'sample','full'}; sample must run fast and never crash.\n",
       "- Required outputs saved under data/processed/** and reports/**.\n",
       "- QA cell with asserts (columns present, row counts, coverage).\n",
       "- Seeds fixed; no absolute paths; public data only.\n",
       "</pre>"
      ],
      "text/plain": [
       "<IPython.core.display.HTML object>"
      ]
     },
     "metadata": {},
     "output_type": "display_data"
    }
   ],
   "source": [
    "from pathlib import Path; import sys, os, json, numpy as np, pandas as pd\n",
    "# Robust import of shared fragments regardless of CWD\n",
    "ROOT = Path.cwd()\n",
    "if (ROOT/'notebooks'/'_fragments.py').exists():\n",
    "    sys.path.insert(0, str(ROOT))\n",
    "elif (ROOT.parent/'notebooks'/'_fragments.py').exists():\n",
    "    sys.path.insert(0, str(ROOT.parent))\n",
    "try:\n",
    "    from notebooks._fragments import apply_style, preflight_checks, print_contract, qa_assertions, save_manifest\n",
    "except Exception as e:\n",
    "    print('[preflight] Failed importing notebooks._fragments:', e)\n",
    "    def apply_style(): pass\n",
    "    def preflight_checks(): pass\n",
    "    def print_contract(): pass\n",
    "    def qa_assertions(df, rules): pass\n",
    "    def save_manifest(path, payload): Path(path).parent.mkdir(parents=True, exist_ok=True); Path(path).write_text(json.dumps(payload, indent=2))\n",
    "np.random.seed(1234)\n",
    "RUN_MODE = os.environ.get('RUN_MODE','sample')  # or 'full'\n",
    "apply_style(); preflight_checks(); print_contract()\n",
    "BASE = Path('.') ; DATA = BASE/'data' ; RAW = DATA/'raw_public' ; PROC = DATA/'processed' ; RPTS = BASE/'reports'\n",
    "PROC.mkdir(parents=True, exist_ok=True); RPTS.mkdir(parents=True, exist_ok=True)\n"
   ]
  },
  {
   "cell_type": "code",
   "execution_count": 2,
   "id": "4280e952",
   "metadata": {
    "execution": {
     "iopub.execute_input": "2025-09-02T11:58:04.367962Z",
     "iopub.status.busy": "2025-09-02T11:58:04.367561Z",
     "iopub.status.idle": "2025-09-02T11:58:04.397904Z",
     "shell.execute_reply": "2025-09-02T11:58:04.397235Z"
    }
   },
   "outputs": [
    {
     "name": "stdout",
     "output_type": "stream",
     "text": [
      "[warn] Auto-discover failed: No module named 'auto_discover_zuco'\n",
      "Rows: 5\n"
     ]
    },
    {
     "data": {
      "text/html": [
       "<div>\n",
       "<style scoped>\n",
       "    .dataframe tbody tr th:only-of-type {\n",
       "        vertical-align: middle;\n",
       "    }\n",
       "\n",
       "    .dataframe tbody tr th {\n",
       "        vertical-align: top;\n",
       "    }\n",
       "\n",
       "    .dataframe thead th {\n",
       "        text-align: right;\n",
       "    }\n",
       "</style>\n",
       "<table border=\"1\" class=\"dataframe\">\n",
       "  <thead>\n",
       "    <tr style=\"text-align: right;\">\n",
       "      <th></th>\n",
       "      <th>Dataset</th>\n",
       "      <th>Task</th>\n",
       "      <th>Subject</th>\n",
       "      <th>SentenceID</th>\n",
       "      <th>w_pos</th>\n",
       "      <th>token</th>\n",
       "      <th>token_norm</th>\n",
       "      <th>FFD</th>\n",
       "      <th>GD</th>\n",
       "      <th>TRT</th>\n",
       "      <th>GPT</th>\n",
       "      <th>theta1</th>\n",
       "      <th>alpha1</th>\n",
       "      <th>beta1</th>\n",
       "      <th>gamma1</th>\n",
       "    </tr>\n",
       "  </thead>\n",
       "  <tbody>\n",
       "    <tr>\n",
       "      <th>0</th>\n",
       "      <td>v1</td>\n",
       "      <td>SR</td>\n",
       "      <td>Z01</td>\n",
       "      <td>1</td>\n",
       "      <td>1</td>\n",
       "      <td>The</td>\n",
       "      <td>the</td>\n",
       "      <td>120</td>\n",
       "      <td>150</td>\n",
       "      <td>200</td>\n",
       "      <td>210</td>\n",
       "      <td>NaN</td>\n",
       "      <td>NaN</td>\n",
       "      <td>NaN</td>\n",
       "      <td>NaN</td>\n",
       "    </tr>\n",
       "    <tr>\n",
       "      <th>1</th>\n",
       "      <td>v1</td>\n",
       "      <td>SR</td>\n",
       "      <td>Z01</td>\n",
       "      <td>1</td>\n",
       "      <td>2</td>\n",
       "      <td>cat</td>\n",
       "      <td>cat</td>\n",
       "      <td>80</td>\n",
       "      <td>100</td>\n",
       "      <td>150</td>\n",
       "      <td>160</td>\n",
       "      <td>NaN</td>\n",
       "      <td>NaN</td>\n",
       "      <td>NaN</td>\n",
       "      <td>NaN</td>\n",
       "    </tr>\n",
       "    <tr>\n",
       "      <th>2</th>\n",
       "      <td>v1</td>\n",
       "      <td>SR</td>\n",
       "      <td>Z01</td>\n",
       "      <td>1</td>\n",
       "      <td>3</td>\n",
       "      <td>sat</td>\n",
       "      <td>sat</td>\n",
       "      <td>70</td>\n",
       "      <td>90</td>\n",
       "      <td>140</td>\n",
       "      <td>150</td>\n",
       "      <td>NaN</td>\n",
       "      <td>NaN</td>\n",
       "      <td>NaN</td>\n",
       "      <td>NaN</td>\n",
       "    </tr>\n",
       "    <tr>\n",
       "      <th>3</th>\n",
       "      <td>v1</td>\n",
       "      <td>SR</td>\n",
       "      <td>Z01</td>\n",
       "      <td>1</td>\n",
       "      <td>4</td>\n",
       "      <td>on</td>\n",
       "      <td>on</td>\n",
       "      <td>60</td>\n",
       "      <td>70</td>\n",
       "      <td>120</td>\n",
       "      <td>140</td>\n",
       "      <td>NaN</td>\n",
       "      <td>NaN</td>\n",
       "      <td>NaN</td>\n",
       "      <td>NaN</td>\n",
       "    </tr>\n",
       "    <tr>\n",
       "      <th>4</th>\n",
       "      <td>v1</td>\n",
       "      <td>SR</td>\n",
       "      <td>Z01</td>\n",
       "      <td>1</td>\n",
       "      <td>5</td>\n",
       "      <td>mat</td>\n",
       "      <td>mat</td>\n",
       "      <td>50</td>\n",
       "      <td>60</td>\n",
       "      <td>110</td>\n",
       "      <td>130</td>\n",
       "      <td>NaN</td>\n",
       "      <td>NaN</td>\n",
       "      <td>NaN</td>\n",
       "      <td>NaN</td>\n",
       "    </tr>\n",
       "  </tbody>\n",
       "</table>\n",
       "</div>"
      ],
      "text/plain": [
       "  Dataset Task Subject  SentenceID  w_pos token token_norm  FFD   GD  TRT  \\\n",
       "0      v1   SR     Z01           1      1   The        the  120  150  200   \n",
       "1      v1   SR     Z01           1      2   cat        cat   80  100  150   \n",
       "2      v1   SR     Z01           1      3   sat        sat   70   90  140   \n",
       "3      v1   SR     Z01           1      4    on         on   60   70  120   \n",
       "4      v1   SR     Z01           1      5   mat        mat   50   60  110   \n",
       "\n",
       "   GPT  theta1  alpha1  beta1  gamma1  \n",
       "0  210     NaN     NaN    NaN     NaN  \n",
       "1  160     NaN     NaN    NaN     NaN  \n",
       "2  150     NaN     NaN    NaN     NaN  \n",
       "3  140     NaN     NaN    NaN     NaN  \n",
       "4  130     NaN     NaN    NaN     NaN  "
      ]
     },
     "metadata": {},
     "output_type": "display_data"
    },
    {
     "name": "stdout",
     "output_type": "stream",
     "text": [
      "[QA] Basic checks passed.\n",
      "[MANIFEST] Wrote reports/zuco_manifest.json\n"
     ]
    }
   ],
   "source": [
    "# Prefer existing processed CSV; else auto-discover; else full loader; else synthetic sample in 'sample' mode\n",
    "aligned = PROC/'zuco_aligned.csv'\n",
    "df, qa = None, {}\n",
    "if aligned.exists():\n",
    "    try:\n",
    "        d = pd.read_csv(aligned)\n",
    "        if len(d) > 0:\n",
    "            df = d; qa = {'source':'existing','rows': int(len(df))}\n",
    "    except Exception as e:\n",
    "        print('[warn] Failed to read existing', aligned, e)\n",
    "if df is None:\n",
    "    try:\n",
    "        sys.path.insert(0, str((BASE/'tools').resolve()))\n",
    "        from auto_discover_zuco import load_first_existing, harmonize\n",
    "        base = load_first_existing([\n",
    "            PROC/'zuco_word_level_all_subjects.csv',\n",
    "            PROC/'zuco_word_level_ZKW.csv',\n",
    "            PROC/'zuco_v1_aligned.csv',\n",
    "            PROC/'zuco_aligned_real_et_eeg.csv',\n",
    "        ])\n",
    "        if base is not None and not base.empty:\n",
    "            df = harmonize(base)\n",
    "            df.to_csv(aligned, index=False)\n",
    "            qa = {'source':'auto_discover','rows': int(len(df))}\n",
    "            (RPTS/'zuco_loader_qa.json').write_text(json.dumps(qa, indent=2))\n",
    "    except Exception as e:\n",
    "        print('[warn] Auto-discover failed:', e)\n",
    "if df is None and RUN_MODE == 'full':\n",
    "    try:\n",
    "        sys.path.insert(0, str((BASE/'src').resolve()))\n",
    "        from pcs_toolbox.zuco import load_all\n",
    "        df, qa = load_all(write_outputs=True)\n",
    "    except Exception as e:\n",
    "        print('[error] Full loader failed:', e)\n",
    "if df is None and RUN_MODE == 'sample':\n",
    "    # Synthetic 5-row sample to keep CI green\n",
    "    df = pd.DataFrame({\n",
    "        'Dataset':['v1']*5,'Task':['SR']*5,'Subject':['Z01']*5,\n",
    "        'SentenceID':[1,1,1,1,1],'w_pos':[1,2,3,4,5],\n",
    "        'token':['The','cat','sat','on','mat'],\n",
    "        'token_norm':['the','cat','sat','on','mat'],\n",
    "        'FFD':[120,80,70,60,50],'GD':[150,100,90,70,60],'TRT':[200,150,140,120,110],'GPT':[210,160,150,140,130],\n",
    "        'theta1':[np.nan]*5,'alpha1':[np.nan]*5,'beta1':[np.nan]*5,'gamma1':[np.nan]*5\n",
    "    })\n",
    "    df.to_csv(aligned, index=False)\n",
    "    qa = {'source':'synthetic','rows': int(len(df))}\n",
    "    (RPTS/'zuco_loader_qa.json').write_text(json.dumps(qa, indent=2))\n",
    "print('Rows:', 0 if df is None else len(df))\n",
    "display(df.head(10))\n",
    "# QA assertions\n",
    "if df is not None and len(df)>0:\n",
    "    qa_assertions(df, {\n",
    "        'required_cols': ['Dataset','Task','Subject','SentenceID','w_pos','token','token_norm'],\n",
    "        'min_rows': 5 if RUN_MODE=='sample' else 50\n",
    "    })\n",
    "    save_manifest(RPTS/'zuco_manifest.json', { 'rows': int(len(df)), 'cols': list(df.columns) })\n"
   ]
  },
  {
   "cell_type": "code",
   "execution_count": 3,
   "id": "887bd96d",
   "metadata": {
    "execution": {
     "iopub.execute_input": "2025-09-02T11:58:04.400478Z",
     "iopub.status.busy": "2025-09-02T11:58:04.400155Z",
     "iopub.status.idle": "2025-09-02T11:58:04.405224Z",
     "shell.execute_reply": "2025-09-02T11:58:04.404208Z"
    }
   },
   "outputs": [
    {
     "name": "stdout",
     "output_type": "stream",
     "text": [
      "{\n",
      "  \"source\": \"synthetic\",\n",
      "  \"rows\": 5\n",
      "}\n"
     ]
    }
   ],
   "source": [
    "# Print minimal QA summary if available\n",
    "try:\n",
    "    qa_path = RPTS/'zuco_loader_qa.json'\n",
    "    if qa_path.exists():\n",
    "        print(qa_path.read_text())\n",
    "    elif 'qa' in globals():\n",
    "        print(json.dumps(qa.get('summary', qa), indent=2))\n",
    "except Exception as e:\n",
    "    print('[warn] No QA available:', e)\n"
   ]
  }
 ],
 "metadata": {
  "kernelspec": {
   "display_name": "Python 3",
   "language": "python",
   "name": "python3"
  },
  "language_info": {
   "codemirror_mode": {
    "name": "ipython",
    "version": 3
   },
   "file_extension": ".py",
   "mimetype": "text/x-python",
   "name": "python",
   "nbconvert_exporter": "python",
   "pygments_lexer": "ipython3",
   "version": "3.12.11"
  }
 },
 "nbformat": 4,
 "nbformat_minor": 5
}
