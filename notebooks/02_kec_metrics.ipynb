{
 "cells": [
  {
   "cell_type": "markdown",
   "metadata": {},
   "source": [
    "# Notebook 02: KEC Metrics Computation\n",
    "Using the SWOW graph from Notebook 01, this notebook computes the *Knowledge Entropy Curvature* (KEC) metrics for each node/word:\n",
    "- **Transition Entropy:** The entropy of outgoing edge weight distribution (uncertainty of associations).\n",
    "- **Local Curvature:** Graph curvature at the node (using Ollivier-Ricci or Forman's method).\n",
    "- **Meso-scale Coherence:** Community-based coherence (e.g., modularity or cluster tightness around the node).\n",
    "\n",
    "Ablation experiments (e.g., edge weight shuffling) and uncertainty estimation (bootstrap confidence intervals) are included.\n",
    "- **Input:** Graph from Notebook 01 (or edge list).\n",
    "- **Output:** Table of KEC metrics per word (saved to `data/processed/kec/metrics_{LANG}.csv`)."
   ]
  },
  {
   "cell_type": "code",
   "execution_count": 1,
   "id": "e53d7a6c",
   "metadata": {},
   "outputs": [
    {
     "name": "stdout",
     "output_type": "stream",
     "text": [
      "Graph loaded: 166540 nodes, 1537892 edges.\n"
     ]
    }
   ],
   "source": [
    "# Load the SWOW graph from Notebook 01\n",
    "import pickle\n",
    "import os\n",
    "LANG = 'en'\n",
    "processed_dir = os.path.join(os.getcwd(), '..', 'data', 'processed')\n",
    "graph_file = os.path.join(processed_dir, f'swow_graph_{LANG}.pkl')\n",
    "with open(graph_file, 'rb') as f:\n",
    "    G = pickle.load(f)\n",
    "print(f\"Graph loaded: {G.number_of_nodes()} nodes, {G.number_of_edges()} edges.\")"
   ]
  },
  {
   "cell_type": "code",
   "execution_count": 2,
   "metadata": {},
   "outputs": [
    {
     "name": "stdout",
     "output_type": "stream",
     "text": [
      "Calculated entropy for 166540 nodes.\n"
     ]
    }
   ],
   "source": [
    "# Assume G (graph) is available (from Notebook 01)\n",
    "import math\n",
    "\n",
    "# Compute transition entropy for each node\n",
    "entropy = {}\n",
    "for node in G.nodes():\n",
    "    out_edges = G.out_edges(node, data='weight')\n",
    "    total_w = sum([w for _,_,w in out_edges])\n",
    "    H = 0.0\n",
    "    for _, target, w in out_edges:\n",
    "        p = w / total_w\n",
    "        if p > 0:\n",
    "            H -= p * math.log2(p)\n",
    "    entropy[node] = H\n",
    "print(f\"Calculated entropy for {len(entropy)} nodes.\")"
   ]
  },
  {
   "cell_type": "code",
   "execution_count": 3,
   "metadata": {},
   "outputs": [
    {
     "name": "stdout",
     "output_type": "stream",
     "text": [
      "Computed curvature for 1537892 edges (sample edge curvatures shown below):\n",
      "[(('there', 'position'), 764), (('there', 'place'), 1151), (('there', 'point'), 975), (('there', 'over'), 1049), (('there', 'here'), 714)]\n"
     ]
    }
   ],
   "source": [
    "# Compute local curvature (using a placeholder or external library)\n",
    "try:\n",
    "    import GraphRicciCurvature\n",
    "    # Using Ollivier-Ricci from an external lib if available\n",
    "    orc = GraphRicciCurvature.OllivierRicci(G, alpha=0.5, verbose=False)\n",
    "    orc.compute_ricci_curvature()\n",
    "    curvature = {edge: data['ricciCurvature'] for edge, data in orc.G.edges.items()}\n",
    "except ImportError:\n",
    "    # Placeholder: approximate curvature by Forman's method as fallback\n",
    "    curvature = {}\n",
    "    for u,v in G.edges():\n",
    "        curvature[(u,v)] = (G.degree(u) + G.degree(v) - 2)  # simplistic Forman proxy\n",
    "print(f\"Computed curvature for {len(curvature)} edges (sample edge curvatures shown below):\")\n",
    "print(list(curvature.items())[:5])"
   ]
  },
  {
   "cell_type": "code",
   "execution_count": null,
   "metadata": {},
   "outputs": [],
   "source": [
    "# Compute coherence: use community detection (e.g., Leiden) to get cluster assignments and measure cluster purity around node\n",
    "import networkx.algorithms.community as nx_comm\n",
    "communities = nx_comm.greedy_modularity_communities(G)\n",
    "node_to_comm = {}\n",
    "for i, comm in enumerate(communities):\n",
    "    for node in comm:\n",
    "        node_to_comm[node] = i\n",
    "coherence = {}\n",
    "for node in G.nodes():\n",
    "    # e.g., coherence = fraction of node's neighbors in same community\n",
    "    neighbors = list(G.neighbors(node))\n",
    "    if neighbors:\n",
    "        same_comm = sum(1 for n in neighbors if node_to_comm.get(n) == node_to_comm.get(node))\n",
    "        coherence[node] = same_comm / len(neighbors)\n",
    "    else:\n",
    "        coherence[node] = None\n",
    "print(f\"Computed coherence for {len(coherence)} nodes.\")"
   ]
  }
 ],
 "metadata": {
  "kernelspec": {
   "display_name": "pcs-llm",
   "language": "python",
   "name": "python3"
  },
  "language_info": {
   "codemirror_mode": {
    "name": "ipython",
    "version": 3
   },
   "file_extension": ".py",
   "mimetype": "text/x-python",
   "name": "python",
   "nbconvert_exporter": "python",
   "pygments_lexer": "ipython3",
   "version": "3.11.13"
  }
 },
 "nbformat": 4,
 "nbformat_minor": 5
}
