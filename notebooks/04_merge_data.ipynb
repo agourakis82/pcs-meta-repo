{
 "cells": [
  {"cell_type":"markdown","metadata":{},"source":["# 04 • Merge ZuCo ⟂ KEC\n","Join ZuCo token table with KEC metrics by token_norm."]},
  {"cell_type":"code","execution_count":null,"metadata":{},"outputs":[],"source":[
   "from pathlib import Path\n",
   "import pandas as pd\n",
   "from pcs_toolbox.common import token_norm\n",
   "proc = Path('data/processed')\n",
   "zuco = pd.read_csv(proc/'zuco_aligned.csv')\n",
   "kec_path = proc/'kec'/'metrics_en.csv'\n",
   "kec = pd.read_csv(kec_path) if kec_path.exists() else pd.DataFrame(columns=['token_norm','entropy','curvature','coherence'])\n",
   "if 'token_norm' not in kec.columns:\n",
   "    src = 'word' if 'word' in kec.columns else ('node' if 'node' in kec.columns else None)\n",
   "    if src: kec['token_norm'] = kec[src].astype(str).map(token_norm)\n",
   "merged = zuco.merge(kec[['token_norm','entropy','curvature','coherence']], on='token_norm', how='left')\n",
   "print('ZuCo rows:', len(zuco), 'Merged rows:', len(merged))\n",
   "merged.head(10)\n"
  ]},
  {"cell_type":"code","execution_count":null,"metadata":{},"outputs":[],"source":[
   "cover = merged[['entropy','curvature','coherence']].notna().mean()*100\n",
   "print('KEC coverage % (by column):')\n",
   "print(cover.round(1).to_string())\n"
  ]}
 ],
 "metadata": {"kernelspec":{"display_name":"Python 3","language":"python","name":"python3"},"language_info":{"name":"python","version":"3.11"}},
 "nbformat":4,
 "nbformat_minor":5
}

