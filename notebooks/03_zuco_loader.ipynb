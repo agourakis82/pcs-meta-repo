{
 "cells": [
  {
   "cell_type": "markdown",
   "metadata": {},
   "source": [
    "# ZuCo Loader — Smoke Stub\n",
    "Author: Demetrios Agourakis (ORCID 0000-0002-8596-5097)\n",
    "Concept DOI: 10.5281/zenodo.16921951 — Version DOI: 10.5281/zenodo.17053446\n",
    "License: Code MIT; Text CC BY 4.0\n"
   ]
  },
  {
   "cell_type": "code",
   "execution_count": null,
   "metadata": {},
   "outputs": [],
   "source": [
    "# Deterministic environment & smoke output (no external deps)\n",
    "import os, sys, json, platform, random\n",
    "random.seed(42)\n",
    "os.makedirs('data/processed', exist_ok=True)\n",
    "out = {\"ok\": True, \"notebook\": \"03_zuco_loader\", \"python\": sys.version.split()[0]}\n",
    "with open('data/processed/_stub_zuco.json','w') as f: json.dump(out, f)\n",
    "print('stub written:', 'data/processed/_stub_zuco.json')\n"
   ]
  },
  {
   "cell_type": "code",
   "execution_count": null,
   "metadata": {},
   "outputs": [],
   "source": [
    "# Provenance & Environment\n",
    "import platform\n",
    "print('Python', platform.python_version())\n",
    "print('Platform', platform.platform())\n"
   ]
  }
 ],
 "metadata": {
  "kernelspec": {"display_name": "Python 3", "language": "python", "name": "python3"},
  "language_info": {"name": "python", "version": "3.11"}
 },
 "nbformat": 4,
 "nbformat_minor": 5
}
