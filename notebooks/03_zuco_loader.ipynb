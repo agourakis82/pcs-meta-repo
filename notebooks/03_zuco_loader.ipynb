{
  "cells": [
    {
      "cell_type": "markdown",
      "metadata": {},
      "source": "# PCS \u2014 Symbolic First Notebook\nAuthor: Demetrios Agourakis (ORCID 0000-0002-8596-5097)  \nLicense: CC BY 4.0 (text) / MIT (code)  \nDate: 2025-08-31\n\n**Reproducibility**: fixed seeds; record environment + dataset versions.  \n**Outputs**: write tables to `/data/processed/...` and figures to `/figures/...`.\n\n## 03 \u2014 ZuCo Loader (Eye\u2011Tracking + EEG) & Alignment"
    },
    {
      "cell_type": "code",
      "metadata": {},
      "execution_count": null,
      "outputs": [],
      "source": "# Set paths to ZuCo raw structure (v1 and/or v2) under data/raw_public/zuco/\nZUCO_RAW_DIR = 'data/raw_public/zuco/v2/'\nOUTPUT_DIR = 'data/processed/zuco/v2/'\nimport os; os.makedirs(OUTPUT_DIR, exist_ok=True)\n\n# TODO: extract fixation metrics (FFD, GD, TRT, GPT) and EEG band-power time-locked to fixations\n# TODO: align to tokenized stimuli and map to KEC metrics for each word/sentence\nprint('ZuCo loader stub ready.')"
    }
  ],
  "metadata": {
    "kernelspec": {
      "display_name": "Python 3",
      "language": "python",
      "name": "python3"
    },
    "language_info": {
      "name": "python",
      "version": "3.11"
    }
  },
  "nbformat": 4,
  "nbformat_minor": 5
}
