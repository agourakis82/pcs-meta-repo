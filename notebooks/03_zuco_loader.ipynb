{
 "nbformat": 4,
 "nbformat_minor": 5,
 "metadata": {},
 "cells": [
  {
   "cell_type": "markdown",
   "metadata": {},
   "source": [
    "# Notebook 03: ZuCo Data Alignment\n",
    "This notebook processes the **Zurich Cognitive Language Processing Corpus (ZuCo)** data (both version 1.0 and 2.0):\n",
    "- **Input:** Raw eye-tracking and EEG recordings for each subject (e.g., MATLAB `.mat` files and associated sentence text files in `data/raw_public/zuco/`).\n",
    "- **Task:** Align each word in the reading sentences with eye-tracking metrics (first fixation duration, gaze duration, etc.) and EEG features (e.g., mean band power during word fixation).\n",
    "- **Output:** A tidy dataset (CSV/Parquet) where each row is a word instance (with identifiers for subject and sentence), and columns for reading time metrics and EEG features."
   ]
  },
  {
   "cell_type": "code",
   "metadata": {},
   "execution_count": 1,
   "source": [
    "# Pseudocode for loading and aligning ZuCo data\n",
    "import scipy.io\n",
    "import pandas as pd\n",
    "\n",
    "# Example: load subject 1 data from ZuCo 1.0\n",
    "subject_id = 'S1'\n",
    "mat_file = f'data/raw_public/zuco/v1/{subject_id}.mat'\n",
    "data = scipy.io.loadmat(mat_file)\n",
    "# Assume 'data' contains EEG signals and timestamps, plus sentence and word indices.\n",
    "\n",
    "# Placeholder: parse fixations and EEG\n",
    "aligned_records = []\n",
    "# for each sentence in data:\n",
    "#    for each word in sentence:\n",
    "#         extract FFD, GD, TRT, GPT from eye-tracking\n",
    "#         extract EEG band power during word fixation interval\n",
    "#         append to aligned_records with subject, sentence, word, metrics\n",
    "\n",
    "aligned_df = pd.DataFrame(aligned_records, columns=['Subject','SentenceID','Word','FFD','GD','TRT','GPT','ThetaPower','AlphaPower','...'])\n",
    "aligned_df.to_csv('data/processed/zuco_aligned.csv', index=False)\n",
    "print(f\"Aligned data saved: {len(aligned_df)} word-level records.\")"
   ],
   "outputs": []
  }
 ]
}
