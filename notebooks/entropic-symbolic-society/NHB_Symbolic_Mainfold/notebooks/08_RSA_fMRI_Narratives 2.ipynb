{
 "cells": [
  {
   "cell_type": "markdown",
   "id": "67113fc4",
   "metadata": {},
   "source": [
    "# Notebook 08 — RSA fMRI Narratives\n",
    "\n",
    "Purpose: BIDS load, text→time alignment, RSA (semantic vs neural), multiple-comparisons.\n"
   ]
  },
  {
   "cell_type": "code",
   "execution_count": null,
   "id": "d60e5bb6",
   "metadata": {},
   "outputs": [],
   "source": [
    "# TODO: implement"
   ]
  }
 ],
 "metadata": {},
 "nbformat": 4,
 "nbformat_minor": 5
}
