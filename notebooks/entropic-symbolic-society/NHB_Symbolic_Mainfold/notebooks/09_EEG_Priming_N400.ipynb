{
 "cells": [
  {
   "cell_type": "markdown",
   "id": "ad38570f",
   "metadata": {},
   "source": [
    "# Notebook 09 — EEG Priming N400\n",
    "\n",
    "Purpose: single-trial ERP (N400), regressors SWOW (strength/distance), controls.\n"
   ]
  },
  {
   "cell_type": "code",
   "execution_count": null,
   "id": "fce1d6ab",
   "metadata": {},
   "outputs": [],
   "source": [
    "# TODO: implement"
   ]
  }
 ],
 "metadata": {},
 "nbformat": 4,
 "nbformat_minor": 5
}
