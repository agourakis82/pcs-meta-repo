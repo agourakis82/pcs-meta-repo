{
 "nbformat": 4,
 "nbformat_minor": 5,
 "metadata": {
  "colab": {
   "name": "Symbolic_Manifold_SelfContained_v1.ipynb",
   "provenance": []
  },
  "kernelspec": {
   "name": "python3",
   "display_name": "Python 3"
  }
 },
 "cells": [
  {
   "cell_type": "markdown",
   "metadata": {
    "id": "q0LJu83MnTHI"
   },
   "source": [
    "# Symbolic Manifold — Entropy & Ricci (Colab) — Self-contained\n",
    "Fluxo: deps → sync repo → validar grafo → H_rate → Ricci amostrada → integração Fig.2."
   ],
   "id": "q0LJu83MnTHI"
  },
  {
   "cell_type": "code",
   "metadata": {
    "id": "tBa19CMVnTHI",
    "outputId": "2eeceb64-1165-4298-b26d-36199fb9c132",
    "colab": {
     "base_uri": "https://localhost:8080/"
    }
   },
   "outputs": [
    {
     "output_type": "stream",
     "name": "stdout",
     "text": [
      "Python: 3.11.13\n",
      "RAM (GB): 12.67\n",
      "pip install networkx>=3.2.1 numpy>=1.24 pandas>=2.1 scipy>=1.11 pyyaml matplotlib lxml\n",
      "pip install GraphRicciCurvature pot\n",
      "GraphRicciCurvature/POT instalados.\n"
     ]
    }
   ],
   "execution_count": 1,
   "source": [
    "# 1) Ambiente e deps\n",
    "import psutil, platform\n",
    "\n",
    "print(\"Python:\", platform.python_version())\n",
    "print(\"RAM (GB):\", round(psutil.virtual_memory().total / 1024**3, 2))\n",
    "\n",
    "# Instalações: versões compatíveis e Ricci opcional\n",
    "import subprocess, sys\n",
    "\n",
    "\n",
    "def pipi(*args):\n",
    "    print(\"pip install\", \" \".join(args))\n",
    "    subprocess.check_call([sys.executable, \"-m\", \"pip\", \"install\", \"-q\", *args])\n",
    "\n",
    "\n",
    "pipi(\n",
    "    \"networkx>=3.2.1\",\n",
    "    \"numpy>=1.24\",\n",
    "    \"pandas>=2.1\",\n",
    "    \"scipy>=1.11\",\n",
    "    \"pyyaml\",\n",
    "    \"matplotlib\",\n",
    "    \"lxml\",\n",
    ")\n",
    "try:\n",
    "    pipi(\"GraphRicciCurvature\", \"pot\")\n",
    "    print(\"GraphRicciCurvature/POT instalados.\")\n",
    "except Exception as e:\n",
    "    print(\"GraphRicciCurvature/POT opcionais; seguiremos sem kappa se falhar:\", e)"
   ],
   "id": "tBa19CMVnTHI"
  },
  {
   "cell_type": "code",
   "metadata": {
    "id": "ArminQ6tnTHJ"
   },
   "outputs": [],
   "execution_count": null,
   "source": [
    "# 2) GitHub — clonar/atualizar\n",
    "import os\n",
    "\n",
    "REPO_URL = \"https://github.com/agourakis82/entropic-symbolic-society\"\n",
    "BRANCH = \"main\"\n",
    "REPO_DIR = \"/content/repo\"\n",
    "\n",
    "if not os.path.exists(REPO_DIR):\n",
    "    subprocess.check_call([\"git\", \"clone\", \"-b\", BRANCH, REPO_URL, REPO_DIR])\n",
    "else:\n",
    "    import pathlib\n",
    "\n",
    "    os.chdir(REPO_DIR)\n",
    "    subprocess.check_call([\"git\", \"fetch\", \"origin\", BRANCH])\n",
    "    subprocess.check_call([\"git\", \"checkout\", BRANCH])\n",
    "    subprocess.check_call([\"git\", \"pull\", \"origin\", BRANCH])\n",
    "    os.chdir(\"/content\")\n",
    "\n",
    "print(\"Repo em:\", REPO_DIR)"
   ],
   "id": "ArminQ6tnTHJ"
  },
  {
   "cell_type": "code",
   "metadata": {
    "id": "HhZiFf2qnTHJ"
   },
   "outputs": [],
   "execution_count": null,
   "source": [
    "# 3) Gravar scripts embutidos\n",
    "from pathlib import Path\n",
    "\n",
    "CODE_DIR = Path(\"/content/repo/NHB_Symbolic_Mainfold/code\")\n",
    "CODE_DIR.mkdir(parents=True, exist_ok=True)\n",
    "\n",
    "compute_path = CODE_DIR / \"compute_entropy_curvature_pro.py\"\n",
    "integrate_path = CODE_DIR / \"integrate_entropy_curvature_pro.py\"\n",
    "\n",
    "compute_src = r\"#!/usr/bin/env python3\\n# -*- coding: utf-8 -*-\\nfrom __future__ import annotations\\n\\n\\\"\\\"\\\"\\ncompute_entropy_curvature_pro.py (embedded, Colab-ready)\\n- Entropy rate (H_rate) via streaming power iteration (sem matriz densa).\\n- Ollivier\\u2013Ricci opcional, apenas em arestas amostradas se suportado.\\n- Compat\\u00edvel com NetworkX 3.x; fallback limpa para ambientes sem GraphRicciCurvature/POT.\\n- Sa\\u00edda CSV rastre\\u00e1vel: graph,beta,H_rate,kappa,regime,nnodes,nedges,weight_attr,curv_method,elapsed_s\\n\\\"\\\"\\\"\\nimport argparse, csv, glob, math, sys, time, warnings\\nfrom pathlib import Path\\nfrom typing import Optional, Dict\\nimport numpy as np\\n\\ntry:\\n    import networkx as nx\\nexcept Exception as e:\\n    print(\\\"[FATAL] networkx not available:\\\", e, file=sys.stderr)\\n    sys.exit(1)\\n\\n_HAS_RICCI = False\\ntry:\\n    from GraphRicciCurvature.OllivierRicci import OllivierRicci\\n    _HAS_RICCI = True\\nexcept Exception:\\n    _HAS_RICCI = False\\n\\ndef detect_weight_attr(G: nx.DiGraph) -> Optional[str]:\\n    for _,_,d in G.edges(data=True):\\n        if not d: continue\\n        for c in (\\\"weight\\\",\\\"w\\\",\\\"freq\\\",\\\"frequency\\\",\\\"strength\\\",\\\"p\\\",\\\"prob\\\"):\\n            if c in d:\\n                try:\\n                    float(d[c]); return c\\n                except Exception:\\n                    pass\\n        break\\n    return None\\n\\ndef load_graph(path: str) -> nx.DiGraph:\\n    p = path.lower()\\n    if p.endswith(\\\".graphml\\\"):\\n        try:\\n            G = nx.read_graphml(path)\\n        except Exception as e:\\n            raise RuntimeError(f\\\"read_graphml failed, install lxml: {e}\\\")\\n    elif p.endswith(\\\".gpickle\\\") or p.endswith(\\\".pickle\\\"):\\n        G = nx.read_gpickle(path)\\n    elif p.endswith(\\\".edgelist\\\") or p.endswith(\\\".txt\\\"):\\n        G = nx.read_edgelist(path, create_using=nx.DiGraph)\\n    else:\\n        G = nx.read_graphml(path)\\n    if not isinstance(G, (nx.DiGraph, nx.MultiDiGraph)):\\n        G = nx.DiGraph(G)\\n    if not G.is_directed():\\n        G = nx.DiGraph(G)\\n    return G\\n\\ndef neighbors_with_probs(G: nx.DiGraph, u, beta: float, wkey: Optional[str]):\\n    nbrs = list(G.successors(u))\\n    if not nbrs:\\n        return np.array([u]), np.array([1.0])\\n    ws = []\\n    for v in nbrs:\\n        d = G[u][v]\\n        w = d.get(wkey, d.get(\\\"weight\\\", 1.0)) if wkey is not None else d.get(\\\"weight\\\", 1.0)\\n        try: w = float(w)\\n        except Exception: w = 1.0\\n        ws.append(max(w, 1e-12))\\n    ws = np.power(np.asarray(ws, dtype=float), float(beta))\\n    Z = ws.sum()\\n    probs = ws / Z if (np.isfinite(Z) and Z > 0.0) else np.full(len(ws), 1.0/len(ws))\\n    return np.asarray(nbrs), probs\\n\\ndef entropy_rate_stream(G: nx.DiGraph, beta: float, wkey: Optional[str], max_iter: int = 200, tol: float = 1e-10) -> float:\\n    nodes = list(G.nodes())\\n    n = len(nodes); index = {u:i for i,u in enumerate(nodes)}\\n    row_probs: Dict = {}; row_entropy = np.zeros(n, dtype=float)\\n    for u in nodes:\\n        nbrs, probs = neighbors_with_probs(G, u, beta, wkey)\\n        row_probs[u] = (nbrs, probs)\\n        with np.errstate(divide=\\\"ignore\\\", invalid=\\\"ignore\\\"):\\n            row_entropy[index[u]] = -np.sum(probs * np.where(probs>0, np.log(probs), 0.0))\\n    pi = np.full(n, 1.0/n, dtype=float); nxt = np.zeros_like(pi)\\n    for _ in range(max_iter):\\n        nxt.fill(0.0)\\n        for u in nodes:\\n            i = index[u]; p_i = pi[i]\\n            nbrs, probs = row_probs[u]\\n            for v, pv in zip(nbrs, probs):\\n                nxt[index[v]] += p_i * pv\\n        s = nxt.sum()\\n        if s > 0: nxt /= s\\n        if np.linalg.norm(nxt - pi, 1) < tol:\\n            pi = nxt; break\\n        pi, nxt = nxt, pi\\n    return float(np.dot(pi, row_entropy))\\n\\ndef mean_ollivier_ricci(G: nx.DiGraph, undirected: bool, nsample: Optional[int], alpha: float = 0.5, method: str = \\\"approximate\\\", seed: int = 42):\\n    if not _HAS_RICCI: return (float(\\\"nan\\\"), \\\"ricci_unavailable\\\")\\n    H = G.to_undirected() if undirected else G\\n    E = list(H.edges())\\n    if not E: return (float(\\\"nan\\\"), \\\"empty_graph\\\")\\n    if nsample and 0 < nsample < len(E):\\n        import random; rng = random.Random(seed)\\n        E = rng.sample(E, nsample); note = f\\\"_sample{len(E)}\\\"\\n    else:\\n        note = \\\"_full\\\"\\n    try:\\n        orc = OllivierRicci(H, alpha=alpha, method=method, verbose=\\\"ERROR\\\")\\n        if hasattr(orc, \\\"compute_ricci_curvature_edges\\\"):\\n            orc.compute_ricci_curvature_edges(E)\\n        else:\\n            orc.compute_ricci_curvature()\\n        vals = []\\n        for (u,v) in E:\\n            d = orc.G[u][v]; k = d.get(\\\"ricciCurvature\\\", None)\\n            if k is None: continue\\n            if math.isfinite(k): vals.append(float(k))\\n        if not vals: return (float(\\\"nan\\\"), f\\\"ollivier_{method}{note}_empty\\\")\\n        return (float(np.mean(vals)), f\\\"ollivier_{method}{note}\\\")\\n    except Exception as e:\\n        warnings.warn(f\\\"OllivierRicci failed: {e}\\\")\\n        return (float(\\\"nan\\\"), f\\\"ollivier_{method}_error\\\")\\n\\ndef run_once(graph_path: str, beta: float, regime: str, no_curv: bool, curv_undirected: bool, curv_sample: Optional[int], ricci_method: str, seed: int):\\n    t0 = time.time()\\n    G = load_graph(graph_path); wkey = detect_weight_attr(G)\\n    H = entropy_rate_stream(G, beta=beta, wkey=wkey)\\n    if no_curv:\\n        kappa, method = float(\\\"nan\\\"), \\\"ricci_skipped\\\"\\n    else:\\n        kappa, method = mean_ollivier_ricci(G, undirected=curv_undirected, nsample=curv_sample, alpha=0.5, method=ricci_method, seed=seed)\\n    elapsed = time.time() - t0\\n    return {\\n        \\\"graph\\\": Path(graph_path).name,\\n        \\\"beta\\\": float(beta),\\n        \\\"H_rate\\\": float(H),\\n        \\\"kappa\\\": kappa,\\n        \\\"regime\\\": regime,\\n        \\\"nnodes\\\": int(G.number_of_nodes()),\\n        \\\"nedges\\\": int(G.number_of_edges()),\\n        \\\"weight_attr\\\": (wkey or \\\"\\\"),\\n        \\\"curv_method\\\": method,\\n        \\\"elapsed_s\\\": round(float(elapsed), 3),\\n    }\\n\\ndef main():\\n    ap = argparse.ArgumentParser(description=\\\"Compute H_rate and sampled Ollivier\\u2013Ricci curvature (memory-safe).\\\")\\n    ap.add_argument(\\\"--graph\\\", required=True)\\n    ap.add_argument(\\\"--beta\\\", nargs=\\\"+\\\", type=float, default=[1.0])\\n    ap.add_argument(\\\"--regime\\\", type=str, default=\\\"\\\")\\n    ap.add_argument(\\\"--no-curvature\\\", action=\\\"store_true\\\")\\n    ap.add_argument(\\\"--curv-undirected\\\", action=\\\"store_true\\\")\\n    ap.add_argument(\\\"--curv-sample\\\", type=int, default=500)\\n    ap.add_argument(\\\"--ricci-method\\\", choices=[\\\"approximate\\\",\\\"OTD\\\",\\\"base\\\"], default=\\\"approximate\\\")\\n    ap.add_argument(\\\"--seed\\\", type=int, default=42)\\n    ap.add_argument(\\\"--out\\\", required=True)\\n    args = ap.parse_args()\\n\\n    paths = sorted(sum([glob.glob(args.graph)], []))\\n    if not paths:\\n        print(f\\\"[FATAL] no files matched {args.graph}\\\", file=sys.stderr); sys.exit(2)\\n\\n    rows = []\\n    for p in paths:\\n        for b in args.beta:\\n            rows.append(run_once(p, b, args.regime, args.no_curvature, args.curv_undirected,\\n                                 (None if args.curv_sample is None or args.curv_sample<=0 else args.curv_sample),\\n                                 args.ricci_method, args.seed))\\n\\n    header = [\\\"graph\\\",\\\"beta\\\",\\\"H_rate\\\",\\\"kappa\\\",\\\"regime\\\",\\\"nnodes\\\",\\\"nedges\\\",\\\"weight_attr\\\",\\\"curv_method\\\",\\\"elapsed_s\\\"]\\n    with open(args.out, \\\"w\\\", newline=\\\"\\\") as f:\\n        w = csv.DictWriter(f, fieldnames=header); w.writeheader()\\n        for r in rows: w.writerow(r)\\n    print(f\\\"Wrote {args.out}\\\")\\n\\nif __name__ == \\\"__main__\\\":\\n    main()\\n\"\n",
    "integrate_src = r\"#!/usr/bin/env python3\\n# -*- coding: utf-8 -*-\\n\\n\\\"\\\"\\\"\\nintegrate_entropy_curvature_pro.py (embedded)\\n- Gera `source_fig2_entropy_curvature.csv` a partir de um CSV de entrada.\\n- Tolera aus\\u00eancia de 'kappa' (cria coluna NaN) e permite filtro por beta.\\n\\\"\\\"\\\"\\nimport argparse, sys\\nimport pandas as pd\\nimport numpy as np\\n\\ndef main():\\n    ap = argparse.ArgumentParser()\\n    ap.add_argument(\\\"--in\\\", dest=\\\"inp\\\", required=True, help=\\\"CSV com H_rate/kappa/regime/beta\\\")\\n    ap.add_argument(\\\"--out\\\", dest=\\\"out\\\", default=\\\"source_fig2_entropy_curvature.csv\\\")\\n    ap.add_argument(\\\"--select-beta\\\", type=float, default=None)\\n    args = ap.parse_args()\\n\\n    df = pd.read_csv(args.inp)\\n    if \\\"H_rate\\\" not in df.columns or \\\"regime\\\" not in df.columns:\\n        print(\\\"[ERROR] Input CSV must have columns: H_rate and regime\\\", file=sys.stderr)\\n        sys.exit(2)\\n    if \\\"kappa\\\" not in df.columns:\\n        df[\\\"kappa\\\"] = np.nan\\n\\n    if args.select_beta is not None and \\\"beta\\\" in df.columns:\\n        df = df[df[\\\"beta\\\"].round(8) == float(args.select_beta)]\\n        if df.empty:\\n            print(f\\\"[ERROR] no rows for beta={args.select_beta}\\\", file=sys.stderr)\\n            sys.exit(3)\\n\\n    out = df[[\\\"H_rate\\\",\\\"kappa\\\",\\\"regime\\\"]].copy()\\n    out.to_csv(args.out, index=False)\\n    print(f\\\"Wrote {args.out} ({len(out)} rows)\\\")\\n\\nif __name__ == \\\"__main__\\\":\\n    main()\\n\"\n",
    "\n",
    "compute_path.write_text(compute_src, encoding=\"utf-8\")\n",
    "integrate_path.write_text(integrate_src, encoding=\"utf-8\")\n",
    "print(\"Escrevi:\", compute_path, \"e\", integrate_path)"
   ],
   "id": "HhZiFf2qnTHJ"
  },
  {
   "cell_type": "code",
   "metadata": {
    "id": "qQZNaa6pnTHJ"
   },
   "outputs": [],
   "execution_count": null,
   "source": [
    "# 4) Validar grafo (.graphml)\n",
    "from pathlib import Path\n",
    "\n",
    "GRAPH_PATH = \"/content/repo/NHB_Symbolic_Mainfold/data/word_network.graphml\"  # ajuste se necessário\n",
    "p = Path(GRAPH_PATH)\n",
    "print(\"exists:\", p.exists(), \"| size:\", p.stat().st_size if p.exists() else 0)\n",
    "\n",
    "import networkx as nx\n",
    "\n",
    "try:\n",
    "    G = nx.read_graphml(str(p))\n",
    "    print(\n",
    "        \"OK read_graphml | nodes:\",\n",
    "        G.number_of_nodes(),\n",
    "        \"edges:\",\n",
    "        G.number_of_edges(),\n",
    "        \"directed?\",\n",
    "        G.is_directed(),\n",
    "    )\n",
    "except Exception as e:\n",
    "    print(\"read_graphml ERROR ->\", repr(e))\n",
    "    raise"
   ],
   "id": "qQZNaa6pnTHJ"
  },
  {
   "cell_type": "code",
   "metadata": {
    "id": "mV682oJFnTHJ"
   },
   "outputs": [],
   "execution_count": null,
   "source": [
    "# 5) Parâmetros\n",
    "BETA = 1.0\n",
    "REGIME = \"integrated\"\n",
    "CURV_UNDIRECTED = True\n",
    "CURV_SAMPLE = 500\n",
    "RICCI_METHOD = \"approximate\"\n",
    "OUT_CSV = \"/content/repo/NHB_Symbolic_Mainfold/code/entropy_curvature_integrated_kappa_sampled.csv\"\n",
    "SRC_FIG2 = \"/content/repo/NHB_Symbolic_Mainfold/code/source_fig2_entropy_curvature.csv\"\n",
    "print(\"GRAPH_PATH=\", GRAPH_PATH)"
   ],
   "id": "mV682oJFnTHJ"
  },
  {
   "cell_type": "code",
   "metadata": {
    "id": "0_0YwWRlnTHJ"
   },
   "outputs": [],
   "execution_count": null,
   "source": [
    "# 6) Executar H_rate (sem curvatura)\n",
    "import shlex\n",
    "\n",
    "cmd = [\n",
    "    \"python\",\n",
    "    \"/content/repo/NHB_Symbolic_Mainfold/code/compute_entropy_curvature_pro.py\",\n",
    "    \"--graph\",\n",
    "    GRAPH_PATH,\n",
    "    \"--beta\",\n",
    "    str(BETA),\n",
    "    \"--regime\",\n",
    "    REGIME,\n",
    "    \"--no-curvature\",\n",
    "    \"--out\",\n",
    "    OUT_CSV.replace(\".csv\", \"_Honly.csv\"),\n",
    "]\n",
    "print(\">>\", \" \".join(shlex.quote(c) for c in cmd))\n",
    "p = subprocess.run(cmd, capture_output=True, text=True)\n",
    "print(\"RC=\", p.returncode)\n",
    "print(\"STDOUT:\\n\", p.stdout)\n",
    "print(\"STDERR:\\n\", p.stderr)\n",
    "assert p.returncode == 0, \"Falha ao computar H_rate; ver STDERR acima.\""
   ],
   "id": "0_0YwWRlnTHJ"
  },
  {
   "cell_type": "code",
   "metadata": {
    "id": "o-T2TI6DnTHJ"
   },
   "outputs": [],
   "execution_count": null,
   "source": [
    "# 7) Executar Ricci (amostrada) com fallback\n",
    "import shlex\n",
    "\n",
    "cmd = [\n",
    "    \"python\",\n",
    "    \"/content/repo/NHB_Symbolic_Mainfold/code/compute_entropy_curvature_pro.py\",\n",
    "    \"--graph\",\n",
    "    GRAPH_PATH,\n",
    "    \"--beta\",\n",
    "    str(BETA),\n",
    "    \"--regime\",\n",
    "    REGIME,\n",
    "    \"--curv-undirected\",\n",
    "    \"--curv-sample\",\n",
    "    str(int(CURV_SAMPLE)),\n",
    "    \"--ricci-method\",\n",
    "    RICCI_METHOD,\n",
    "    \"--out\",\n",
    "    OUT_CSV,\n",
    "]\n",
    "print(\">>\", \" \".join(shlex.quote(c) for c in cmd))\n",
    "p = subprocess.run(cmd, capture_output=True, text=True)\n",
    "print(\"RC=\", p.returncode)\n",
    "print(\"STDOUT:\\n\", p.stdout)\n",
    "print(\"STDERR:\\n\", p.stderr)\n",
    "if p.returncode != 0:\n",
    "    print(\"\\n[INFO] Fallback: CURV_SAMPLE=200, RICCI=approximate\")\n",
    "    cmd[cmd.index(\"--curv-sample\") + 1] = \"200\"\n",
    "    if \"--ricci-method\" in cmd:\n",
    "        cmd[cmd.index(\"--ricci-method\") + 1] = \"approximate\"\n",
    "    print(\">>\", \" \".join(shlex.quote(c) for c in cmd))\n",
    "    p2 = subprocess.run(cmd, capture_output=True, text=True)\n",
    "    print(\"RC=\", p2.returncode)\n",
    "    print(\"STDOUT:\\n\", p2.stdout)\n",
    "    print(\"STDERR:\\n\", p2.stderr)\n",
    "    assert p2.returncode == 0, \"Ricci falhou mesmo com fallback; ver STDERR acima.\""
   ],
   "id": "o-T2TI6DnTHJ"
  },
  {
   "cell_type": "code",
   "metadata": {
    "id": "MtCrOOUlnTHJ"
   },
   "outputs": [],
   "execution_count": null,
   "source": [
    "# 8) Integrar para Fig. 2\n",
    "import os, shlex\n",
    "\n",
    "assert os.path.exists(\n",
    "    OUT_CSV\n",
    "), \"CSV de saída não encontrado — rode as células anteriores.\"\n",
    "cmd = [\n",
    "    \"python\",\n",
    "    \"/content/repo/NHB_Symbolic_Mainfold/code/integrate_entropy_curvature_pro.py\",\n",
    "    \"--in\",\n",
    "    OUT_CSV,\n",
    "    \"--out\",\n",
    "    SRC_FIG2,\n",
    "    \"--select-beta\",\n",
    "    str(BETA),\n",
    "]\n",
    "print(\">>\", \" \".join(shlex.quote(c) for c in cmd))\n",
    "p = subprocess.run(cmd, capture_output=True, text=True)\n",
    "print(\"RC=\", p.returncode)\n",
    "print(\"STDOUT:\\n\", p.stdout)\n",
    "print(\"STDERR:\\n\", p.stderr)\n",
    "assert p.returncode == 0, \"Falha na integração; ver STDERR acima.\""
   ],
   "id": "MtCrOOUlnTHJ"
  },
  {
   "cell_type": "code",
   "metadata": {
    "id": "V1KoXtppnTHJ"
   },
   "outputs": [],
   "execution_count": null,
   "source": [
    "# 9) Pré-visualização\n",
    "import pandas as pd, os\n",
    "\n",
    "print(\"--- H_only (head) ---\")\n",
    "display(pd.read_csv(OUT_CSV.replace(\".csv\", \"_Honly.csv\")).head())\n",
    "print(\"--- OUT_CSV (head) ---\")\n",
    "display(pd.read_csv(OUT_CSV).head())\n",
    "print(\"--- SRC_FIG2 (head) ---\")\n",
    "display(pd.read_csv(SRC_FIG2).head())\n",
    "print(\"Arquivos gerados:\\n\", OUT_CSV, \"\\n\", SRC_FIG2)"
   ],
   "id": "V1KoXtppnTHJ"
  }
 ]
}
