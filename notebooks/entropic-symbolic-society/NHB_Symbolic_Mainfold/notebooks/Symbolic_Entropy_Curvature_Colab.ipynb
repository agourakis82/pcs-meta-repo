{
 "nbformat": 4,
 "nbformat_minor": 5,
 "metadata": {
  "colab": {
   "name": "Symbolic_Entropy_Curvature_Colab.ipynb",
   "provenance": []
  },
  "kernelspec": {
   "name": "python3",
   "display_name": "Python 3"
  }
 },
 "cells": [
  {
   "cell_type": "markdown",
   "metadata": {
    "id": "title"
   },
   "source": [
    "# Symbolic Manifold — Entropy & Curvature (Colab Runner)\n",
    "\n",
    "Pipeline para calcular **H_rate** e (opcionalmente) **curvatura de Ollivier–Ricci** em grafos semânticos grandes, com segurança de memória e integração para o *source data* da **Fig. 2**.\n",
    "\n",
    "**Fluxo:** instalar dependências → gravar scripts → carregar grafo (upload ou Drive) → rodar **H_rate + kappa** (amostrado) → gerar `source_fig2_entropy_curvature.csv` → salvar/baixar.\n"
   ]
  },
  {
   "cell_type": "code",
   "metadata": {
    "id": "env-check"
   },
   "source": [
    "# @title Verificar RAM\n",
    "import psutil, platform\n",
    "\n",
    "ram_gb = psutil.virtual_memory().total / 1024**3\n",
    "print(f\"Python: {platform.python_version()} | RAM: {ram_gb:.1f} GB\")"
   ]
  },
  {
   "cell_type": "code",
   "metadata": {
    "id": "install-deps"
   },
   "source": [
    "# @title Instalar dependências (networkx<3.0, numpy, pandas, GraphRicciCurvature, POT)\n",
    "!pip -q install \"networkx>=2.8.8,<3.0\" numpy pandas pyyaml matplotlib scipy\n",
    "!pip -q install GraphRicciCurvature pot || echo 'Ricci opcional; prossiga mesmo assim'"
   ]
  },
  {
   "cell_type": "code",
   "metadata": {
    "id": "write-pro-scripts"
   },
   "source": [
    "#@title Gravar scripts no runtime\n",
    "from pathlib import Path\n",
    "pro_src = r'''#!/usr/bin/env python3\n# -*- coding: utf-8 -*-\n\nfrom __future__ import annotations\n\"\"\"\ncompute_entropy_curvature_pro.py (improved)\n- Memory-safe H_rate via streaming power iteration.\n- Ricci curvature computed ONLY on sampled edges (if library supports compute_ricci_curvature_edges).\n- Default curv-sample=500 to reduce memory/time.\n\"\"\"\n\nimport argparse, csv, glob, math, os, random, sys, time, warnings\nfrom dataclasses import dataclass\nfrom pathlib import Path\nfrom typing import Dict, Iterable, List, Optional, Tuple\nimport numpy as np\n\ntry:\n    import networkx as nx\nexcept Exception as e:\n    print(\"[FATAL] networkx required:\", e, file=sys.stderr); sys.exit(1)\n\n_HAS_RICCI = False\ntry:\n    from GraphRicciCurvature.OllivierRicci import OllivierRicci\n    _HAS_RICCI = True\nexcept Exception:\n    _HAS_RICCI = False\n\ndef detect_weight_attr(G: nx.DiGraph) -> Optional[str]:\n    for _,_,d in G.edges(data=True):\n        if not d: continue\n        for c in (\"weight\",\"w\",\"freq\",\"frequency\",\"strength\",\"p\",\"prob\"):\n            if c in d:\n                try:\n                    float(d[c]); return c\n                except Exception:\n                    pass\n        break\n    return None\n\ndef load_graph(path: str) -> nx.DiGraph:\n    p = path.lower()\n    if p.endswith(\".graphml\"):\n        G = nx.read_graphml(path)\n    elif p.endswith(\".gpickle\") or p.endswith(\".pickle\"):\n        G = nx.read_gpickle(path)\n    elif p.endswith(\".edgelist\") or p.endswith(\".txt\"):\n        G = nx.read_edgelist(path, create_using=nx.DiGraph)\n    else:\n        G = nx.read_graphml(path)\n    if not G.is_directed():\n        G = nx.DiGraph(G)\n    return G\n\ndef neighbors_with_probs(G: nx.DiGraph, u, beta: float, wkey: Optional[str]):\n    nbrs = list(G.successors(u))\n    if not nbrs:\n        return np.array([u]), np.array([1.0])\n    ws = []\n    for v in nbrs:\n        d = G[u][v]\n        w = d.get(wkey, d.get(\"weight\", 1.0)) if wkey is not None else d.get(\"weight\", 1.0)\n        try: w = float(w)\n        except Exception: w = 1.0\n        ws.append(max(w, 1e-12))\n    ws = np.power(np.asarray(ws, dtype=float), float(beta))\n    Z = ws.sum()\n    if not np.isfinite(Z) or Z <= 0.0:\n        probs = np.full(len(nbrs), 1.0/len(nbrs))\n    else:\n        probs = ws / Z\n    return np.asarray(nbrs), probs\n\ndef entropy_rate_stream(G: nx.DiGraph, beta: float, wkey: Optional[str], max_iter: int = 200, tol: float = 1e-10) -> float:\n    nodes = list(G.nodes())\n    n = len(nodes)\n    index = {u:i for i,u in enumerate(nodes)}\n    row_probs = {}\n    row_entropy = np.zeros(n, dtype=float)\n    for u in nodes:\n        nbrs, probs = neighbors_with_probs(G, u, beta, wkey)\n        row_probs[u] = (nbrs, probs)\n        with np.errstate(divide=\"ignore\", invalid=\"ignore\"):\n            row_entropy[index[u]] = -np.sum(probs * np.where(probs>0, np.log(probs), 0.0))\n    pi = np.full(n, 1.0/n, dtype=float)\n    nxt = np.zeros_like(pi)\n    for _ in range(max_iter):\n        nxt.fill(0.0)\n        for u in nodes:\n            i = index[u]\n            p_i = pi[i]\n            nbrs, probs = row_probs[u]\n            for v, pv in zip(nbrs, probs):\n                nxt[index[v]] += p_i * pv\n        s = nxt.sum()\n        if s > 0: nxt /= s\n        if np.linalg.norm(nxt - pi, 1) < tol:\n            pi = nxt; break\n        pi, nxt = nxt, pi\n    return float(np.dot(pi, row_entropy))\n\ndef mean_ollivier_ricci(G: nx.DiGraph, undirected: bool, nsample: Optional[int], alpha: float = 0.5, method: str = \"OTD\", seed: int = 42):\n    if not _HAS_RICCI:\n        return (float(\"nan\"), \"ricci_unavailable\")\n    H = G.to_undirected() if undirected else G\n    E = list(H.edges())\n    if not E:\n        return (float(\"nan\"), \"empty_graph\")\n    if nsample is not None and nsample > 0 and nsample < len(E):\n        rng = random.Random(seed); E = rng.sample(E, nsample); note = f\"_sample{len(E)}\"\n    else:\n        note = \"_full\"\n    try:\n        orc = OllivierRicci(H, alpha=alpha, method=method, verbose=\"ERROR\")\n        if hasattr(orc, \"compute_ricci_curvature_edges\"):\n            orc.compute_ricci_curvature_edges(E)   # compute only sampled edges\n        else:\n            orc.compute_ricci_curvature()          # fallback (all edges)\n        vals = []\n        for (u,v) in E:\n            d = orc.G[u][v]\n            k = d.get(\"ricciCurvature\", None)\n            if k is None: continue\n            if math.isfinite(k): vals.append(float(k))\n        if not vals: return (float(\"nan\"), f\"ollivier_{method}{note}_empty\")\n        return (float(np.mean(vals)), f\"ollivier_{method}{note}\")\n    except Exception as e:\n        warnings.warn(f\"OllivierRicci failed: {e}\")\n        return (float(\"nan\"), f\"ollivier_{method}_error\")\n\ndef run_once(graph_path: str, beta: float, regime: str, no_curv: bool, curv_undirected: bool, curv_sample: Optional[int], ricci_method: str, seed: int):\n    t0 = time.time()\n    G = load_graph(graph_path)\n    wkey = detect_weight_attr(G)\n    H = entropy_rate_stream(G, beta=beta, wkey=wkey)\n    if no_curv:\n        kappa, method = float(\"nan\"), \"ricci_skipped\"\n    else:\n        kappa, method = mean_ollivier_ricci(G, undirected=curv_undirected, nsample=curv_sample, alpha=0.5, method=ricci_method, seed=seed)\n    elapsed = time.time() - t0\n    return {\n        \"graph\": Path(graph_path).name,\n        \"beta\": float(beta),\n        \"H_rate\": float(H),\n        \"kappa\": kappa,\n        \"regime\": regime,\n        \"nnodes\": int(G.number_of_nodes()),\n        \"nedges\": int(G.number_of_edges()),\n        \"weight_attr\": (wkey or \"\"),\n        \"curv_method\": method,\n        \"elapsed_s\": round(float(elapsed), 3),\n    }\n\ndef main():\n    ap = argparse.ArgumentParser()\n    ap.add_argument(\"--graph\", required=True)\n    ap.add_argument(\"--beta\", nargs=\"+\", type=float, default=[1.0])\n    ap.add_argument(\"--regime\", type=str, default=\"\")\n    ap.add_argument(\"--no-curvature\", action=\"store_true\")\n    ap.add_argument(\"--curv-undirected\", action=\"store_true\")\n    ap.add_argument(\"--curv-sample\", type=int, default=500)  # reduced default\n    ap.add_argument(\"--ricci-method\", choices=[\"OTD\",\"base\",\"approximate\"], default=\"OTD\")\n    ap.add_argument(\"--seed\", type=int, default=42)\n    ap.add_argument(\"--out\", required=True)\n    args = ap.parse_args()\n\n    paths = sorted(sum([glob.glob(args.graph)], []))\n    if not paths:\n        print(f\"[FATAL] no files matched {args.graph}\", file=sys.stderr); sys.exit(2)\n\n    rows = []\n    for p in paths:\n        for b in args.beta:\n            rows.append(run_once(p, b, args.regime, args.no_curvature, args.curv_undirected, (None if args.curv_sample<=0 else args.curv_sample), args.ricci_method, args.seed))\n\n    header = [\"graph\",\"beta\",\"H_rate\",\"kappa\",\"regime\",\"nnodes\",\"nedges\",\"weight_attr\",\"curv_method\",\"elapsed_s\"]\n    with open(args.out, \"w\", newline=\"\") as f:\n        w = csv.DictWriter(f, fieldnames=header); w.writeheader()\n        for r in rows: w.writerow(r)\n    print(f\"Wrote {len(rows)} rows to {args.out}\")\n\nif __name__ == \"__main__\":\n    main()\n'''\\n",
    "integrate_src = r''''''\\n",
    "Path('/content/compute_entropy_curvature_pro.py').write_text(pro_src, encoding='utf-8')\n",
    "Path('/content/integrate_entropy_curvature_pro.py').write_text(integrate_src, encoding='utf-8')\n",
    "print('Scripts gravados em /content')\n"
   ]
  },
  {
   "cell_type": "markdown",
   "metadata": {
    "id": "input-options"
   },
   "source": [
    "## Entrada do grafo — escolha uma opção\n",
    "### Opção A — Upload manual (`.graphml`)\n"
   ]
  },
  {
   "cell_type": "code",
   "metadata": {
    "id": "upload-graph"
   },
   "source": [
    "# @title Upload do arquivo do grafo (.graphml)\n",
    "from google.colab import files\n",
    "\n",
    "uploaded = files.upload()\n",
    "GRAPH_PATH = next(iter(uploaded.keys()), None)\n",
    "print(\"GRAPH_PATH =\", GRAPH_PATH)"
   ]
  },
  {
   "cell_type": "markdown",
   "metadata": {
    "id": "drive-option"
   },
   "source": [
    "### Opção B — Montar Google Drive (use se o grafo estiver no Drive)\n"
   ]
  },
  {
   "cell_type": "code",
   "metadata": {
    "id": "mount-drive"
   },
   "source": [
    "# @title Montar Drive e definir caminho do grafo\n",
    "from google.colab import drive\n",
    "\n",
    "drive.mount(\"/content/drive\")\n",
    "GRAPH_PATH = \"\"  # @param {type:\"string\"}\n",
    "print(\"GRAPH_PATH =\", GRAPH_PATH)"
   ]
  },
  {
   "cell_type": "markdown",
   "metadata": {
    "id": "run-fast"
   },
   "source": [
    "## Rodar cálculo (seguro em memória)\n",
    "Use **amostragem** e método `approximate` para a Ricci (rápido). Se quiser, aumente `--curv-sample` depois.\n"
   ]
  },
  {
   "cell_type": "code",
   "metadata": {
    "id": "run-pro"
   },
   "source": [
    "# @title Executar H_rate + kappa (amostrada)\n",
    "import subprocess, shlex\n",
    "\n",
    "assert GRAPH_PATH, \"Defina GRAPH_PATH via upload (Opção A) ou Drive (Opção B).\"\n",
    "cmd = [\n",
    "    \"python\",\n",
    "    \"/content/compute_entropy_curvature_pro.py\",\n",
    "    \"--graph\",\n",
    "    GRAPH_PATH,\n",
    "    \"--beta\",\n",
    "    \"1.0\",\n",
    "    \"--regime\",\n",
    "    \"integrated\",\n",
    "    \"--curv-undirected\",\n",
    "    \"--curv-sample\",\n",
    "    \"500\",\n",
    "    \"--ricci-method\",\n",
    "    \"approximate\",\n",
    "    \"--out\",\n",
    "    \"/content/entropy_curvature_integrated_kappa_sampled.csv\",\n",
    "]\n",
    "print(\">>\", \" \".join(shlex.quote(c) for c in cmd))\n",
    "subprocess.run(cmd, check=True)\n",
    "print(\"OK: /content/entropy_curvature_integrated_kappa_sampled.csv\")"
   ]
  },
  {
   "cell_type": "markdown",
   "metadata": {
    "id": "integrate"
   },
   "source": [
    "## Integrar para `source_fig2_entropy_curvature.csv`\n"
   ]
  },
  {
   "cell_type": "code",
   "metadata": {
    "id": "integrate-code"
   },
   "source": [
    "# @title Gerar source_fig2_entropy_curvature.csv (β=1.0)\n",
    "import subprocess, shlex\n",
    "\n",
    "cmd = [\n",
    "    \"python\",\n",
    "    \"/content/integrate_entropy_curvature_pro.py\",\n",
    "    \"--in\",\n",
    "    \"/content/entropy_curvature_integrated_kappa_sampled.csv\",\n",
    "    \"--out\",\n",
    "    \"/content/source_fig2_entropy_curvature.csv\",\n",
    "    \"--select-beta\",\n",
    "    \"1.0\",\n",
    "]\n",
    "print(\">>\", \" \".join(shlex.quote(c) for c in cmd))\n",
    "subprocess.run(cmd, check=True)\n",
    "print(\"OK: /content/source_fig2_entropy_curvature.csv\")"
   ]
  },
  {
   "cell_type": "markdown",
   "metadata": {
    "id": "save-download"
   },
   "source": [
    "## Salvar no Drive e/ou baixar\n"
   ]
  },
  {
   "cell_type": "code",
   "metadata": {
    "id": "save-to-drive"
   },
   "source": [
    "# @title Salvar resultados no Drive (ajuste a pasta se quiser)\n",
    "import os, shutil\n",
    "\n",
    "OUT_DIR = \"/content/drive/MyDrive/symbolic_manifold_outputs\"  # @param {type:\"string\"}\n",
    "os.makedirs(OUT_DIR, exist_ok=True)\n",
    "for f in [\n",
    "    \"/content/entropy_curvature_integrated_kappa_sampled.csv\",\n",
    "    \"/content/source_fig2_entropy_curvature.csv\",\n",
    "]:\n",
    "    if os.path.exists(f):\n",
    "        shutil.copy(f, OUT_DIR)\n",
    "print(\"Arquivos salvos em\", OUT_DIR)"
   ]
  },
  {
   "cell_type": "code",
   "metadata": {
    "id": "download-files"
   },
   "source": [
    "# @title Baixar para sua máquina\n",
    "from google.colab import files\n",
    "\n",
    "files.download(\"/content/source_fig2_entropy_curvature.csv\")\n",
    "files.download(\"/content/entropy_curvature_integrated_kappa_sampled.csv\")"
   ]
  }
 ]
}
