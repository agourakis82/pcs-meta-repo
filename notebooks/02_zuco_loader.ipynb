{
 "cells": [
  {
   "cell_type": "markdown",
   "id": "457b2f49",
   "metadata": {},
   "source": [
    "# Notebook 02: ZuCo Loader\n",
    "Processa dados ZuCo em formato tidy."
   ]
  },
  {
   "cell_type": "code",
   "execution_count": null,
   "id": "2359ce39",
   "metadata": {},
   "outputs": [],
   "source": [
    "\"\"\"Run-All cell\"\"\"\n",
    "import random, numpy as np\n",
    "random.seed(42)\n",
    "np.random.seed(42)"
   ]
  },
  {
   "cell_type": "code",
   "execution_count": null,
   "id": "fa1a88b9",
   "metadata": {},
   "outputs": [],
   "source": [
    "from pathlib import Path\n",
    "import pandas as pd\n",
    "from scipy.io import loadmat\n",
    "import hashlib\n",
    "import yaml"
   ]
  },
  {
   "cell_type": "code",
   "execution_count": null,
   "id": "8ba41502",
   "metadata": {},
   "outputs": [],
   "source": [
    "raw_dir = Path(\"../data/raw_public/zuco\")\n",
    "processed_dir = Path(\"../data/processed/zuco\")\n",
    "processed_dir.mkdir(parents=True, exist_ok=True)\n",
    "# placeholder for iterating .mat files\n",
    "for mat_path in raw_dir.glob(\"*.mat\"):\n",
    "    data = loadmat(mat_path)\n",
    "    df = pd.DataFrame(data.get(\"X\", []))\n",
    "    out_path = processed_dir / (mat_path.stem + \".csv\")\n",
    "    df.to_csv(out_path, index=False)\n",
    "    sha = hashlib.sha256(out_path.read_bytes()).hexdigest()\n",
    "    prov = {\"source\": str(mat_path), \"generated\": str(out_path), \"sha256\": sha}\n",
    "    with open(processed_dir / f\"{mat_path.stem}_provenance.yaml\", \"w\") as fh: yaml.safe_dump(prov, fh)"
   ]
  }
 ],
 "metadata": {
  "kernelspec": {
   "display_name": "Python 3",
   "language": "python",
   "name": "python3"
  }
 },
 "nbformat": 4,
 "nbformat_minor": 5
}
