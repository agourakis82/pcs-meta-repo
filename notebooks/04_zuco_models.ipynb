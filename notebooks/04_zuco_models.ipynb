{
  "cells": [
    {
      "cell_type": "markdown",
      "metadata": {},
      "source": "# PCS \u2014 Symbolic First Notebook\nAuthor: Demetrios Agourakis (ORCID 0000-0002-8596-5097)  \nLicense: CC BY 4.0 (text) / MIT (code)  \nDate: 2025-08-31\n\n**Reproducibility**: fixed seeds; record environment + dataset versions.  \n**Outputs**: write tables to `/data/processed/...` and figures to `/figures/...`.\n\n## 04 \u2014 Models: Reading Cost & EEG ~ KEC (Mixed\u2011Effects)"
    },
    {
      "cell_type": "code",
      "metadata": {},
      "execution_count": null,
      "outputs": [],
      "source": "# Load merged dataset (ZuCo features + KEC metrics + controls)\n# Fit mixed-effects or robust regressions: reading cost ~ KEC + controls; EEG ~ KEC + controls\n# Save model summaries and effect plots\nprint('Models stub ready.')"
    }
  ],
  "metadata": {
    "kernelspec": {
      "display_name": "Python 3",
      "language": "python",
      "name": "python3"
    },
    "language_info": {
      "name": "python",
      "version": "3.11"
    }
  },
  "nbformat": 4,
  "nbformat_minor": 5
}
