{
 "nbformat": 4,
 "nbformat_minor": 5,
 "metadata": {},
 "cells": [
  {
   "cell_type": "markdown",
   "metadata": {},
   "source": [
    "# Notebook 04: Reading Cost vs KEC Models\n",
    "This notebook merges the KEC metrics (from Notebook 02) with the ZuCo reading data (from Notebook 03), and fits statistical models to evaluate how well KEC predicts neurophysiological reading costs.\n",
    "- **Response Variables:** Eye-tracking measures (e.g., FFD, GD) and EEG features (e.g., theta power) for each word.\n",
    "- **Predictors:** KEC metrics (entropy, curvature, coherence) for the word, plus control covariates (word length, frequency, etc.).\n",
    "- **Model:** Linear mixed-effects regression (subjects and sentences as random effects) to account for repeated measures. Also compute cluster-robust standard errors for subjects.\n",
    "- **Output:** Model summary tables, effect size estimates, and diagnostic plots (partial residual plots saved to `figures/`)."
   ]
  },
  {
   "cell_type": "code",
   "metadata": {},
   "execution_count": 1,
   "source": [
    "# Merge KEC metrics with aligned ZuCo data\n",
    "import pandas as pd\n",
    "\n",
    "kec_df = pd.read_csv('data/processed/kec/metrics_en.csv')  # assuming English KEC metrics\n",
    "zuco_df = pd.read_csv('data/processed/zuco_aligned.csv')\n",
    "data = pd.merge(zuco_df, kec_df, how='left', left_on='Word', right_on='word')\n",
    "print(f\"Merged dataset: {len(data)} word instances, columns: {list(data.columns)[:10]}...\")"
   ],
   "outputs": []
  },
  {
   "cell_type": "code",
   "metadata": {},
   "execution_count": 2,
   "source": [
    "# Fit a linear mixed model for First Fixation Duration as example\n",
    "import statsmodels.formula.api as smf\n",
    "\n",
    "model = smf.mixedlm(\"FFD ~ entropy + curvature + coherence + WordLength + LogFreq\",\n",
    "                     data, groups=data[\"Subject\"], re_formula=\"~1\")\n",
    "result = model.fit()\n",
    "print(result.summary())"
   ],
   "outputs": []
  },
  {
   "cell_type": "code",
   "metadata": {},
   "execution_count": 3,
   "source": [
    "# Plot partial effect of KEC entropy on FFD (for example)\n",
    "import matplotlib.pyplot as plt\n",
    "import numpy as np\n",
    "\n",
    "# Assuming we have model predictions or coefficients\n",
    "entropy_vals = np.linspace(data['entropy'].min(), data['entropy'].max(), 100)\n",
    "beta_entropy = result.params.get('entropy', 0)\n",
    "intercept = result.params.get('Intercept', 0)\n",
    "y_pred = intercept + beta_entropy * entropy_vals\n",
    "\n",
    "plt.figure()\n",
    "plt.plot(entropy_vals, y_pred, label='Predicted FFD')\n",
    "plt.scatter(data['entropy'], data['FFD'], alpha=0.2, label='Observed')\n",
    "plt.xlabel('Transition Entropy')\n",
    "plt.ylabel('First Fixation Duration (ms)')\n",
    "plt.title('Partial effect of entropy on FFD')\n",
    "plt.legend()\n",
    "plt.savefig('figures/F2_entropy_vs_FFD.png')\n",
    "plt.show()"
   ],
   "outputs": []
  }
 ]
}
