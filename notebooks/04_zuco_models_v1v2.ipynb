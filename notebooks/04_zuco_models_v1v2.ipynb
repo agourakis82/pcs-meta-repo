{
 "cells": [
  {
   "cell_type": "markdown",
   "metadata": {},
   "source": [
    "# Notebook 04 — ZuCo Models (v1+v2): KEC × Dataset/Task (v4.3, Upgraded)\n",
    "\n",
    "OLS (clustered SE), FDR, MixedLM (Subject + vc SentenceID), Bootstrap (joblib), partial plots & EEG trends.\n"
   ]
  },
  {
   "cell_type": "code",
   "execution_count": 1,
   "metadata": {},
   "outputs": [
    {
     "name": "stdout",
     "output_type": "stream",
     "text": [
      "[06:34:24] Env ready\n"
     ]
    }
   ],
   "source": [
    "import os, time, warnings, re\n",
    "from pathlib import Path\n",
    "import numpy as np, pandas as pd\n",
    "import statsmodels.api as sm\n",
    "import statsmodels.formula.api as smf\n",
    "import matplotlib.pyplot as plt\n",
    "from statsmodels.stats.multitest import multipletests\n",
    "SEED=42; np.random.seed(SEED)\n",
    "FIG_DIR=Path('figures/metrics'); FIG_DIR.mkdir(parents=True, exist_ok=True)\n",
    "PROC_DIR=Path('../data/processed'); PROC_DIR.mkdir(parents=True, exist_ok=True)\n",
    "RPT_DIR=Path('reports'); RPT_DIR.mkdir(parents=True, exist_ok=True)\n",
    "def heartbeat(m): print(f\"[{time.strftime('%H:%M:%S')}] {m}\")\n",
    "def norm_token(s):\n",
    "    if not isinstance(s,str): return s\n",
    "    s=s.lower(); s=re.sub(r'[\\W_]+','',s); return s\n",
    "heartbeat('Env ready')\n"
   ]
  },
  {
   "cell_type": "code",
   "execution_count": 2,
   "metadata": {},
   "outputs": [
    {
     "name": "stdout",
     "output_type": "stream",
     "text": [
      "PROC_DIR: ../data/processed\n",
      "ZuCo default: ../data/processed/zuco_aligned.csv\n",
      "ZuCo alt:     ../data/processed/zuco_word_level_all_subjects.csv\n",
      "KEC path:     ../data/processed/kec/metrics_en.csv\n",
      "ZuCo exists: True  KEC exists: True\n",
      "Merged shape: (17523, 18)\n",
      "Subjects: 3 Tasks: 2\n",
      "Merged shape: (17523, 18)\n",
      "Subjects: 3 Tasks: 2\n"
     ]
    }
   ],
   "source": [
    "# Load ZuCo + KEC, normalize tokens, and merge robustly\n",
    "import pandas as pd, re\n",
    "from pathlib import Path\n",
    "\n",
    "def norm_token(s):\n",
    "    if not isinstance(s, str):\n",
    "        return s\n",
    "    s = s.lower()\n",
    "    s = re.sub(r\"[\\W_]+\", \"\", s)\n",
    "    return s\n",
    "\n",
    "print(f\"PROC_DIR: {PROC_DIR}\")\n",
    "zuco_path_default = PROC_DIR / 'zuco_aligned.csv'\n",
    "zuco_path_alt = PROC_DIR / 'zuco_word_level_all_subjects.csv'  # multi-subject source\n",
    "kec_path = PROC_DIR / 'kec' / 'metrics_en.csv'\n",
    "print(f\"ZuCo default: {zuco_path_default}\")\n",
    "print(f\"ZuCo alt:     {zuco_path_alt}\")\n",
    "print(f\"KEC path:     {kec_path}\")\n",
    "\n",
    "# Prefer multi-subject file if available\n",
    "if zuco_path_alt.exists():\n",
    "    zuco = pd.read_csv(zuco_path_alt, low_memory=False)\n",
    "    # Harmonize expected columns\n",
    "    if 'subject' in zuco.columns and 'Subject' not in zuco.columns:\n",
    "        zuco['Subject'] = zuco['subject'].astype(str)\n",
    "    # Task: use provided if exists; else map tsr (1->TSR, 0->NR) when present\n",
    "    if 'Task' not in zuco.columns:\n",
    "        if 'task' in zuco.columns:\n",
    "            zuco['Task'] = zuco['task'].astype(str)\n",
    "        elif 'tsr' in zuco.columns:\n",
    "            zuco['Task'] = zuco['tsr'].map({1: 'TSR', 0: 'NR'}).fillna('Unknown').astype(str)\n",
    "    if 'Dataset' not in zuco.columns:\n",
    "        zuco['Dataset'] = 'v1'\n",
    "else:\n",
    "    zuco = pd.read_csv(zuco_path_default, low_memory=False) if zuco_path_default.exists() else pd.DataFrame()\n",
    "\n",
    "kec  = pd.read_csv(kec_path) if kec_path.exists() else pd.DataFrame()\n",
    "print(f\"ZuCo exists: {len(zuco)>0}  KEC exists: {kec_path.exists()}\")\n",
    "\n",
    "if len(zuco) > 0:\n",
    "    # word column variants\n",
    "    word_src = 'Word' if 'Word' in zuco.columns else ('word' if 'word' in zuco.columns else None)\n",
    "    if word_src:\n",
    "        zuco['token_norm'] = zuco[word_src].astype(str).map(norm_token)\n",
    "\n",
    "if len(kec) > 0:\n",
    "    kec.columns = [c.strip() for c in kec.columns]\n",
    "    # token_norm source\n",
    "    src_word = 'token_norm' if 'token_norm' in kec.columns else (\n",
    "        'node' if 'node' in kec.columns else (\n",
    "        'word' if 'word' in kec.columns else (\n",
    "        'Word' if 'Word' in kec.columns else None)))\n",
    "    if src_word and 'token_norm' not in kec.columns:\n",
    "        kec['token_norm'] = kec[src_word].astype(str).map(norm_token)\n",
    "    # curvature alias\n",
    "    if 'curvature' not in kec.columns and 'avg_curvature' in kec.columns:\n",
    "        kec = kec.rename(columns={'avg_curvature': 'curvature'})\n",
    "\n",
    "# Build required KEC view, creating missing cols if needed\n",
    "required_kec_cols = ['token_norm', 'entropy', 'curvature', 'coherence']\n",
    "if len(kec) > 0:\n",
    "    for col in required_kec_cols:\n",
    "        if col not in kec.columns:\n",
    "            kec[col] = pd.NA\n",
    "    kec_view = kec[required_kec_cols]\n",
    "else:\n",
    "    kec_view = pd.DataFrame(columns=required_kec_cols)\n",
    "\n",
    "# Merge on token_norm only if present on both sides\n",
    "if len(zuco) > 0 and 'token_norm' in zuco.columns and 'token_norm' in kec_view.columns:\n",
    "    merged = zuco.merge(kec_view, on='token_norm', how='left', suffixes=('', '_kec'))\n",
    "else:\n",
    "    merged = pd.DataFrame()\n",
    "\n",
    "print(f\"Merged shape: {merged.shape if len(merged)>0 else 'N/A'}\")\n",
    "if len(merged)>0 and 'Subject' in merged.columns:\n",
    "    try:\n",
    "        print('Subjects:', merged['Subject'].nunique(), 'Tasks:', merged['Task'].nunique() if 'Task' in merged.columns else 'NA')\n",
    "    except Exception:\n",
    "        pass"
   ]
  },
  {
   "cell_type": "markdown",
   "id": "84a412a5",
   "metadata": {},
   "source": [
    "## Inputs and coverage summary\n",
    "\n",
    "This section validates inputs (ZuCo/KEC) and reports ET/KEC coverage before modeling."
   ]
  },
  {
   "cell_type": "code",
   "execution_count": 18,
   "id": "b4a4ad01",
   "metadata": {},
   "outputs": [
    {
     "name": "stdout",
     "output_type": "stream",
     "text": [
      "=== INPUTS ===\n",
      "ZuCo source exists: True\n",
      "KEC file present: True\n",
      "Merged has data: True\n",
      "\n",
      "=== COVERAGE (non-null fraction) ===\n",
      "ET:\n",
      "  FFD: 0.997\n",
      "  GD: 0.997\n",
      "  TRT: 0.000\n",
      "KEC:\n",
      "  coherence: 0.939\n",
      "  curvature: 0.939\n",
      "  entropy: 0.939\n"
     ]
    }
   ],
   "source": [
    "# Quick inputs and coverage summary\n",
    "from pathlib import Path\n",
    "\n",
    "print(\"=== INPUTS ===\")\n",
    "print(f\"ZuCo source exists: {len(zuco)>0 if 'zuco' in locals() else False}\")\n",
    "print(f\"KEC file present: {(PROC_DIR/'kec'/'metrics_en.csv').exists() if 'PROC_DIR' in locals() else False}\")\n",
    "print(f\"Merged has data: {len(merged)>0 if 'merged' in locals() else False}\")\n",
    "\n",
    "print(\"\\n=== COVERAGE (non-null fraction) ===\")\n",
    "if 'merged' in locals() and isinstance(merged, pd.DataFrame) and len(merged)>0:\n",
    "    cols_et = [c for c in ['FFD','GD','TRT','GPT','log_TRT','log_GPT'] if c in merged.columns]\n",
    "    cols_kec = [c for c in ['entropy','curvature','coherence'] if c in merged.columns]\n",
    "    for group_name, cols in [(\"ET\", cols_et), (\"KEC\", cols_kec)]:\n",
    "        if cols:\n",
    "            cov = merged[cols].notna().mean().sort_index()\n",
    "            print(f\"{group_name}:\")\n",
    "            for c,v in cov.items():\n",
    "                print(f\"  {c}: {v:0.3f}\")\n",
    "        else:\n",
    "            print(f\"{group_name}: none present\")\n",
    "else:\n",
    "    print(\"No merged data available for coverage.\")"
   ]
  },
  {
   "cell_type": "code",
   "execution_count": 19,
   "id": "8f9dfade",
   "metadata": {},
   "outputs": [
    {
     "name": "stdout",
     "output_type": "stream",
     "text": [
      "[06:35:32] ET:['FFD', 'GD', 'log_TRT', 'TRT', 'duration_ms'] KEC:['entropy', 'curvature', 'coherence'] COVS:[]\n"
     ]
    }
   ],
   "source": [
    "# Process merged data\n",
    "df=merged.copy()\n",
    "if len(df)>0:\n",
    "    df=df.rename(columns={'LogFreq':'log_freq'})\n",
    "    # Map duration_ms to TRT if standard fields are absent\n",
    "    if 'TRT' not in df.columns and 'duration_ms' in df.columns:\n",
    "        df['TRT']=df['duration_ms']\n",
    "    # Create logs where applicable\n",
    "    for resp in ('TRT','GPT'):\n",
    "        if resp in df: df[f'log_{resp}']=np.log1p(df[resp])\n",
    "    # Categorical harmonization\n",
    "    for cat in ('Dataset','Task','Subject','SentenceID'):\n",
    "        if cat in df: df[cat]=df[cat].astype(str)\n",
    "    # Eye-tracking columns with fallbacks\n",
    "    possible_resps=('FFD','GD','log_TRT','log_GPT','TRT','duration_ms')\n",
    "    ET_COLS=[c for c in possible_resps if c in df.columns]\n",
    "    KEC_COLS=[c for c in ('entropy','curvature','coherence') if c in df.columns]\n",
    "    COVS=[c for c in ('length','log_freq','surprisal') if c in df.columns]\n",
    "    heartbeat(f'ET:{ET_COLS} KEC:{KEC_COLS} COVS:{COVS}')\n",
    "else:\n",
    "    heartbeat('No merged data to process')"
   ]
  },
  {
   "cell_type": "code",
   "execution_count": 5,
   "id": "7c7e4eaa",
   "metadata": {},
   "outputs": [
    {
     "name": "stdout",
     "output_type": "stream",
     "text": [
      "=== DEBUG DATA STRUCTURE ===\n",
      "df shape: (17523, 19)\n",
      "df columns: ['Subject', 'Task', 'Dataset', 'SentenceID', 'Word', 'token_norm', 'duration_ms', 'fixation_samples', 'FFD', 'GD', 'TRT', 'ThetaPower', 'AlphaPower', 'BetaPower', 'GammaPower', 'entropy', 'curvature', 'coherence', 'log_TRT']\n",
      "NaN counts per column:\n",
      "Word                   20\n",
      "duration_ms         17475\n",
      "fixation_samples    17475\n",
      "FFD                    48\n",
      "GD                     49\n",
      "TRT                 17522\n",
      "ThetaPower             48\n",
      "AlphaPower             48\n",
      "BetaPower           17522\n",
      "GammaPower          17522\n",
      "entropy              1073\n",
      "curvature            1073\n",
      "coherence            1073\n",
      "log_TRT             17522\n",
      "dtype: int64\n",
      "Dataset unique values: 2 - ['v1' 'v2']...\n",
      "Task unique values: 2 - ['NR' 'TSR']...\n",
      "Subject unique values: 3 - ['ZKW' 'ZAB' 'YAC']...\n",
      "FFD: 17475 non-NaN values\n",
      "GD: 17474 non-NaN values\n",
      "log_TRT: 1 non-NaN values\n",
      "entropy: 16450 non-NaN values\n",
      "curvature: 16450 non-NaN values\n",
      "coherence: 16450 non-NaN values\n",
      "=== END DEBUG ===\n"
     ]
    }
   ],
   "source": [
    "# Debug data structure\n",
    "print(\"=== DEBUG DATA STRUCTURE ===\")\n",
    "print(f\"df shape: {df.shape}\")\n",
    "print(f\"df columns: {list(df.columns)}\")\n",
    "\n",
    "# Check for NaN values\n",
    "nan_counts = df.isnull().sum()\n",
    "print(f\"NaN counts per column:\\n{nan_counts[nan_counts > 0]}\")\n",
    "\n",
    "# Check categorical variables\n",
    "for cat in ['Dataset', 'Task', 'Subject']:\n",
    "    if cat in df.columns:\n",
    "        unique_vals = df[cat].unique()\n",
    "        print(f\"{cat} unique values: {len(unique_vals)} - {unique_vals[:5]}...\")\n",
    "\n",
    "# Check numeric columns\n",
    "numeric_cols = ['FFD', 'GD', 'log_TRT', 'log_GPT', 'entropy', 'curvature', 'coherence']\n",
    "for col in numeric_cols:\n",
    "    if col in df.columns:\n",
    "        non_nan = df[col].notna().sum()\n",
    "        print(f\"{col}: {non_nan} non-NaN values\")\n",
    "\n",
    "print(\"=== END DEBUG ===\")"
   ]
  },
  {
   "cell_type": "code",
   "execution_count": 6,
   "id": "66271b5b",
   "metadata": {},
   "outputs": [
    {
     "name": "stdout",
     "output_type": "stream",
     "text": [
      "=== DEBUG CATEGORICAL VARIATION ===\n",
      "After NaN removal: 16403 rows\n",
      "Dataset: 2 unique values\n",
      "  Value counts: {'v1': np.int64(16402), 'v2': np.int64(1)}\n",
      "Task: 2 unique values\n",
      "  Value counts: {'NR': np.int64(16402), 'TSR': np.int64(1)}\n",
      "Subject: 2 unique values\n",
      "  Value counts: {'ZAB': np.int64(16402), 'YAC': np.int64(1)}\n",
      "Subjects with data: 2\n",
      "Min observations per subject: 1\n",
      "Max observations per subject: 16402\n",
      "=== END DEBUG ===\n"
     ]
    }
   ],
   "source": [
    "# Debug categorical variables variation\n",
    "print(\"=== DEBUG CATEGORICAL VARIATION ===\")\n",
    "# Choose an available ET measure for filtering\n",
    "et_for_debug = next((c for c in ['FFD','GD','log_TRT','TRT','duration_ms'] if c in df.columns), None)\n",
    "subset_cols = [c for c in [et_for_debug,'entropy','curvature','coherence'] if c is not None]\n",
    "if subset_cols:\n",
    "    df_clean = df.dropna(subset=subset_cols)\n",
    "    print(f\"After NaN removal: {len(df_clean)} rows\")\n",
    "else:\n",
    "    df_clean = df.copy(); print(\"No ET column available for debug subset\")\n",
    "\n",
    "for cat in ['Dataset', 'Task', 'Subject']:\n",
    "    if cat in df_clean.columns:\n",
    "        unique_vals = df_clean[cat].unique()\n",
    "        counts = df_clean[cat].value_counts()\n",
    "        print(f\"{cat}: {len(unique_vals)} unique values\")\n",
    "        print(f\"  Value counts: {dict(counts)}\")\n",
    "\n",
    "# Check if Subject has enough variation for clustering\n",
    "if 'Subject' in df_clean.columns:\n",
    "    subject_counts = df_clean['Subject'].value_counts()\n",
    "    print(f\"Subjects with data: {len(subject_counts)}\")\n",
    "    print(f\"Min observations per subject: {subject_counts.min()}\")\n",
    "    print(f\"Max observations per subject: {subject_counts.max()}\")\n",
    "\n",
    "print(\"=== END DEBUG ===\")"
   ]
  },
  {
   "cell_type": "code",
   "execution_count": 7,
   "id": "c3c75777",
   "metadata": {},
   "outputs": [
    {
     "name": "stdout",
     "output_type": "stream",
     "text": [
      "=== DEBUG KEC COLUMNS ===\n",
      "KEC columns: ['token_norm', 'entropy', 'curvature', 'coherence']\n",
      "KEC has 'node': False\n",
      "KEC has 'word': False\n",
      "KEC has 'Word': False\n",
      "KEC has 'token_norm': True\n",
      "Sample token_norm values: ['there', 'position', 'place', 'point', 'true']\n",
      "=== END DEBUG ===\n"
     ]
    }
   ],
   "source": [
    "# Debug KEC columns\n",
    "print(\"=== DEBUG KEC COLUMNS ===\")\n",
    "if len(kec) > 0:\n",
    "    print(f\"KEC columns: {list(kec.columns)}\")\n",
    "    print(f\"KEC has 'node': {'node' in kec.columns}\")\n",
    "    print(f\"KEC has 'word': {'word' in kec.columns}\")\n",
    "    print(f\"KEC has 'Word': {'Word' in kec.columns}\")\n",
    "    print(f\"KEC has 'token_norm': {'token_norm' in kec.columns}\")\n",
    "    if 'node' in kec.columns:\n",
    "        print(f\"Sample node values: {kec['node'].head().tolist()}\")\n",
    "    if 'token_norm' in kec.columns:\n",
    "        print(f\"Sample token_norm values: {kec['token_norm'].head().tolist()}\")\n",
    "else:\n",
    "    print(\"KEC dataframe is empty\")\n",
    "print(\"=== END DEBUG ===\")"
   ]
  },
  {
   "cell_type": "code",
   "execution_count": 8,
   "id": "5a6520c5",
   "metadata": {},
   "outputs": [
    {
     "name": "stdout",
     "output_type": "stream",
     "text": [
      "=== DEBUG MERGE COLUMNS ===\n",
      "ZuCo has token_norm: True\n",
      "KEC has token_norm: True\n",
      "KEC has entropy: True\n",
      "KEC has curvature: True\n",
      "KEC has coherence: True\n",
      "KEC has avg_curvature: False\n",
      "KEC has all required columns: True\n",
      "=== END DEBUG ===\n"
     ]
    }
   ],
   "source": [
    "# Debug merge columns\n",
    "print(\"=== DEBUG MERGE COLUMNS ===\")\n",
    "print(f\"ZuCo has token_norm: {'token_norm' in zuco.columns if len(zuco)>0 else False}\")\n",
    "print(f\"KEC has token_norm: {'token_norm' in kec.columns if len(kec)>0 else False}\")\n",
    "print(f\"KEC has entropy: {'entropy' in kec.columns if len(kec)>0 else False}\")\n",
    "print(f\"KEC has curvature: {'curvature' in kec.columns if len(kec)>0 else False}\")\n",
    "print(f\"KEC has coherence: {'coherence' in kec.columns if len(kec)>0 else False}\")\n",
    "print(f\"KEC has avg_curvature: {'avg_curvature' in kec.columns if len(kec)>0 else False}\")\n",
    "\n",
    "# Check if all required columns exist\n",
    "required_kec_cols = ['token_norm', 'entropy', 'curvature', 'coherence']\n",
    "if len(kec) > 0:\n",
    "    has_all_cols = all(col in kec.columns for col in required_kec_cols)\n",
    "    print(f\"KEC has all required columns: {has_all_cols}\")\n",
    "    if not has_all_cols:\n",
    "        missing_cols = [col for col in required_kec_cols if col not in kec.columns]\n",
    "        print(f\"Missing columns: {missing_cols}\")\n",
    "        # Try with avg_curvature instead of curvature\n",
    "        if 'avg_curvature' in kec.columns and 'curvature' not in kec.columns:\n",
    "            print(\"Using avg_curvature instead of curvature\")\n",
    "else:\n",
    "    print(\"KEC dataframe is empty\")\n",
    "print(\"=== END DEBUG ===\")"
   ]
  },
  {
   "cell_type": "code",
   "execution_count": 9,
   "id": "9c8f918c",
   "metadata": {},
   "outputs": [
    {
     "name": "stdout",
     "output_type": "stream",
     "text": [
      "Current directory: /home/agourakis82/workspace/pcs-meta-repo/notebooks\n",
      "PROC_DIR: /home/agourakis82/workspace/pcs-meta-repo/data/processed\n",
      "ZuCo candidates:\n",
      " - ../data/processed/zuco_word_level_all_subjects.csv (exists=True)\n",
      " - ../data/processed/zuco_aligned.csv (exists=True)\n",
      "KEC path: ../data/processed/kec/metrics_en.csv (exists=True)\n",
      "ZuCo direct read: 12446 rows, 15 cols from ../data/processed/zuco_word_level_all_subjects.csv\n"
     ]
    },
    {
     "name": "stdout",
     "output_type": "stream",
     "text": [
      "KEC direct read: 166540 rows, 4 cols\n",
      "KEC columns: ['token_norm', 'entropy', 'curvature', 'coherence']\n"
     ]
    }
   ],
   "source": [
    "# Direct test of file reading (using PROC_DIR, safe)\n",
    "from pathlib import Path\n",
    "import pandas as pd\n",
    "\n",
    "zuco_cands = [PROC_DIR/'zuco_word_level_all_subjects.csv', PROC_DIR/'zuco_aligned.csv']\n",
    "kec_path = PROC_DIR/'kec'/'metrics_en.csv'\n",
    "\n",
    "print(f\"Current directory: {Path.cwd()}\")\n",
    "print(f\"PROC_DIR: {PROC_DIR.resolve() if hasattr(PROC_DIR,'resolve') else PROC_DIR}\")\n",
    "print(\"ZuCo candidates:\")\n",
    "for p in zuco_cands:\n",
    "    print(f\" - {p} (exists={p.exists()})\")\n",
    "print(f\"KEC path: {kec_path} (exists={kec_path.exists()})\")\n",
    "\n",
    "# Try reading directly, handle errors gracefully\n",
    "zuco_used = next((p for p in zuco_cands if p.exists()), None)\n",
    "try:\n",
    "    if zuco_used is not None:\n",
    "        zuco_direct = pd.read_csv(str(zuco_used), low_memory=False)\n",
    "        print(f\"ZuCo direct read: {len(zuco_direct)} rows, {len(zuco_direct.columns)} cols from {zuco_used}\")\n",
    "    else:\n",
    "        print(\"ZuCo file not found; skipping read\")\n",
    "except Exception as e:\n",
    "    print(f\"Error reading ZuCo: {e}\")\n",
    "\n",
    "try:\n",
    "    if kec_path.exists():\n",
    "        kec_direct = pd.read_csv(str(kec_path), low_memory=False)\n",
    "        print(f\"KEC direct read: {len(kec_direct)} rows, {len(kec_direct.columns)} cols\")\n",
    "        print(f\"KEC columns: {list(kec_direct.columns)[:10]}\")\n",
    "    else:\n",
    "        print(\"KEC file not found; skipping read\")\n",
    "except Exception as e:\n",
    "    print(f\"Error reading KEC: {e}\")"
   ]
  },
  {
   "cell_type": "code",
   "execution_count": 10,
   "metadata": {},
   "outputs": [
    {
     "name": "stdout",
     "output_type": "stream",
     "text": [
      "[06:34:24] OLS: FFD ~ entropy + curvature + coherence\n",
      "[06:34:24] OLS: GD ~ entropy + curvature + coherence\n",
      "[06:34:24] OLS: GD ~ entropy + curvature + coherence\n",
      "[06:34:24] OLS: log_TRT ~ entropy + curvature + coherence\n",
      "[06:34:24] Skip log_TRT: insufficient data after NaN removal (1 rows)\n",
      "[06:34:24] Saved OLS results for 2 responses\n",
      "[06:34:24] OLS: log_TRT ~ entropy + curvature + coherence\n",
      "[06:34:24] Skip log_TRT: insufficient data after NaN removal (1 rows)\n",
      "[06:34:24] Saved OLS results for 2 responses\n"
     ]
    }
   ],
   "source": [
    "reading_results=[]\n",
    "if len(df)>0 and 'Subject' in df.columns:\n",
    "    for resp in [r for r in ('FFD','GD','log_TRT','log_GPT') if r in df.columns]:\n",
    "        # Only include KEC variables since categorical variables have no variation\n",
    "        preds=[c for c in ['entropy','curvature','coherence'] if c in df.columns]\n",
    "        if len(preds)<1: heartbeat(f'Skip {resp}: no predictors available'); continue\n",
    "\n",
    "        formula=f\"{resp} ~ \"+' + '.join(preds)\n",
    "        heartbeat(f'OLS: {formula}')\n",
    "        try:\n",
    "            # Drop rows with NaN values before fitting\n",
    "            df_clean = df.dropna(subset=[resp] + preds)\n",
    "            if len(df_clean) < 100:  # Need minimum sample size\n",
    "                heartbeat(f'Skip {resp}: insufficient data after NaN removal ({len(df_clean)} rows)')\n",
    "                continue\n",
    "\n",
    "            # Simple OLS without clustering since we have only one subject\n",
    "            m=smf.ols(formula, data=df_clean).fit()\n",
    "            coefs=m.params.rename('coef').to_frame()\n",
    "            coefs['se']=m.bse\n",
    "            coefs['t']=m.tvalues\n",
    "            coefs['p']=m.pvalues\n",
    "            coefs['response']=resp\n",
    "            reading_results.append(coefs.reset_index().rename(columns={'index':'term'}))\n",
    "        except Exception as e:\n",
    "            warnings.warn(f'OLS failed for {resp}: {e}')\n",
    "if reading_results:\n",
    "    tbl=pd.concat(reading_results, ignore_index=True); (PROC_DIR/'models_reading_coeffs.csv').write_text(tbl.to_csv(index=False))\n",
    "    heartbeat(f'Saved OLS results for {len(reading_results)} responses')\n",
    "else:\n",
    "    heartbeat('No OLS results')\n"
   ]
  },
  {
   "cell_type": "code",
   "execution_count": 11,
   "metadata": {},
   "outputs": [
    {
     "name": "stdout",
     "output_type": "stream",
     "text": [
      "Saved FDR\n"
     ]
    }
   ],
   "source": [
    "inp=PROC_DIR/'models_reading_coeffs.csv'\n",
    "if inp.exists():\n",
    "    dfc=pd.read_csv(inp); outs=[]\n",
    "    for resp,grp in dfc.groupby('response'):\n",
    "        p=grp['p'].values; rej,q,_,_=multipletests(p, alpha=0.05, method='fdr_bh')\n",
    "        g=grp.copy(); g['p_fdr_bh']=q; g['rej_fdr_bh_0.05']=rej; outs.append(g)\n",
    "    fdr=pd.concat(outs, ignore_index=True); (PROC_DIR/'models_reading_coeffs_fdr.csv').write_text(fdr.to_csv(index=False))\n",
    "    print('Saved FDR')\n",
    "else:\n",
    "    print('Skip FDR')\n"
   ]
  },
  {
   "cell_type": "code",
   "execution_count": 12,
   "metadata": {},
   "outputs": [
    {
     "data": {
      "image/png": "[encoded data removed]",
      "text/plain": [
       "<Figure size 640x480 with 1 Axes>"
      ]
     },
     "metadata": {},
     "output_type": "display_data"
    },
    {
     "data": {
      "image/png": "[encoded data removed]",
      "text/plain": [
       "<Figure size 640x480 with 1 Axes>"
      ]
     },
     "metadata": {},
     "output_type": "display_data"
    },
    {
     "data": {
      "image/png": "[encoded data removed]",
      "text/plain": [
       "<Figure size 640x480 with 1 Axes>"
      ]
     },
     "metadata": {},
     "output_type": "display_data"
    },
    {
     "data": {
      "image/png": "[encoded data removed]",
      "text/plain": [
       "<Figure size 640x480 with 1 Axes>"
      ]
     },
     "metadata": {},
     "output_type": "display_data"
    },
    {
     "data": {
      "image/png": "[encoded data removed]",
      "text/plain": [
       "<Figure size 640x480 with 1 Axes>"
      ]
     },
     "metadata": {},
     "output_type": "display_data"
    }
   ],
   "source": [
    "def partial_plot(dfin, response='FFD', xvar='entropy', controls=None, fixed_cats=None, n_points=100, savepath=None):\n",
    "    controls = controls or []; fixed_cats = fixed_cats or {}\n",
    "    need=[response,xvar]+controls+list(fixed_cats.keys())\n",
    "    if not set(need).issubset(dfin.columns): return\n",
    "    formula=response+' ~ '+xvar\n",
    "    if controls: formula+=' + '+' + '.join(controls)\n",
    "    for k in fixed_cats:\n",
    "        if k in dfin.columns and dfin[k].dtype=='O': formula+=f' + C({k})'\n",
    "    mod=smf.ols(formula, data=dfin.dropna(subset=need)).fit()\n",
    "    xgrid=np.linspace(dfin[xvar].quantile(0.05), dfin[xvar].quantile(0.95), n_points)\n",
    "    base={c: float(dfin[c].median()) for c in controls}; base.update(fixed_cats)\n",
    "    grid=pd.DataFrame({xvar:xgrid, **base}); yhat=mod.predict(grid)\n",
    "    plt.figure(); samp=dfin.dropna(subset=need).sample(min(2000,len(dfin.dropna(subset=need))), random_state=SEED)\n",
    "    plt.scatter(samp[xvar], samp[response], alpha=0.2); plt.plot(xgrid, yhat)\n",
    "    ttl=', '.join([f\"{k}={v}\" for k,v in fixed_cats.items()]) if fixed_cats else 'overall'\n",
    "    plt.title(f'{response} ~ {xvar} | {ttl}'); plt.xlabel(xvar); plt.ylabel(response); plt.tight_layout()\n",
    "    if savepath: plt.savefig(savepath, dpi=150)\n",
    "    plt.show()\n",
    "if len(df)>0 and {'FFD','entropy'}.issubset(df.columns):\n",
    "    controls=[c for c in ['length','log_freq'] if c in df.columns]\n",
    "    partial_plot(df,'FFD','entropy',controls,{},savepath=Path('figures/metrics')/'F2_reading_vs_KEC.png')\n",
    "    if 'Dataset' in df:\n",
    "        for ds in sorted(df['Dataset'].dropna().unique()):\n",
    "            dsd=df[df['Dataset']==ds]\n",
    "            partial_plot(dsd,'FFD','entropy',controls,{'Dataset':ds},savepath=Path('figures/metrics')/f'F2_reading_vs_KEC_{ds}.png')\n",
    "    if 'Task' in df:\n",
    "        for tk in sorted(df['Task'].dropna().unique()):\n",
    "            tkd=df[df['Task']==tk]\n",
    "            partial_plot(tkd,'FFD','entropy',controls,{'Task':tk},savepath=Path('figures/metrics')/f'F2_reading_vs_KEC_task_{tk}.png')\n"
   ]
  },
  {
   "cell_type": "code",
   "execution_count": 13,
   "metadata": {},
   "outputs": [
    {
     "data": {
      "image/png": "[encoded data removed]",
      "text/plain": [
       "<Figure size 1200x300 with 2 Axes>"
      ]
     },
     "metadata": {},
     "output_type": "display_data"
    },
    {
     "data": {
      "image/png": "[encoded data removed]",
      "text/plain": [
       "<Figure size 1200x300 with 1 Axes>"
      ]
     },
     "metadata": {},
     "output_type": "display_data"
    }
   ],
   "source": [
    "def per_subject_trends(dfin, eeg_col='ThetaPower', xvar='entropy', by='Dataset', saveprefix='F3_EEG_vs_KEC'):\n",
    "    import math\n",
    "    if not {'Subject',eeg_col,xvar}.issubset(dfin.columns): return\n",
    "    groups=sorted(dfin[by].dropna().unique()) if (by and by in dfin.columns) else [None]\n",
    "    for g in groups:\n",
    "        dsub=dfin if g is None else dfin[dfin[by]==g]\n",
    "        subs=sorted(dsub['Subject'].astype(str).unique()); nsub=len(subs)\n",
    "        if nsub==0: continue\n",
    "        ncols=4; nrows=int(math.ceil(nsub/ncols))\n",
    "        plt.figure(figsize=(12,3*nrows))\n",
    "        for i,s in enumerate(subs,1):\n",
    "            ax=plt.subplot(nrows,ncols,i)\n",
    "            sdf=dsub[dsub['Subject'].astype(str)==str(s)].dropna(subset=[eeg_col,xvar])\n",
    "            if len(sdf)<5: ax.set_title(f'{s} (few)'); continue\n",
    "            ax.scatter(sdf[xvar], sdf[eeg_col], alpha=0.3)\n",
    "            try:\n",
    "                m=smf.ols(f\"{eeg_col} ~ {xvar}\", data=sdf).fit(); xs=np.linspace(sdf[xvar].min(), sdf[xvar].max(), 50)\n",
    "                ys=m.params['Intercept'] + m.params[xvar]*xs; ax.plot(xs, ys)\n",
    "            except Exception: pass\n",
    "            ax.set_title(str(s)); ax.set_xlabel(xvar); ax.set_ylabel(eeg_col)\n",
    "        plt.tight_layout(); tag=f'_{by}_{g}' if g is not None else ''\n",
    "        out=Path('figures/metrics')/f'{saveprefix}{tag}.png'; plt.savefig(out, dpi=150)\n",
    "        plt.show()\n",
    "if len(df)>0 and 'entropy' in df.columns and any(c in df.columns for c in ['ThetaPower','AlphaPower']):\n",
    "    eegc='ThetaPower' if 'ThetaPower' in df.columns else 'AlphaPower'\n",
    "    per_subject_trends(df, eeg_col=eegc, xvar='entropy', by='Dataset', saveprefix='F3_EEG_vs_KEC')\n"
   ]
  },
  {
   "cell_type": "code",
   "execution_count": 14,
   "metadata": {},
   "outputs": [],
   "source": [
    "from statsmodels.regression.mixed_linear_model import MixedLM\n",
    "def fit_mixedlm_ffd(dfin):\n",
    "    req={'FFD','entropy','length','log_freq','Subject','SentenceID'}\n",
    "    if not req.issubset(dfin.columns): return None\n",
    "    use=['FFD','entropy','length','log_freq','Subject','SentenceID']\n",
    "    if 'Task' in dfin.columns: use.append('Task')\n",
    "    if 'Dataset' in dfin.columns: use.append('Dataset')\n",
    "    mdf=dfin[use].dropna().copy()\n",
    "    # dummies\n",
    "    import pandas as pd\n",
    "    for cat in ['Task','Dataset']:\n",
    "        if cat in mdf.columns:\n",
    "            dummies=pd.get_dummies(mdf[cat], prefix=cat, drop_first=True)\n",
    "            mdf=pd.concat([mdf.drop(columns=[cat]), dummies], axis=1)\n",
    "    exog_cols=[c for c in mdf.columns if c not in ['FFD','Subject','SentenceID']]\n",
    "    exog=sm.add_constant(mdf[exog_cols]); endog=mdf['FFD']\n",
    "    vc={'Sentence': '0 + C(SentenceID)'}\n",
    "    try:\n",
    "        model=MixedLM(endog, exog, groups=mdf['Subject'], vc_formula=vc)\n",
    "        res=model.fit(reml=True, method='lbfgs')\n",
    "        (PROC_DIR/'mixedlm_ffd_summary.txt').write_text(str(res.summary()))\n",
    "        print('Saved MixedLM summary')\n",
    "        return res\n",
    "    except Exception as e:\n",
    "        warnings.warn(f'MixedLM failed: {e}'); return None\n",
    "# Uncomment to run: _=fit_mixedlm_ffd(df)\n"
   ]
  },
  {
   "cell_type": "code",
   "execution_count": 15,
   "metadata": {},
   "outputs": [],
   "source": [
    "from joblib import Parallel, delayed\n",
    "\n",
    "def _boot_fit_once(groups, dfin, formula, rng):\n",
    "    \"\"\"Fit one bootstrap sample by resampling groups with replacement and fitting OLS.\"\"\"\n",
    "    samp_groups = rng.choice(groups, size=len(groups), replace=True)\n",
    "    samp_df = pd.concat([dfin[dfin['Subject'] == g] for g in samp_groups], ignore_index=True)\n",
    "    try:\n",
    "        m = smf.ols(formula, data=samp_df).fit()\n",
    "        return m.params\n",
    "    except Exception:\n",
    "        return None\n",
    "\n",
    "\n",
    "def bootstrap_coefs_parallel(dfin, formula, group_col='Subject', B=1000, n_jobs=-1, seed=42):\n",
    "    \"\"\"Parallel bootstrap of OLS coefficients by resampling group_col.\n",
    "\n",
    "    Parameters:\n",
    "        dfin: DataFrame containing data\n",
    "        formula: Patsy formula for OLS\n",
    "        group_col: Column to bootstrap at the group level (e.g., 'Subject')\n",
    "        B: Number of bootstrap iterations\n",
    "        n_jobs: Parallel workers (-1 uses all cores)\n",
    "        seed: RNG seed\n",
    "    Returns:\n",
    "        DataFrame of bootstrap coefficient draws (rows=draws, cols=terms)\n",
    "    \"\"\"\n",
    "    rng = np.random.default_rng(seed)\n",
    "    groups = dfin[group_col].dropna().unique()\n",
    "    seeds = rng.integers(0, 2**32 - 1, size=B, endpoint=True)\n",
    "\n",
    "    res = Parallel(n_jobs=n_jobs, verbose=10)(\n",
    "        delayed(_boot_fit_once)(groups, dfin, formula, np.random.default_rng(int(s)))\n",
    "        for s in seeds\n",
    "    )\n",
    "    return pd.DataFrame([r for r in res if r is not None])\n",
    "\n",
    "# Example usage:\n",
    "# if len(df) > 0 and {'FFD','entropy','length','log_freq','Subject'}.issubset(df.columns):\n",
    "#     boot = bootstrap_coefs_parallel(\n",
    "#         df[['FFD','entropy','length','log_freq','Subject']].dropna(),\n",
    "#         'FFD ~ entropy + length + log_freq',\n",
    "#         B=1000, n_jobs=-1\n",
    "#     )\n",
    "#     boot.to_csv(Path('data/processed')/'boot_ols_ffd_entropy.csv', index=False)\n",
    "#     print('Saved bootstrap')"
   ]
  },
  {
   "cell_type": "code",
   "execution_count": 16,
   "id": "5dba3399",
   "metadata": {},
   "outputs": [
    {
     "name": "stdout",
     "output_type": "stream",
     "text": [
      "Requirement already satisfied: joblib in /home/agourakis82/miniforge3/envs/pcs-llm/lib/python3.11/site-packages (1.5.2)\n",
      "Note: you may need to restart the kernel to use updated packages.\n",
      "Note: you may need to restart the kernel to use updated packages.\n"
     ]
    }
   ],
   "source": [
    "%pip install joblib"
   ]
  },
  {
   "cell_type": "code",
   "execution_count": 17,
   "metadata": {},
   "outputs": [
    {
     "name": "stdout",
     "output_type": "stream",
     "text": [
      "Saved QA 2025-09-02T09:34:28.693569Z\n"
     ]
    }
   ],
   "source": [
    "from datetime import datetime, timezone\n",
    "import json\n",
    "from pathlib import Path\n",
    "\n",
    "# Build QA with dynamic timestamp and safe guards\n",
    "now = datetime.now(timezone.utc).isoformat().replace(\"+00:00\", \"Z\")\n",
    "rows = int(len(df)) if 'df' in locals() and isinstance(df, pd.DataFrame) else 0\n",
    "cols = list(df.columns) if 'df' in locals() and isinstance(df, pd.DataFrame) else []\n",
    "\n",
    "qa = {\n",
    "    'timestamp_utc': now,\n",
    "    'merged_rows': rows,\n",
    "    'et_cols': [c for c in ('FFD','GD','log_TRT','log_GPT') if c in cols],\n",
    "    'kec_cols': [c for c in ('entropy','curvature','coherence') if c in cols],\n",
    "    'cat_covs': [c for c in ('Dataset','Task') if c in cols],\n",
    "    'reading_coeffs_csv': str(PROC_DIR/'models_reading_coeffs.csv') if 'PROC_DIR' in locals() and (PROC_DIR/'models_reading_coeffs.csv').exists() else None,\n",
    "    'reading_coeffs_fdr_csv': str(PROC_DIR/'models_reading_coeffs_fdr.csv') if 'PROC_DIR' in locals() and (PROC_DIR/'models_reading_coeffs_fdr.csv').exists() else None,\n",
    "    'mixedlm_summary': str(PROC_DIR/'mixedlm_ffd_summary.txt') if 'PROC_DIR' in locals() and (PROC_DIR/'mixedlm_ffd_summary.txt').exists() else None,\n",
    "    'fig_f2': [str(p) for p in Path('figures/metrics').glob('F2_reading_vs_KEC*.png')],\n",
    "    'fig_f3': [str(p) for p in Path('figures/metrics').glob('F3_EEG_vs_KEC*.png')],\n",
    "}\n",
    "\n",
    "# Ensure reports directory and write QA\n",
    "Path('reports').mkdir(parents=True, exist_ok=True)\n",
    "(Path('reports')/'qa_kec_models.json').write_text(json.dumps(qa, indent=2))\n",
    "print('Saved QA', qa['timestamp_utc'])"
   ]
  }
 ],
 "metadata": {
  "kernelspec": {
   "display_name": "pcs-llm",
   "language": "python",
   "name": "python3"
  },
  "language_info": {
   "codemirror_mode": {
    "name": "ipython",
    "version": 3
   },
   "file_extension": ".py",
   "mimetype": "text/x-python",
   "name": "python",
   "nbconvert_exporter": "python",
   "pygments_lexer": "ipython3",
   "version": "3.11.13"
  }
 },
 "nbformat": 4,
 "nbformat_minor": 5
}
