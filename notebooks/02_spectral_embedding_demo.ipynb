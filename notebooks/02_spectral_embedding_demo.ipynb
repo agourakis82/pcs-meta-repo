{
 "cells": [
  {
   "cell_type": "markdown",
   "metadata": {},
   "source": [
    "# Spectral Embedding Demo (Fiedler Vector)\n",
    "\n",
    "Build simple ring and block graphs, compute Fiedler vector and a 2D spectral embedding."
   ]
  },
  {
   "cell_type": "code",
   "execution_count": null,
   "metadata": {},
   "outputs": [],
   "source": [
    "import sys, os\n",
    "import numpy as np\n",
    "import matplotlib.pyplot as plt\n",
    "\n",
    "repo_root = os.path.abspath(os.path.join(os.getcwd()))\n",
    "if os.path.isdir(os.path.join(repo_root, 'src')) and repo_root not in sys.path:\n",
    "    sys.path.insert(0, repo_root)\n",
    "\n",
    "from src.pcs_graph.spectral_embedding import fiedler_vector, spectral_embedding\n",
    "np.random.seed(0)"
   ]
  },
  {
   "cell_type": "markdown",
   "metadata": {},
   "source": [
    "## Block graph (two clusters)"
   ]
  },
  {
   "cell_type": "code",
   "execution_count": null,
   "metadata": {},
   "outputs": [],
   "source": [
    "n1, n2 = 12, 12\n",
    "W = np.zeros((n1+n2, n1+n2))\n",
    "W[:n1, :n1] = 1.0\n",
    "W[n1:, n1:] = 1.0\n",
    "W[:n1, n1:] = 0.02\n",
    "W[n1:, :n1] = 0.02\n",
    "np.fill_diagonal(W, 0.0)\n",
    "\n",
    "v2 = fiedler_vector(W, norm='sym', solver='eigh', k=2)\n",
    "Y, info = spectral_embedding(W, k=2, norm='sym', solver='eigh', return_info=True)\n",
    "print('eigenvalues:', info['eigenvalues'])\n",
    "plt.figure(figsize=(5,4))\n",
    "plt.scatter(Y[:n1,0], Y[:n1,1], c='tab:blue', label='block 1')\n",
    "plt.scatter(Y[n1:,0], Y[n1:,1], c='tab:orange', label='block 2')\n",
    "plt.legend(); plt.title('Spectral embedding (k=2)'); plt.xlabel('v2'); plt.ylabel('v3'); plt.tight_layout()\n",
    "plt.show()"
   ]
  },
  {
   "cell_type": "markdown",
   "metadata": {},
   "source": [
    "## Ring graph (cycle)"
   ]
  },
  {
   "cell_type": "code",
   "execution_count": null,
   "metadata": {},
   "outputs": [],
   "source": [
    "n = 30\n",
    "W = np.zeros((n, n))\n",
    "for i in range(n):\n",
    "    W[i, (i+1)%n] = 1.0\n",
    "    W[(i+1)%n, i] = 1.0\n",
    "v2 = fiedler_vector(W, norm='sym', solver='eigh', k=2)\n",
    "Y = spectral_embedding(W, k=2, norm='sym', solver='eigh')\n",
    "plt.figure(figsize=(5,4))\n",
    "theta = np.linspace(0, 2*np.pi, n, endpoint=False)\n",
    "plt.plot(np.cos(theta), np.sin(theta), 'k--', alpha=0.3)\n",
    "plt.scatter(Y[:,0], Y[:,1], c=np.arange(n), cmap='hsv', s=25)\n",
    "plt.colorbar(label='node index'); plt.axis('equal'); plt.title('Cycle graph embedding');\n",
    "plt.tight_layout(); plt.show()"
   ]
  }
 ],
 "metadata": {
  "kernelspec": {
   "display_name": "Python 3",
   "language": "python",
   "name": "python3"
  },
  "language_info": {
   "name": "python",
   "version": "3.10"
  }
 },
 "nbformat": 4,
 "nbformat_minor": 5
}

