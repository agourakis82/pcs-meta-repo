{
 "cells": [
  {
   "cell_type": "markdown",
   "id": "e0a8f44e",
   "metadata": {},
   "source": [
    "# PCS‑HELIO v4.3 — 05 · Reading Analysis\n",
    "OLS (clustered) and MixedLM; BH‑FDR; saves coeff tables and F2 figure."
   ]
  },
  {
   "cell_type": "code",
   "execution_count": 1,
   "id": "e3f27962",
   "metadata": {
    "execution": {
     "iopub.execute_input": "2025-09-02T13:19:40.772933Z",
     "iopub.status.busy": "2025-09-02T13:19:40.772676Z",
     "iopub.status.idle": "2025-09-02T13:19:44.642639Z",
     "shell.execute_reply": "2025-09-02T13:19:44.641441Z"
    }
   },
   "outputs": [
    {
     "data": {
      "text/html": [
       "\n",
       "\t\t\t<script type=\"text/javascript\">\n",
       "\t\t\t<!--\n",
       "\t\t\t\t\n",
       "\t\t\t{\n",
       "\t\t\t\tvar element = document.getElementById('NetworKit_script');\n",
       "\t\t\t\tif (element) {\n",
       "\t\t\t\t\telement.parentNode.removeChild(element);\n",
       "\t\t\t\t}\n",
       "\t\t\t\telement = document.createElement('script');\n",
       "\t\t\t\telement.type = 'text/javascript';\n",
       "\t\t\t\telement.innerHTML = 'function NetworKit_pageEmbed(id) { var i, j; var elements; elements = document.getElementById(id).getElementsByClassName(\"Plot\"); for (i=0; i<elements.length; i++) { elements[i].id = id + \"_Plot_\" + i; var data = elements[i].getAttribute(\"data-image\").split(\"|\"); elements[i].removeAttribute(\"data-image\"); var content = \"<div class=\\\\\"Image\\\\\" id=\\\\\"\" + elements[i].id + \"_Image\\\\\" />\"; elements[i].innerHTML = content; elements[i].setAttribute(\"data-image-index\", 0); elements[i].setAttribute(\"data-image-length\", data.length); for (j=0; j<data.length; j++) { elements[i].setAttribute(\"data-image-\" + j, data[j]); } NetworKit_plotUpdate(elements[i]); elements[i].onclick = function (e) { NetworKit_overlayShow((e.target) ? e.target : e.srcElement); } } elements = document.getElementById(id).getElementsByClassName(\"HeatCell\"); for (i=0; i<elements.length; i++) { var data = parseFloat(elements[i].getAttribute(\"data-heat\")); var color = \"#00FF00\"; if (data <= 1 && data > 0) { color = \"hsla(0, 100%, 75%, \" + (data) + \")\"; } else if (data <= 0 && data >= -1) { color = \"hsla(240, 100%, 75%, \" + (-data) + \")\"; } elements[i].style.backgroundColor = color; } elements = document.getElementById(id).getElementsByClassName(\"Details\"); for (i=0; i<elements.length; i++) { elements[i].setAttribute(\"data-title\", \"-\"); NetworKit_toggleDetails(elements[i]); elements[i].onclick = function (e) { NetworKit_toggleDetails((e.target) ? e.target : e.srcElement); } } elements = document.getElementById(id).getElementsByClassName(\"MathValue\"); for (i=elements.length-1; i>=0; i--) { value = elements[i].innerHTML.trim(); if (value === \"nan\") { elements[i].parentNode.innerHTML = \"\" } } elements = document.getElementById(id).getElementsByClassName(\"SubCategory\"); for (i=elements.length-1; i>=0; i--) { value = elements[i].innerHTML.trim(); if (value === \"\") { elements[i].parentNode.removeChild(elements[i]) } } elements = document.getElementById(id).getElementsByClassName(\"Category\"); for (i=elements.length-1; i>=0; i--) { value = elements[i].innerHTML.trim(); if (value === \"\") { elements[i].parentNode.removeChild(elements[i]) } } var isFirefox = false; try { isFirefox = typeof InstallTrigger !== \"undefined\"; } catch (e) {} if (!isFirefox) { alert(\"Currently the function\\'s output is only fully supported by Firefox.\"); } } function NetworKit_plotUpdate(source) { var index = source.getAttribute(\"data-image-index\"); var data = source.getAttribute(\"data-image-\" + index); var image = document.getElementById(source.id + \"_Image\"); image.style.backgroundImage = \"url(\" + data + \")\"; } function NetworKit_showElement(id, show) { var element = document.getElementById(id); element.style.display = (show) ? \"block\" : \"none\"; } function NetworKit_overlayShow(source) { NetworKit_overlayUpdate(source); NetworKit_showElement(\"NetworKit_Overlay\", true); } function NetworKit_overlayUpdate(source) { document.getElementById(\"NetworKit_Overlay_Title\").innerHTML = source.title; var index = source.getAttribute(\"data-image-index\"); var data = source.getAttribute(\"data-image-\" + index); var image = document.getElementById(\"NetworKit_Overlay_Image\"); image.setAttribute(\"data-id\", source.id); image.style.backgroundImage = \"url(\" + data + \")\"; var link = document.getElementById(\"NetworKit_Overlay_Toolbar_Bottom_Save\"); link.href = data; link.download = source.title + \".svg\"; } function NetworKit_overlayImageShift(delta) { var image = document.getElementById(\"NetworKit_Overlay_Image\"); var source = document.getElementById(image.getAttribute(\"data-id\")); var index = parseInt(source.getAttribute(\"data-image-index\")); var length = parseInt(source.getAttribute(\"data-image-length\")); var index = (index+delta) % length; if (index < 0) { index = length + index; } source.setAttribute(\"data-image-index\", index); NetworKit_overlayUpdate(source); } function NetworKit_toggleDetails(source) { var childs = source.children; var show = false; if (source.getAttribute(\"data-title\") == \"-\") { source.setAttribute(\"data-title\", \"+\"); show = false; } else { source.setAttribute(\"data-title\", \"-\"); show = true; } for (i=0; i<childs.length; i++) { if (show) { childs[i].style.display = \"block\"; } else { childs[i].style.display = \"none\"; } } }';\n",
       "\t\t\t\telement.setAttribute('id', 'NetworKit_script');\n",
       "\t\t\t\tdocument.head.appendChild(element);\n",
       "\t\t\t}\n",
       "\t\t\n",
       "\t\t\t\t\n",
       "\t\t\t{\n",
       "\t\t\t\tvar element = document.getElementById('NetworKit_style');\n",
       "\t\t\t\tif (element) {\n",
       "\t\t\t\t\telement.parentNode.removeChild(element);\n",
       "\t\t\t\t}\n",
       "\t\t\t\telement = document.createElement('style');\n",
       "\t\t\t\telement.type = 'text/css';\n",
       "\t\t\t\telement.innerHTML = '.NetworKit_Page { font-family: Arial, Helvetica, sans-serif; font-size: 14px; } .NetworKit_Page .Value:before { font-family: Arial, Helvetica, sans-serif; font-size: 1.05em; content: attr(data-title) \":\"; margin-left: -2.5em; padding-right: 0.5em; } .NetworKit_Page .Details .Value:before { display: block; } .NetworKit_Page .Value { font-family: monospace; white-space: pre; padding-left: 2.5em; white-space: -moz-pre-wrap !important; white-space: -pre-wrap; white-space: -o-pre-wrap; white-space: pre-wrap; word-wrap: break-word; tab-size: 4; -moz-tab-size: 4; } .NetworKit_Page .Category { clear: both; padding-left: 1em; margin-bottom: 1.5em; } .NetworKit_Page .Category:before { content: attr(data-title); font-size: 1.75em; display: block; margin-left: -0.8em; margin-bottom: 0.5em; } .NetworKit_Page .SubCategory { margin-bottom: 1.5em; padding-left: 1em; } .NetworKit_Page .SubCategory:before { font-size: 1.6em; display: block; margin-left: -0.8em; margin-bottom: 0.5em; } .NetworKit_Page .SubCategory[data-title]:before { content: attr(data-title); } .NetworKit_Page .Block { display: block; } .NetworKit_Page .Block:after { content: \".\"; visibility: hidden; display: block; height: 0; clear: both; } .NetworKit_Page .Block .Thumbnail_Overview, .NetworKit_Page .Block .Thumbnail_ScatterPlot { width: 260px; float: left; } .NetworKit_Page .Block .Thumbnail_Overview img, .NetworKit_Page .Block .Thumbnail_ScatterPlot img { width: 260px; } .NetworKit_Page .Block .Thumbnail_Overview:before, .NetworKit_Page .Block .Thumbnail_ScatterPlot:before { display: block; text-align: center; font-weight: bold; } .NetworKit_Page .Block .Thumbnail_Overview:before { content: attr(data-title); } .NetworKit_Page .HeatCell { font-family: \"Courier New\", Courier, monospace; cursor: pointer; } .NetworKit_Page .HeatCell, .NetworKit_Page .HeatCellName { display: inline; padding: 0.1em; margin-right: 2px; background-color: #FFFFFF } .NetworKit_Page .HeatCellName { margin-left: 0.25em; } .NetworKit_Page .HeatCell:before { content: attr(data-heat); display: inline-block; color: #000000; width: 4em; text-align: center; } .NetworKit_Page .Measure { clear: both; } .NetworKit_Page .Measure .Details { cursor: pointer; } .NetworKit_Page .Measure .Details:before { content: \"[\" attr(data-title) \"]\"; display: block; } .NetworKit_Page .Measure .Details .Value { border-left: 1px dotted black; margin-left: 0.4em; padding-left: 3.5em; pointer-events: none; } .NetworKit_Page .Measure .Details .Spacer:before { content: \".\"; opacity: 0.0; pointer-events: none; } .NetworKit_Page .Measure .Plot { width: 440px; height: 440px; cursor: pointer; float: left; margin-left: -0.9em; margin-right: 20px; } .NetworKit_Page .Measure .Plot .Image { background-repeat: no-repeat; background-position: center center; background-size: contain; height: 100%; pointer-events: none; } .NetworKit_Page .Measure .Stat { width: 500px; float: left; } .NetworKit_Page .Measure .Stat .Group { padding-left: 1.25em; margin-bottom: 0.75em; } .NetworKit_Page .Measure .Stat .Group .Title { font-size: 1.1em; display: block; margin-bottom: 0.3em; margin-left: -0.75em; border-right-style: dotted; border-right-width: 1px; border-bottom-style: dotted; border-bottom-width: 1px; background-color: #D0D0D0; padding-left: 0.2em; } .NetworKit_Page .Measure .Stat .Group .List { -webkit-column-count: 3; -moz-column-count: 3; column-count: 3; } .NetworKit_Page .Measure .Stat .Group .List .Entry { position: relative; line-height: 1.75em; } .NetworKit_Page .Measure .Stat .Group .List .Entry[data-tooltip]:before { position: absolute; left: 0; top: -40px; background-color: #808080; color: #ffffff; height: 30px; line-height: 30px; border-radius: 5px; padding: 0 15px; content: attr(data-tooltip); white-space: nowrap; display: none; } .NetworKit_Page .Measure .Stat .Group .List .Entry[data-tooltip]:after { position: absolute; left: 15px; top: -10px; border-top: 7px solid #808080; border-left: 7px solid transparent; border-right: 7px solid transparent; content: \"\"; display: none; } .NetworKit_Page .Measure .Stat .Group .List .Entry[data-tooltip]:hover:after, .NetworKit_Page .Measure .Stat .Group .List .Entry[data-tooltip]:hover:before { display: block; } .NetworKit_Page .Measure .Stat .Group .List .Entry .MathValue { font-family: \"Courier New\", Courier, monospace; } .NetworKit_Page .Measure:after { content: \".\"; visibility: hidden; display: block; height: 0; clear: both; } .NetworKit_Page .PartitionPie { clear: both; } .NetworKit_Page .PartitionPie img { width: 600px; } #NetworKit_Overlay { left: 0px; top: 0px; display: none; position: absolute; width: 100%; height: 100%; background-color: rgba(0,0,0,0.6); z-index: 1000; } #NetworKit_Overlay_Title { position: absolute; color: white; transform: rotate(-90deg); width: 32em; height: 32em; padding-right: 0.5em; padding-top: 0.5em; text-align: right; font-size: 40px; } #NetworKit_Overlay .button { background: white; cursor: pointer; } #NetworKit_Overlay .button:before { size: 13px; display: inline-block; text-align: center; margin-top: 0.5em; margin-bottom: 0.5em; width: 1.5em; height: 1.5em; } #NetworKit_Overlay .icon-close:before { content: \"X\"; } #NetworKit_Overlay .icon-previous:before { content: \"P\"; } #NetworKit_Overlay .icon-next:before { content: \"N\"; } #NetworKit_Overlay .icon-save:before { content: \"S\"; } #NetworKit_Overlay_Toolbar_Top, #NetworKit_Overlay_Toolbar_Bottom { position: absolute; width: 40px; right: 13px; text-align: right; z-index: 1100; } #NetworKit_Overlay_Toolbar_Top { top: 0.5em; } #NetworKit_Overlay_Toolbar_Bottom { Bottom: 0.5em; } #NetworKit_Overlay_ImageContainer { position: absolute; top: 5%; left: 5%; height: 90%; width: 90%; background-repeat: no-repeat; background-position: center center; background-size: contain; } #NetworKit_Overlay_Image { height: 100%; width: 100%; background-repeat: no-repeat; background-position: center center; background-size: contain; }';\n",
       "\t\t\t\telement.setAttribute('id', 'NetworKit_style');\n",
       "\t\t\t\tdocument.head.appendChild(element);\n",
       "\t\t\t}\n",
       "\t\t\n",
       "\t\t\t\t\n",
       "\t\t\t{\n",
       "\t\t\t\tvar element = document.getElementById('NetworKit_Overlay');\n",
       "\t\t\t\tif (element) {\n",
       "\t\t\t\t\telement.parentNode.removeChild(element);\n",
       "\t\t\t\t}\n",
       "\t\t\t\telement = document.createElement('div');\n",
       "\t\t\t\telement.innerHTML = '<div id=\"NetworKit_Overlay_Toolbar_Top\"><div class=\"button icon-close\" id=\"NetworKit_Overlay_Close\" /></div><div id=\"NetworKit_Overlay_Title\" /> <div id=\"NetworKit_Overlay_ImageContainer\"> <div id=\"NetworKit_Overlay_Image\" /> </div> <div id=\"NetworKit_Overlay_Toolbar_Bottom\"> <div class=\"button icon-previous\" onclick=\"NetworKit_overlayImageShift(-1)\" /> <div class=\"button icon-next\" onclick=\"NetworKit_overlayImageShift(1)\" /> <a id=\"NetworKit_Overlay_Toolbar_Bottom_Save\"><div class=\"button icon-save\" /></a> </div>';\n",
       "\t\t\t\telement.setAttribute('id', 'NetworKit_Overlay');\n",
       "\t\t\t\tdocument.body.appendChild(element);\n",
       "\t\t\t\tdocument.getElementById('NetworKit_Overlay_Close').onclick = function (e) {\n",
       "\t\t\t\t\tdocument.getElementById('NetworKit_Overlay').style.display = 'none';\n",
       "\t\t\t\t}\n",
       "\t\t\t}\n",
       "\t\t\n",
       "\t\t\t-->\n",
       "\t\t\t</script>\n",
       "\t\t"
      ]
     },
     "metadata": {},
     "output_type": "display_data"
    },
    {
     "name": "stdout",
     "output_type": "stream",
     "text": [
      "[STYLE] _style.css not found; proceeding.\n",
      "[Preflight] Python: 3.12.11 | Platform: Linux-5.15.167.4-microsoft-standard-WSL2-x86_64-with-glibc2.35\n",
      "[Preflight] pandas: 2.3.2 | numpy: 1.26.4\n",
      "[Preflight] Folders ready.\n"
     ]
    },
    {
     "data": {
      "text/html": [
       "<pre>\n",
       "**Notebook Contract (PCS‑HELIO v4.3)**\n",
       "- IMRaD sections (Intro/Methods/Results/Discussion).\n",
       "- RUN_MODE ∈ {'sample','full'}; sample must run fast and never crash.\n",
       "- Required outputs saved under data/processed/** and reports/**.\n",
       "- QA cell with asserts (columns present, row counts, coverage).\n",
       "- Seeds fixed; no absolute paths; public data only.\n",
       "</pre>"
      ],
      "text/plain": [
       "<IPython.core.display.HTML object>"
      ]
     },
     "metadata": {},
     "output_type": "display_data"
    }
   ],
   "source": [
    "from pathlib import Path; import pandas as pd, numpy as np, json, sys\n",
    "# Robust import of shared fragments regardless of CWD\n",
    "ROOT = Path.cwd()\n",
    "if (ROOT/'notebooks'/'_fragments.py').exists():\n",
    "    sys.path.insert(0, str(ROOT))\n",
    "elif (ROOT.parent/'notebooks'/'_fragments.py').exists():\n",
    "    sys.path.insert(0, str(ROOT.parent))\n",
    "try:\n",
    "    from notebooks._fragments import apply_style, preflight_checks, print_contract, qa_assertions, save_manifest\n",
    "except Exception as e:\n",
    "    print('[preflight] Failed importing notebooks._fragments:', e)\n",
    "    def apply_style(): pass\n",
    "    def preflight_checks(): pass\n",
    "    def print_contract(): pass\n",
    "    def qa_assertions(df, rules): pass\n",
    "    def save_manifest(path, payload): Path(path).parent.mkdir(parents=True, exist_ok=True); Path(path).write_text(json.dumps(payload, indent=2))\n",
    "from pcs_toolbox.analysis import fit_ols_clustered, fit_mixedlm, apply_fdr\n",
    "apply_style(); preflight_checks(); print_contract()\n",
    "BASE=Path('.') ; DATA=BASE/'data' ; PROC=DATA/'processed' ; RPTS=BASE/'reports' ; FIG=BASE/'figures'/'metrics'\n",
    "PROC.mkdir(parents=True, exist_ok=True); RPTS.mkdir(parents=True, exist_ok=True); FIG.mkdir(parents=True, exist_ok=True)\n"
   ]
  },
  {
   "cell_type": "code",
   "execution_count": 2,
   "id": "d236aeb5",
   "metadata": {
    "execution": {
     "iopub.execute_input": "2025-09-02T13:19:44.646238Z",
     "iopub.status.busy": "2025-09-02T13:19:44.645548Z",
     "iopub.status.idle": "2025-09-02T13:19:44.669037Z",
     "shell.execute_reply": "2025-09-02T13:19:44.667919Z"
    }
   },
   "outputs": [
    {
     "name": "stdout",
     "output_type": "stream",
     "text": [
      "Rows: 0\n"
     ]
    },
    {
     "data": {
      "text/html": [
       "<div>\n",
       "<style scoped>\n",
       "    .dataframe tbody tr th:only-of-type {\n",
       "        vertical-align: middle;\n",
       "    }\n",
       "\n",
       "    .dataframe tbody tr th {\n",
       "        vertical-align: top;\n",
       "    }\n",
       "\n",
       "    .dataframe thead th {\n",
       "        text-align: right;\n",
       "    }\n",
       "</style>\n",
       "<table border=\"1\" class=\"dataframe\">\n",
       "  <thead>\n",
       "    <tr style=\"text-align: right;\">\n",
       "      <th></th>\n",
       "      <th>Dataset</th>\n",
       "      <th>Task</th>\n",
       "      <th>Subject</th>\n",
       "      <th>SentenceID</th>\n",
       "      <th>w_pos</th>\n",
       "      <th>token</th>\n",
       "      <th>token_norm</th>\n",
       "      <th>theta1</th>\n",
       "      <th>alpha1</th>\n",
       "      <th>beta1</th>\n",
       "      <th>gamma1</th>\n",
       "    </tr>\n",
       "  </thead>\n",
       "  <tbody>\n",
       "  </tbody>\n",
       "</table>\n",
       "</div>"
      ],
      "text/plain": [
       "Empty DataFrame\n",
       "Columns: [Dataset, Task, Subject, SentenceID, w_pos, token, token_norm, theta1, alpha1, beta1, gamma1]\n",
       "Index: []"
      ]
     },
     "metadata": {},
     "output_type": "display_data"
    }
   ],
   "source": [
    "# Load merged dataset (preferred) or fall back to ZuCo only\n",
    "path_merged = PROC/'zuco_kec_merged.csv'\n",
    "path_zuco   = PROC/'zuco_aligned.csv'\n",
    "df = pd.read_csv(path_merged) if path_merged.exists() else (pd.read_csv(path_zuco) if path_zuco.exists() else pd.DataFrame())\n",
    "# Engineer features\n",
    "if not df.empty:\n",
    "    if 'TRT' in df.columns:\n",
    "        df['log_TRT'] = np.log1p(df['TRT'])\n",
    "    if 'GPT' in df.columns:\n",
    "        df['log_GPT'] = np.log1p(df['GPT'])\n",
    "print('Rows:', len(df))\n",
    "display(df.head(3))\n"
   ]
  },
  {
   "cell_type": "code",
   "execution_count": 3,
   "id": "8191077b",
   "metadata": {
    "execution": {
     "iopub.execute_input": "2025-09-02T13:19:44.671848Z",
     "iopub.status.busy": "2025-09-02T13:19:44.671483Z",
     "iopub.status.idle": "2025-09-02T13:19:44.682360Z",
     "shell.execute_reply": "2025-09-02T13:19:44.681619Z"
    }
   },
   "outputs": [
    {
     "name": "stdout",
     "output_type": "stream",
     "text": [
      "Empty DataFrame\n",
      "Columns: []\n",
      "Index: []\n"
     ]
    }
   ],
   "source": [
    "# OLS across outcomes with KEC predictors (+ optional controls)\n",
    "results = []\n",
    "ols_df = pd.DataFrame()\n",
    "if not df.empty:\n",
    "    outcomes = [c for c in ['FFD','GD','log_TRT','log_GPT'] if c in df.columns]\n",
    "    predictors = [c for c in ['entropy','curvature','coherence'] if c in df.columns]\n",
    "    controls = [c for c in ['length','log_freq','w_pos'] if c in df.columns]\n",
    "    if outcomes and predictors and 'Subject' in df.columns:\n",
    "        for y in outcomes:\n",
    "            rhs = predictors + controls\n",
    "            formula = f\"{y} ~ \" + \" + \".join(rhs)\n",
    "            try:\n",
    "                m = fit_ols_clustered(df.dropna(subset=[y]+rhs), formula, cluster='Subject')\n",
    "                for term, est in m.params.items():\n",
    "                    if term=='Intercept': continue\n",
    "                    results.append({'outcome': y, 'term': term, 'estimate': float(est), 'p': float(m.pvalues.get(term, np.nan))})\n",
    "            except Exception as e:\n",
    "                print('[warn] OLS failed for', y, e)\n",
    "ols_df = pd.DataFrame(results) if results else pd.DataFrame()\n",
    "print(ols_df.head())\n",
    "# Save coeffs and FDR\n",
    "if not ols_df.empty:\n",
    "    fdr_df = apply_fdr(ols_df, p_col='p', group_col='outcome', alpha=0.05)\n",
    "    out_csv = PROC/'models_reading_coeffs.csv'\n",
    "    out_fdr = PROC/'models_reading_coeffs_fdr.csv'\n",
    "    ols_df.to_csv(out_csv, index=False)\n",
    "    fdr_df.to_csv(out_fdr, index=False)\n",
    "    save_manifest(RPTS/'models_reading_manifest.json', {'rows': int(len(ols_df)), 'outcomes': sorted(ols_df['outcome'].unique())})\n"
   ]
  },
  {
   "cell_type": "code",
   "execution_count": 4,
   "id": "560aea30",
   "metadata": {
    "execution": {
     "iopub.execute_input": "2025-09-02T13:19:44.684376Z",
     "iopub.status.busy": "2025-09-02T13:19:44.684152Z",
     "iopub.status.idle": "2025-09-02T13:19:44.688248Z",
     "shell.execute_reply": "2025-09-02T13:19:44.687086Z"
    }
   },
   "outputs": [],
   "source": [
    "# Save coeffs and FDR\n",
    "from pcs_toolbox.analysis import apply_fdr\n",
    "if not ols_df.empty:\n",
    "    fdr_df = apply_fdr(ols_df, p_col='p', group_col='outcome', alpha=0.05)\n",
    "    out_csv = PROC/'models_reading_coeffs.csv'\n",
    "    out_fdr = PROC/'models_reading_coeffs_fdr.csv'\n",
    "    ols_df.to_csv(out_csv, index=False)\n",
    "    fdr_df.to_csv(out_fdr, index=False)\n",
    "    save_manifest(RPTS/'models_reading_manifest.json', {'rows': int(len(ols_df)), 'outcomes': sorted(ols_df['outcome'].unique())})\n"
   ]
  },
  {
   "cell_type": "code",
   "execution_count": 5,
   "id": "86cc20c6",
   "metadata": {
    "execution": {
     "iopub.execute_input": "2025-09-02T13:19:44.690904Z",
     "iopub.status.busy": "2025-09-02T13:19:44.690622Z",
     "iopub.status.idle": "2025-09-02T13:19:44.711540Z",
     "shell.execute_reply": "2025-09-02T13:19:44.710304Z"
    }
   },
   "outputs": [
    {
     "name": "stdout",
     "output_type": "stream",
     "text": [
      "no hstar report\n"
     ]
    },
    {
     "name": "stderr",
     "output_type": "stream",
     "text": [
      "python: can't open file '/home/agourakis82/workspace/pcs-meta-repo/notebooks/tools/validate_hstar.py': [Errno 2] No such file or directory\n"
     ]
    }
   ],
   "source": [
    "# Validate H* after saving coefficients\n",
    "import os\n",
    "os.system('python tools/validate_hstar.py')\n",
    "from pathlib import Path\n",
    "p=Path('reports/hstar_status.md')\n",
    "print(p.read_text() if p.exists() else 'no hstar report')\n"
   ]
  },
  {
   "cell_type": "code",
   "execution_count": 6,
   "id": "26078375",
   "metadata": {
    "execution": {
     "iopub.execute_input": "2025-09-02T13:19:44.713719Z",
     "iopub.status.busy": "2025-09-02T13:19:44.713486Z",
     "iopub.status.idle": "2025-09-02T13:19:44.719384Z",
     "shell.execute_reply": "2025-09-02T13:19:44.718762Z"
    }
   },
   "outputs": [
    {
     "name": "stdout",
     "output_type": "stream",
     "text": [
      "[note] No coefficients to plot.\n"
     ]
    }
   ],
   "source": [
    "# Figure F2: coefficients (if available)\n",
    "import matplotlib.pyplot as plt\n",
    "if not pd.DataFrame(results).empty:\n",
    "    agg = pd.DataFrame(results)\n",
    "    # focus on log_TRT if present, else first outcome\n",
    "    focus = 'log_TRT' if 'log_TRT' in agg['outcome'].unique() else agg['outcome'].unique()[0]\n",
    "    sub = agg[agg['outcome']==focus].set_index('term')['estimate']\n",
    "    fig, ax = plt.subplots(figsize=(5,3))\n",
    "    sub.plot(kind='bar', ax=ax)\n",
    "    ax.set_title(f'F2 · OLS coefficients: {focus}')\n",
    "    ax.set_ylabel('Estimate')\n",
    "    fig.tight_layout(); fig.savefig(FIG/'F2_reading_coeffs.png', dpi=150); plt.close(fig)\n",
    "else:\n",
    "    print('[note] No coefficients to plot.')\n",
    "# QA\n",
    "if not pd.DataFrame(results).empty:\n",
    "    qa_assertions(pd.DataFrame(results), {'min_rows': 3})\n"
   ]
  }
 ],
 "metadata": {
  "kernelspec": {
   "display_name": "Python 3",
   "language": "python",
   "name": "python3"
  },
  "language_info": {
   "codemirror_mode": {
    "name": "ipython",
    "version": 3
   },
   "file_extension": ".py",
   "mimetype": "text/x-python",
   "name": "python",
   "nbconvert_exporter": "python",
   "pygments_lexer": "ipython3",
   "version": "3.12.11"
  }
 },
 "nbformat": 4,
 "nbformat_minor": 5
}
