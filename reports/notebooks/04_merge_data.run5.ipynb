{
 "cells": [
  {
   "cell_type": "markdown",
   "id": "2e937620",
   "metadata": {},
   "source": [
    "# PCS‑HELIO v4.3 — 04 · Merge ZuCo ⟂ KEC\n",
    "Join ZuCo token table with KEC metrics by token_norm; write merged CSV and QA."
   ]
  },
  {
   "cell_type": "code",
   "execution_count": 1,
   "id": "250c5f3d",
   "metadata": {
    "execution": {
     "iopub.execute_input": "2025-09-02T12:27:16.620624Z",
     "iopub.status.busy": "2025-09-02T12:27:16.620373Z",
     "iopub.status.idle": "2025-09-02T12:27:17.043496Z",
     "shell.execute_reply": "2025-09-02T12:27:17.042778Z"
    }
   },
   "outputs": [
    {
     "name": "stdout",
     "output_type": "stream",
     "text": [
      "[STYLE] _style.css not found; proceeding.\n",
      "[Preflight] Python: 3.12.11 | Platform: Linux-5.15.167.4-microsoft-standard-WSL2-x86_64-with-glibc2.35\n",
      "[Preflight] pandas: 2.3.2 | numpy: 1.26.4\n",
      "[Preflight] Folders ready.\n"
     ]
    },
    {
     "data": {
      "text/html": [
       "<pre>\n",
       "**Notebook Contract (PCS‑HELIO v4.3)**\n",
       "- IMRaD sections (Intro/Methods/Results/Discussion).\n",
       "- RUN_MODE ∈ {'sample','full'}; sample must run fast and never crash.\n",
       "- Required outputs saved under data/processed/** and reports/**.\n",
       "- QA cell with asserts (columns present, row counts, coverage).\n",
       "- Seeds fixed; no absolute paths; public data only.\n",
       "</pre>"
      ],
      "text/plain": [
       "<IPython.core.display.HTML object>"
      ]
     },
     "metadata": {},
     "output_type": "display_data"
    }
   ],
   "source": [
    "from pathlib import Path; import json, sys, os, pandas as pd, numpy as np\n",
    "# Robust import of shared fragments regardless of CWD\n",
    "ROOT = Path.cwd()\n",
    "if (ROOT/'notebooks'/'_fragments.py').exists():\n",
    "    sys.path.insert(0, str(ROOT))\n",
    "elif (ROOT.parent/'notebooks'/'_fragments.py').exists():\n",
    "    sys.path.insert(0, str(ROOT.parent))\n",
    "try:\n",
    "    from notebooks._fragments import apply_style, preflight_checks, print_contract, qa_assertions, save_manifest\n",
    "except Exception as e:\n",
    "    print('[preflight] Failed importing notebooks._fragments:', e)\n",
    "    def apply_style(): pass\n",
    "    def preflight_checks(): pass\n",
    "    def print_contract(): pass\n",
    "    def qa_assertions(df, rules): pass\n",
    "    def save_manifest(path, payload): Path(path).parent.mkdir(parents=True, exist_ok=True); Path(path).write_text(json.dumps(payload, indent=2))\n",
    "apply_style(); preflight_checks(); print_contract()\n",
    "BASE=Path('.') ; DATA=BASE/'data' ; PROC=DATA/'processed' ; RPTS=BASE/'reports' ; FIG=BASE/'figures'/'metrics'\n",
    "PROC.mkdir(parents=True, exist_ok=True); RPTS.mkdir(parents=True, exist_ok=True); FIG.mkdir(parents=True, exist_ok=True)\n"
   ]
  },
  {
   "cell_type": "code",
   "execution_count": 2,
   "id": "d6674d8b",
   "metadata": {
    "execution": {
     "iopub.execute_input": "2025-09-02T12:27:17.045979Z",
     "iopub.status.busy": "2025-09-02T12:27:17.045699Z",
     "iopub.status.idle": "2025-09-02T12:27:17.062373Z",
     "shell.execute_reply": "2025-09-02T12:27:17.061336Z"
    }
   },
   "outputs": [
    {
     "name": "stdout",
     "output_type": "stream",
     "text": [
      "ZuCo rows: 0 Merged rows: 0\n"
     ]
    },
    {
     "data": {
      "text/html": [
       "<div>\n",
       "<style scoped>\n",
       "    .dataframe tbody tr th:only-of-type {\n",
       "        vertical-align: middle;\n",
       "    }\n",
       "\n",
       "    .dataframe tbody tr th {\n",
       "        vertical-align: top;\n",
       "    }\n",
       "\n",
       "    .dataframe thead th {\n",
       "        text-align: right;\n",
       "    }\n",
       "</style>\n",
       "<table border=\"1\" class=\"dataframe\">\n",
       "  <thead>\n",
       "    <tr style=\"text-align: right;\">\n",
       "      <th></th>\n",
       "    </tr>\n",
       "  </thead>\n",
       "  <tbody>\n",
       "  </tbody>\n",
       "</table>\n",
       "</div>"
      ],
      "text/plain": [
       "Empty DataFrame\n",
       "Columns: []\n",
       "Index: []"
      ]
     },
     "metadata": {},
     "output_type": "display_data"
    }
   ],
   "source": [
    "# Load inputs\n",
    "zuco_path = PROC/'zuco_aligned.csv'\n",
    "kec_path  = PROC/'kec'/'metrics_en.csv'\n",
    "zuco = pd.read_csv(zuco_path) if zuco_path.exists() else pd.DataFrame()\n",
    "kec  = pd.read_csv(kec_path)  if kec_path.exists()  else pd.DataFrame(columns=['token_norm','entropy','curvature','coherence'])\n",
    "# Ensure token_norm on KEC side\n",
    "if not kec.empty and 'token_norm' not in kec.columns:\n",
    "    src = 'word' if 'word' in kec.columns else ('node' if 'node' in kec.columns else None)\n",
    "    if src is not None:\n",
    "        from pcs_toolbox.common import token_norm\n",
    "        kec['token_norm'] = kec[src].astype(str).map(token_norm)\n",
    "merged = zuco.merge(kec[['token_norm','entropy','curvature','coherence']], on='token_norm', how='left') if not zuco.empty else pd.DataFrame()\n",
    "print('ZuCo rows:', len(zuco), 'Merged rows:', len(merged))\n",
    "display(merged.head(10) if not merged.empty else merged)\n",
    "# Save merged\n",
    "out_path = PROC/'zuco_kec_merged.csv'\n",
    "if not merged.empty:\n",
    "    merged.to_csv(out_path, index=False)\n",
    "    save_manifest(RPTS/'merge_manifest.json', {'rows': int(len(merged)), 'cols': list(merged.columns)})\n"
   ]
  },
  {
   "cell_type": "code",
   "execution_count": 3,
   "id": "2af12873",
   "metadata": {
    "execution": {
     "iopub.execute_input": "2025-09-02T12:27:17.064663Z",
     "iopub.status.busy": "2025-09-02T12:27:17.064418Z",
     "iopub.status.idle": "2025-09-02T12:27:17.070299Z",
     "shell.execute_reply": "2025-09-02T12:27:17.069537Z"
    }
   },
   "outputs": [
    {
     "name": "stdout",
     "output_type": "stream",
     "text": [
      "[note] Nothing to merge (missing zuco_aligned.csv).\n"
     ]
    }
   ],
   "source": [
    "# Coverage and QA\n",
    "if not merged.empty:\n",
    "    cover = merged[['entropy','curvature','coherence']].notna().mean()*100\n",
    "    print('KEC coverage % (by column):')\n",
    "    print(cover.round(1).to_string())\n",
    "    # Missing by task\n",
    "    if 'Task' in merged.columns:\n",
    "        miss_task = (merged.assign(_miss = ~merged[['entropy','curvature','coherence']].notna().any(axis=1))\n",
    "                      .groupby('Task')['_miss'].mean()*100).round(1).to_frame('missing_%')\n",
    "        print(miss_task.to_string())\n",
    "    qa = { 'rows_zuco': int(len(zuco)), 'rows_merged': int(len(merged)), 'coverage_pct': cover.round(2).to_dict() }\n",
    "    (RPTS/'merge_qa.json').write_text(json.dumps(qa, indent=2))\n",
    "    # Simple bar figure\n",
    "    import matplotlib.pyplot as plt\n",
    "    fig, ax = plt.subplots(figsize=(4,3))\n",
    "    cover.plot(kind='bar', ax=ax, color=['#4C78A8','#F58518','#54A24B'])\n",
    "    ax.set_ylim(0,100); ax.set_ylabel('Coverage %'); ax.set_title('KEC coverage in ZuCo tokens');\n",
    "    fig.tight_layout(); fig.savefig(FIG/'F2_kec_coverage.png', dpi=150); plt.close(fig)\n",
    "    # QA asserts\n",
    "    qa_assertions(merged, {'required_cols':['token_norm'], 'min_rows': 5})\n",
    "else:\n",
    "    print('[note] Nothing to merge (missing zuco_aligned.csv).')\n"
   ]
  }
 ],
 "metadata": {
  "kernelspec": {
   "display_name": "Python 3",
   "language": "python",
   "name": "python3"
  },
  "language_info": {
   "codemirror_mode": {
    "name": "ipython",
    "version": 3
   },
   "file_extension": ".py",
   "mimetype": "text/x-python",
   "name": "python",
   "nbconvert_exporter": "python",
   "pygments_lexer": "ipython3",
   "version": "3.12.11"
  }
 },
 "nbformat": 4,
 "nbformat_minor": 5
}
