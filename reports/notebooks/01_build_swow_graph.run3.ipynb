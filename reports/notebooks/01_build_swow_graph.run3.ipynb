{
 "cells": [
  {
   "cell_type": "markdown",
   "id": "5467a136",
   "metadata": {},
   "source": [
    "# PCS‑HELIO v4.3 — 01 · Build SWOW Graph\n",
    "Ingest SWOW CSV → build graph; save tidy edges and QA."
   ]
  },
  {
   "cell_type": "code",
   "execution_count": 1,
   "id": "f974ce14",
   "metadata": {
    "execution": {
     "iopub.execute_input": "2025-09-02T12:25:14.507776Z",
     "iopub.status.busy": "2025-09-02T12:25:14.507592Z",
     "iopub.status.idle": "2025-09-02T12:25:14.931565Z",
     "shell.execute_reply": "2025-09-02T12:25:14.930853Z"
    }
   },
   "outputs": [
    {
     "name": "stdout",
     "output_type": "stream",
     "text": [
      "[STYLE] _style.css not found; proceeding.\n",
      "[Preflight] Python: 3.12.11 | Platform: Linux-5.15.167.4-microsoft-standard-WSL2-x86_64-with-glibc2.35\n",
      "[Preflight] pandas: 2.3.2 | numpy: 1.26.4\n",
      "[Preflight] Folders ready.\n"
     ]
    },
    {
     "data": {
      "text/html": [
       "<pre>\n",
       "**Notebook Contract (PCS‑HELIO v4.3)**\n",
       "- IMRaD sections (Intro/Methods/Results/Discussion).\n",
       "- RUN_MODE ∈ {'sample','full'}; sample must run fast and never crash.\n",
       "- Required outputs saved under data/processed/** and reports/**.\n",
       "- QA cell with asserts (columns present, row counts, coverage).\n",
       "- Seeds fixed; no absolute paths; public data only.\n",
       "</pre>"
      ],
      "text/plain": [
       "<IPython.core.display.HTML object>"
      ]
     },
     "metadata": {},
     "output_type": "display_data"
    },
    {
     "name": "stdout",
     "output_type": "stream",
     "text": [
      "[01] Env ready — RUN_MODE= full\n"
     ]
    }
   ],
   "source": [
    "from pathlib import Path; import json, re, os, sys\n",
    "import pandas as pd, numpy as np\n",
    "# Ensure repo root on sys.path so 'notebooks._fragments' resolves regardless of CWD\n",
    "ROOT = Path.cwd()\n",
    "if (ROOT/'notebooks'/'_fragments.py').exists():\n",
    "    sys.path.insert(0, str(ROOT))\n",
    "elif (ROOT.parent/'notebooks'/'_fragments.py').exists():\n",
    "    sys.path.insert(0, str(ROOT.parent))\n",
    "try:\n",
    "    from notebooks._fragments import apply_style, preflight_checks, print_contract, save_manifest\n",
    "except Exception as e:\n",
    "    print('[preflight] Failed importing notebooks._fragments:', e)\n",
    "    def apply_style(): pass\n",
    "    def preflight_checks(): pass\n",
    "    def print_contract(): pass\n",
    "    def save_manifest(path, payload): Path(path).parent.mkdir(parents=True, exist_ok=True); Path(path).write_text(json.dumps(payload, indent=2))\n",
    "apply_style(); preflight_checks(); print_contract()\n",
    "RUN_MODE = os.environ.get('RUN_MODE','sample')\n",
    "BASE=Path('.') ; DATA=BASE/'data' ; RAW=DATA/'raw_public'/'swow' ; PROC=DATA/'processed' ; RPTS=BASE/'reports' ; FIG=BASE/'figures'/'metrics'\n",
    "(PROC/'swow').mkdir(parents=True, exist_ok=True); RPTS.mkdir(parents=True, exist_ok=True)\n",
    "print('[01] Env ready — RUN_MODE=', RUN_MODE)\n"
   ]
  },
  {
   "cell_type": "code",
   "execution_count": 2,
   "id": "52dc185a",
   "metadata": {
    "execution": {
     "iopub.execute_input": "2025-09-02T12:25:14.934284Z",
     "iopub.status.busy": "2025-09-02T12:25:14.934004Z",
     "iopub.status.idle": "2025-09-02T12:25:14.945613Z",
     "shell.execute_reply": "2025-09-02T12:25:14.944756Z"
    }
   },
   "outputs": [
    {
     "name": "stdout",
     "output_type": "stream",
     "text": [
      "[01] No SWOW CSV found; creating synthetic sample (sample mode).\n",
      "[01] Edges normalized: (5, 2)\n",
      "[01] Wrote data/processed/swow/swow_tidy.csv\n"
     ]
    }
   ],
   "source": [
    "# Locate a SWOW CSV (en) under data/raw_public/swow\n",
    "cands = list(RAW.rglob('*.csv'))\n",
    "if not cands:\n",
    "    print('[01] No SWOW CSV found; creating synthetic sample (sample mode).')\n",
    "    edges = pd.DataFrame({'cue':['cat','cat','dog','dog','music'], 'response':['pet','meow','pet','bark','sound']})\n",
    "else:\n",
    "    cands_sorted = sorted(cands, key=lambda p: (not re.search(r'(?i)en|english', p.name), len(p.name)))\n",
    "    swow_path = cands_sorted[0]\n",
    "    # In sample mode, read a limited chunk to keep fast\n",
    "    if RUN_MODE=='sample':\n",
    "        try:\n",
    "            edges = pd.read_csv(swow_path, nrows=20000)\n",
    "        except Exception:\n",
    "            edges = pd.read_csv(swow_path)\n",
    "    else:\n",
    "        edges = pd.read_csv(swow_path)\n",
    "    print(f'[01] Loaded SWOW: {swow_path} rows={len(edges)}')\n",
    "# Map columns to cue/response\n",
    "if len(edges)>0:\n",
    "    cols = {c.lower(): c for c in edges.columns}\n",
    "    cue = cols.get('cue') or cols.get('word') or cols.get('source')\n",
    "    resp = cols.get('response') or cols.get('target') or cols.get('associate')\n",
    "    if cue and resp:\n",
    "        edges = edges.rename(columns={cue:'cue', resp:'response'})[['cue','response']].dropna()\n",
    "    else:\n",
    "        edges = edges[['cue','response']] if set(['cue','response']).issubset(edges.columns) else edges\n",
    "# In sample mode, optionally downsample edges further\n",
    "if RUN_MODE=='sample' and len(edges)>50000:\n",
    "    edges = edges.sample(n=50000, random_state=1234)\n",
    "print('[01] Edges normalized:', None if edges is None else edges.shape)\n",
    "# Save tidy edge list\n",
    "tidy_path = PROC/'swow'/'swow_tidy.csv'\n",
    "edges.to_csv(tidy_path, index=False)\n",
    "print('[01] Wrote', tidy_path)\n"
   ]
  },
  {
   "cell_type": "code",
   "execution_count": 3,
   "id": "7e784f91",
   "metadata": {
    "execution": {
     "iopub.execute_input": "2025-09-02T12:25:14.947588Z",
     "iopub.status.busy": "2025-09-02T12:25:14.947425Z",
     "iopub.status.idle": "2025-09-02T12:25:15.054858Z",
     "shell.execute_reply": "2025-09-02T12:25:15.054098Z"
    }
   },
   "outputs": [
    {
     "name": "stdout",
     "output_type": "stream",
     "text": [
      "[MANIFEST] Wrote reports/swow_manifest.json\n",
      "[01] Saved QA and graph\n"
     ]
    }
   ],
   "source": [
    "# Build and persist a simple directed weighted graph (counts as weights)\n",
    "import networkx as nx, pickle\n",
    "G = nx.DiGraph()\n",
    "if not edges.empty:\n",
    "    for _, r in edges.groupby(['cue','response']).size().reset_index(name='w').iterrows():\n",
    "        G.add_edge(r['cue'], r['response'], weight=float(r['w']))\n",
    "graph_path = PROC/'swow_graph_en.pkl'\n",
    "pickle.dump(G, open(graph_path, 'wb'))\n",
    "# QA manifest\n",
    "qa = {'rows': int(len(edges)), 'unique_nodes': int(pd.unique(pd.concat([edges['cue'], edges['response']])).size), 'edge_csv': str(tidy_path), 'graph_pkl': str(graph_path)}\n",
    "(RPTS/'qa_swow.json').write_text(json.dumps(qa, indent=2))\n",
    "save_manifest(RPTS/'swow_manifest.json', qa)\n",
    "print('[01] Saved QA and graph')\n"
   ]
  }
 ],
 "metadata": {
  "kernelspec": {
   "display_name": "Python 3",
   "language": "python",
   "name": "python3"
  },
  "language_info": {
   "codemirror_mode": {
    "name": "ipython",
    "version": 3
   },
   "file_extension": ".py",
   "mimetype": "text/x-python",
   "name": "python",
   "nbconvert_exporter": "python",
   "pygments_lexer": "ipython3",
   "version": "3.12.11"
  }
 },
 "nbformat": 4,
 "nbformat_minor": 5
}
